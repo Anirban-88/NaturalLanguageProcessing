{
 "cells": [
  {
   "cell_type": "markdown",
   "metadata": {},
   "source": [
    "# CONTEXT: \n",
    "Classification is probably the most popular task that you would deal with in real life. Text in the form of blogs, posts, articles, etc. \n",
    "are written every second. It is a challenge to predict the information about the writer without knowing about him/her. We are going to create a \n",
    "classifier that predicts multiple features of the author of a given text. We have designed it as a Multi label classification problem.\n",
    "\n",
    "# DATA DESCRIPTION: \n",
    "Over 600,000 posts from more than 19 thousand bloggers The Blog Authorship Corpus consists of the collected posts of \n",
    "19,320 bloggers gathered from blogger.com in August 2004. The corpus incorporates a total of 681,288 posts and over 140 million words - or \n",
    "approximately 35 posts and 7250 words per person. Each blog is presented as a separate file, the name of which indicates a blogger id# and \n",
    "the blogger’s self-provided gender, age, industry, and astrological sign. (All are labelled for gender and age but for many, industry and/or sign is \n",
    "marked as unknown.) All bloggers included in the corpus fall into one of three age groups:\n",
    "• 8240 \"10s\" blogs (ages 13-17),\n",
    "• 8086 \"20s\" blogs(ages 23-27) and\n",
    "• 2994 \"30s\" blogs (ages 33-47)\n",
    "• For each age group, there is an equal number of male and female bloggers. Each blog in the corpus includes at least 200 occurrences of \n",
    "common English words. All formatting has been stripped with two exceptions. Individual posts within a single blogger are separated by the \n",
    "date of the following post and links within a post are denoted by the label url link.\n",
    "\n",
    "# OBJECTIVE: \n",
    "To build a NLP classifier which can use input text parameters to determine the label/s of the blog. Specific to this case \n",
    "study, you can consider the text of the blog: ‘text’ feature as independent variable and ‘topic’ as dependent variable."
   ]
  },
  {
   "cell_type": "code",
   "execution_count": 1,
   "metadata": {
    "id": "uJ_xPgpsHAvx"
   },
   "outputs": [],
   "source": [
    "# importing necessary packages\n",
    "import os\n",
    "import tensorflow as tf\n",
    "import tensorflow.keras as keras\n",
    "import tensorflow.keras.layers \n",
    "import random\n",
    "import pandas as pd\n",
    "import numpy as np\n",
    "   \n",
    "import statistics\n",
    "import seaborn as sns # For Data Visualization \n",
    "import matplotlib.pyplot as plt # Necessary module for plotting purpose\n",
    "plt.rcParams[\"patch.force_edgecolor\"] = True\n",
    "%matplotlib inline\n",
    "\n",
    "import tensorflow as tf\n",
    "from tensorflow.keras.models import Sequential\n",
    "from tensorflow.keras.layers import Dense, Activation, LeakyReLU, Dropout, BatchNormalization, Flatten, Conv2D, MaxPool2D, GlobalMaxPooling2D\n",
    "from tensorflow.keras import optimizers\n",
    "from tensorflow.keras.utils import to_categorical\n",
    "from tensorflow import keras \n",
    "from tensorflow.keras.wrappers.scikit_learn import KerasClassifier, KerasRegressor\n",
    "from tensorflow.keras.callbacks import EarlyStopping, ModelCheckpoint\n",
    "from tensorflow.keras.optimizers import Adam,SGD,RMSprop,Adagrad\n",
    "\n",
    "# getting methods for confusion matrix, F1 score, Accuracy Score etc.\n",
    "from sklearn.metrics import confusion_matrix, f1_score, accuracy_score, classification_report, make_scorer,recall_score,roc_auc_score \n",
    "from sklearn import metrics\n",
    "from sklearn.metrics import mean_absolute_error\n",
    "\n",
    "import warnings\n",
    "warnings.simplefilter('ignore')"
   ]
  },
  {
   "cell_type": "code",
   "execution_count": 2,
   "metadata": {
    "colab": {
     "base_uri": "https://localhost:8080/"
    },
    "id": "WcbBiqwOFGkZ",
    "outputId": "01d230fb-2868-414a-fed7-326ec871a6a5"
   },
   "outputs": [
    {
     "name": "stderr",
     "output_type": "stream",
     "text": [
      "[nltk_data] Downloading package wordnet to /root/nltk_data...\n",
      "[nltk_data] Downloading package stopwords to /root/nltk_data...\n",
      "[nltk_data]   Unzipping corpora/stopwords.zip.\n",
      "[nltk_data] Downloading package punkt to /root/nltk_data...\n",
      "[nltk_data]   Unzipping tokenizers/punkt.zip.\n",
      "[nltk_data] Downloading package words to /root/nltk_data...\n",
      "[nltk_data]   Unzipping corpora/words.zip.\n"
     ]
    }
   ],
   "source": [
    "import json\n",
    "import nltk\n",
    "import string\n",
    "import re # regular expression\n",
    "from sklearn.preprocessing import MultiLabelBinarizer\n",
    "from sklearn.feature_extraction.text import CountVectorizer, TfidfTransformer, TfidfVectorizer\n",
    "\n",
    "import sklearn.metrics\n",
    "\n",
    "\n",
    "from sklearn.metrics import multilabel_confusion_matrix as multilabel_confusion_matrix\n",
    "\n",
    "nltk.download('wordnet')\n",
    "nltk.download('stopwords')\n",
    "nltk.download('punkt')\n",
    "nltk.download('words')\n",
    "from nltk.stem.wordnet import WordNetLemmatizer\n",
    "lmtzr = WordNetLemmatizer()\n",
    "\n",
    "# Remove stopwords\n",
    "from nltk.corpus import stopwords\n",
    "stopwords = set(stopwords.words('english'))\n",
    "\n",
    "# for stemming of the sentence in part 1 of the project\n",
    "from nltk.stem.snowball import SnowballStemmer"
   ]
  },
  {
   "cell_type": "code",
   "execution_count": 3,
   "metadata": {
    "colab": {
     "base_uri": "https://localhost:8080/"
    },
    "id": "mb5eDHsrLt1Y",
    "outputId": "1e615e69-dee0-415b-99c8-ab0ccae04c02"
   },
   "outputs": [
    {
     "name": "stdout",
     "output_type": "stream",
     "text": [
      "Mounted at /content/drive\n"
     ]
    }
   ],
   "source": [
    "from google.colab import drive\n",
    "drive.mount('/content/drive')"
   ]
  },
  {
   "cell_type": "code",
   "execution_count": 4,
   "metadata": {
    "id": "yPUVrp02L4j6"
   },
   "outputs": [],
   "source": [
    "os.chdir('/content/drive/My Drive/PyData/NLP_1')"
   ]
  },
  {
   "cell_type": "code",
   "execution_count": 5,
   "metadata": {
    "id": "S2yyMWJLK9K8"
   },
   "outputs": [],
   "source": [
    "#load the full set of the data\n",
    "part1_data = pd.read_csv(\"blogtext.csv\")"
   ]
  },
  {
   "cell_type": "code",
   "execution_count": 6,
   "metadata": {
    "colab": {
     "base_uri": "https://localhost:8080/"
    },
    "id": "ueNlbi-BLFN-",
    "outputId": "3062df8d-e306-486a-d69c-b2d1d1bedd9a"
   },
   "outputs": [
    {
     "name": "stdout",
     "output_type": "stream",
     "text": [
      "The shape of the dataframe is (681284, 7)\n"
     ]
    }
   ],
   "source": [
    "# check the shape of the data frame by using the shape attribute of the data frame\n",
    "print('The shape of the dataframe is',part1_data.shape)"
   ]
  },
  {
   "cell_type": "code",
   "execution_count": 7,
   "metadata": {
    "colab": {
     "base_uri": "https://localhost:8080/",
     "height": 363
    },
    "id": "EUmGD5VTSO6l",
    "outputId": "9f8f5227-7e22-420c-b045-35075c1bd437"
   },
   "outputs": [
    {
     "data": {
      "text/html": [
       "\n",
       "  <div id=\"df-b421a71f-8d6e-4e3f-9c5d-cc8718820c41\">\n",
       "    <div class=\"colab-df-container\">\n",
       "      <div>\n",
       "<style scoped>\n",
       "    .dataframe tbody tr th:only-of-type {\n",
       "        vertical-align: middle;\n",
       "    }\n",
       "\n",
       "    .dataframe tbody tr th {\n",
       "        vertical-align: top;\n",
       "    }\n",
       "\n",
       "    .dataframe thead th {\n",
       "        text-align: right;\n",
       "    }\n",
       "</style>\n",
       "<table border=\"1\" class=\"dataframe\">\n",
       "  <thead>\n",
       "    <tr style=\"text-align: right;\">\n",
       "      <th></th>\n",
       "      <th>id</th>\n",
       "      <th>gender</th>\n",
       "      <th>age</th>\n",
       "      <th>topic</th>\n",
       "      <th>sign</th>\n",
       "      <th>date</th>\n",
       "      <th>text</th>\n",
       "    </tr>\n",
       "  </thead>\n",
       "  <tbody>\n",
       "    <tr>\n",
       "      <th>652813</th>\n",
       "      <td>3287494</td>\n",
       "      <td>female</td>\n",
       "      <td>15</td>\n",
       "      <td>Student</td>\n",
       "      <td>Capricorn</td>\n",
       "      <td>10,May,2004</td>\n",
       "      <td>Well hello there,  It is me D...</td>\n",
       "    </tr>\n",
       "    <tr>\n",
       "      <th>543988</th>\n",
       "      <td>4056700</td>\n",
       "      <td>female</td>\n",
       "      <td>25</td>\n",
       "      <td>indUnk</td>\n",
       "      <td>Sagittarius</td>\n",
       "      <td>29,July,2004</td>\n",
       "      <td>Urgh...I'm so tired of people making a ...</td>\n",
       "    </tr>\n",
       "    <tr>\n",
       "      <th>557509</th>\n",
       "      <td>1694057</td>\n",
       "      <td>female</td>\n",
       "      <td>25</td>\n",
       "      <td>Arts</td>\n",
       "      <td>Capricorn</td>\n",
       "      <td>12,May,2004</td>\n",
       "      <td>you give me fever    i went to  urlLin...</td>\n",
       "    </tr>\n",
       "    <tr>\n",
       "      <th>113199</th>\n",
       "      <td>939313</td>\n",
       "      <td>male</td>\n",
       "      <td>25</td>\n",
       "      <td>Marketing</td>\n",
       "      <td>Aries</td>\n",
       "      <td>01,July,2004</td>\n",
       "      <td>Holland are out..</td>\n",
       "    </tr>\n",
       "    <tr>\n",
       "      <th>669776</th>\n",
       "      <td>3458322</td>\n",
       "      <td>male</td>\n",
       "      <td>35</td>\n",
       "      <td>Military</td>\n",
       "      <td>Virgo</td>\n",
       "      <td>29,June,2004</td>\n",
       "      <td>I just don't understand why terro...</td>\n",
       "    </tr>\n",
       "    <tr>\n",
       "      <th>576500</th>\n",
       "      <td>2301338</td>\n",
       "      <td>male</td>\n",
       "      <td>27</td>\n",
       "      <td>Engineering</td>\n",
       "      <td>Virgo</td>\n",
       "      <td>28,April,2004</td>\n",
       "      <td>Exit polls - India Votes 2004   ...</td>\n",
       "    </tr>\n",
       "    <tr>\n",
       "      <th>480928</th>\n",
       "      <td>585884</td>\n",
       "      <td>male</td>\n",
       "      <td>17</td>\n",
       "      <td>indUnk</td>\n",
       "      <td>Sagittarius</td>\n",
       "      <td>02,August,2004</td>\n",
       "      <td>ATTENTION: Estey had fun!</td>\n",
       "    </tr>\n",
       "    <tr>\n",
       "      <th>126734</th>\n",
       "      <td>2648549</td>\n",
       "      <td>female</td>\n",
       "      <td>23</td>\n",
       "      <td>indUnk</td>\n",
       "      <td>Leo</td>\n",
       "      <td>31,July,2004</td>\n",
       "      <td>Saya akan bicara kebebasan. Menantang a...</td>\n",
       "    </tr>\n",
       "    <tr>\n",
       "      <th>165926</th>\n",
       "      <td>3762397</td>\n",
       "      <td>male</td>\n",
       "      <td>27</td>\n",
       "      <td>indUnk</td>\n",
       "      <td>Gemini</td>\n",
       "      <td>26,July,2004</td>\n",
       "      <td>Divine: adj. having the nature o...</td>\n",
       "    </tr>\n",
       "    <tr>\n",
       "      <th>502039</th>\n",
       "      <td>3194640</td>\n",
       "      <td>male</td>\n",
       "      <td>23</td>\n",
       "      <td>Student</td>\n",
       "      <td>Libra</td>\n",
       "      <td>15,July,2004</td>\n",
       "      <td>I just barely finished my pap...</td>\n",
       "    </tr>\n",
       "  </tbody>\n",
       "</table>\n",
       "</div>\n",
       "      <button class=\"colab-df-convert\" onclick=\"convertToInteractive('df-b421a71f-8d6e-4e3f-9c5d-cc8718820c41')\"\n",
       "              title=\"Convert this dataframe to an interactive table.\"\n",
       "              style=\"display:none;\">\n",
       "        \n",
       "  <svg xmlns=\"http://www.w3.org/2000/svg\" height=\"24px\"viewBox=\"0 0 24 24\"\n",
       "       width=\"24px\">\n",
       "    <path d=\"M0 0h24v24H0V0z\" fill=\"none\"/>\n",
       "    <path d=\"M18.56 5.44l.94 2.06.94-2.06 2.06-.94-2.06-.94-.94-2.06-.94 2.06-2.06.94zm-11 1L8.5 8.5l.94-2.06 2.06-.94-2.06-.94L8.5 2.5l-.94 2.06-2.06.94zm10 10l.94 2.06.94-2.06 2.06-.94-2.06-.94-.94-2.06-.94 2.06-2.06.94z\"/><path d=\"M17.41 7.96l-1.37-1.37c-.4-.4-.92-.59-1.43-.59-.52 0-1.04.2-1.43.59L10.3 9.45l-7.72 7.72c-.78.78-.78 2.05 0 2.83L4 21.41c.39.39.9.59 1.41.59.51 0 1.02-.2 1.41-.59l7.78-7.78 2.81-2.81c.8-.78.8-2.07 0-2.86zM5.41 20L4 18.59l7.72-7.72 1.47 1.35L5.41 20z\"/>\n",
       "  </svg>\n",
       "      </button>\n",
       "      \n",
       "  <style>\n",
       "    .colab-df-container {\n",
       "      display:flex;\n",
       "      flex-wrap:wrap;\n",
       "      gap: 12px;\n",
       "    }\n",
       "\n",
       "    .colab-df-convert {\n",
       "      background-color: #E8F0FE;\n",
       "      border: none;\n",
       "      border-radius: 50%;\n",
       "      cursor: pointer;\n",
       "      display: none;\n",
       "      fill: #1967D2;\n",
       "      height: 32px;\n",
       "      padding: 0 0 0 0;\n",
       "      width: 32px;\n",
       "    }\n",
       "\n",
       "    .colab-df-convert:hover {\n",
       "      background-color: #E2EBFA;\n",
       "      box-shadow: 0px 1px 2px rgba(60, 64, 67, 0.3), 0px 1px 3px 1px rgba(60, 64, 67, 0.15);\n",
       "      fill: #174EA6;\n",
       "    }\n",
       "\n",
       "    [theme=dark] .colab-df-convert {\n",
       "      background-color: #3B4455;\n",
       "      fill: #D2E3FC;\n",
       "    }\n",
       "\n",
       "    [theme=dark] .colab-df-convert:hover {\n",
       "      background-color: #434B5C;\n",
       "      box-shadow: 0px 1px 3px 1px rgba(0, 0, 0, 0.15);\n",
       "      filter: drop-shadow(0px 1px 2px rgba(0, 0, 0, 0.3));\n",
       "      fill: #FFFFFF;\n",
       "    }\n",
       "  </style>\n",
       "\n",
       "      <script>\n",
       "        const buttonEl =\n",
       "          document.querySelector('#df-b421a71f-8d6e-4e3f-9c5d-cc8718820c41 button.colab-df-convert');\n",
       "        buttonEl.style.display =\n",
       "          google.colab.kernel.accessAllowed ? 'block' : 'none';\n",
       "\n",
       "        async function convertToInteractive(key) {\n",
       "          const element = document.querySelector('#df-b421a71f-8d6e-4e3f-9c5d-cc8718820c41');\n",
       "          const dataTable =\n",
       "            await google.colab.kernel.invokeFunction('convertToInteractive',\n",
       "                                                     [key], {});\n",
       "          if (!dataTable) return;\n",
       "\n",
       "          const docLinkHtml = 'Like what you see? Visit the ' +\n",
       "            '<a target=\"_blank\" href=https://colab.research.google.com/notebooks/data_table.ipynb>data table notebook</a>'\n",
       "            + ' to learn more about interactive tables.';\n",
       "          element.innerHTML = '';\n",
       "          dataTable['output_type'] = 'display_data';\n",
       "          await google.colab.output.renderOutput(dataTable, element);\n",
       "          const docLink = document.createElement('div');\n",
       "          docLink.innerHTML = docLinkHtml;\n",
       "          element.appendChild(docLink);\n",
       "        }\n",
       "      </script>\n",
       "    </div>\n",
       "  </div>\n",
       "  "
      ],
      "text/plain": [
       "             id  gender  age        topic         sign            date  \\\n",
       "652813  3287494  female   15      Student    Capricorn     10,May,2004   \n",
       "543988  4056700  female   25       indUnk  Sagittarius    29,July,2004   \n",
       "557509  1694057  female   25         Arts    Capricorn     12,May,2004   \n",
       "113199   939313    male   25    Marketing        Aries    01,July,2004   \n",
       "669776  3458322    male   35     Military        Virgo    29,June,2004   \n",
       "576500  2301338    male   27  Engineering        Virgo   28,April,2004   \n",
       "480928   585884    male   17       indUnk  Sagittarius  02,August,2004   \n",
       "126734  2648549  female   23       indUnk          Leo    31,July,2004   \n",
       "165926  3762397    male   27       indUnk       Gemini    26,July,2004   \n",
       "502039  3194640    male   23      Student        Libra    15,July,2004   \n",
       "\n",
       "                                                     text  \n",
       "652813                   Well hello there,  It is me D...  \n",
       "543988         Urgh...I'm so tired of people making a ...  \n",
       "557509          you give me fever    i went to  urlLin...  \n",
       "113199                         Holland are out..           \n",
       "669776               I just don't understand why terro...  \n",
       "576500                Exit polls - India Votes 2004   ...  \n",
       "480928                 ATTENTION: Estey had fun!           \n",
       "126734         Saya akan bicara kebebasan. Menantang a...  \n",
       "165926                Divine: adj. having the nature o...  \n",
       "502039                   I just barely finished my pap...  "
      ]
     },
     "execution_count": 7,
     "metadata": {},
     "output_type": "execute_result"
    }
   ],
   "source": [
    "#check if the data frame is properly loaded using the sample() method\n",
    "part1_data.sample(10)\n"
   ]
  },
  {
   "cell_type": "code",
   "execution_count": 8,
   "metadata": {
    "id": "tOKXY1gKSStv"
   },
   "outputs": [],
   "source": [
    "#dropping duplicates and resetting index\n",
    "\n",
    "part1_data.drop_duplicates(subset=\"text\",inplace=True)\n",
    "part1_data.reset_index(inplace = True,drop=True)"
   ]
  },
  {
   "cell_type": "code",
   "execution_count": 9,
   "metadata": {
    "colab": {
     "base_uri": "https://localhost:8080/"
    },
    "id": "qZOmQgbQSnoE",
    "outputId": "533f7517-9ddf-4f28-8e16-3ff08a7cd8b4"
   },
   "outputs": [
    {
     "name": "stdout",
     "output_type": "stream",
     "text": [
      "The shape of the dataframe is (611652, 7)\n"
     ]
    }
   ],
   "source": [
    "#size after removal\n",
    "print('The shape of the dataframe is',part1_data.shape)"
   ]
  },
  {
   "cell_type": "code",
   "execution_count": 10,
   "metadata": {
    "colab": {
     "base_uri": "https://localhost:8080/"
    },
    "id": "AeZ1Fv4jSnqc",
    "outputId": "005d2739-3d31-4165-cf98-a850dc0508b3"
   },
   "outputs": [
    {
     "data": {
      "text/plain": [
       "id        False\n",
       "gender    False\n",
       "age       False\n",
       "topic     False\n",
       "sign      False\n",
       "date      False\n",
       "text      False\n",
       "dtype: bool"
      ]
     },
     "execution_count": 10,
     "metadata": {},
     "output_type": "execute_result"
    }
   ],
   "source": [
    "# checking for null values if any\n",
    "part1_data.isna().any()"
   ]
  },
  {
   "cell_type": "code",
   "execution_count": 11,
   "metadata": {
    "id": "18udynMGF7e_"
   },
   "outputs": [],
   "source": [
    "# dropping unnecessary columns 'id' and 'date'\n",
    "part1_data.drop(['id','date'], axis=1, inplace=True)"
   ]
  },
  {
   "cell_type": "code",
   "execution_count": 12,
   "metadata": {
    "colab": {
     "base_uri": "https://localhost:8080/"
    },
    "id": "CMqE8L-ESns3",
    "outputId": "cbf9db63-970c-4180-cc5e-005588a35119"
   },
   "outputs": [
    {
     "name": "stdout",
     "output_type": "stream",
     "text": [
      "<class 'pandas.core.frame.DataFrame'>\n",
      "RangeIndex: 611652 entries, 0 to 611651\n",
      "Data columns (total 5 columns):\n",
      " #   Column  Non-Null Count   Dtype \n",
      "---  ------  --------------   ----- \n",
      " 0   gender  611652 non-null  object\n",
      " 1   age     611652 non-null  int64 \n",
      " 2   topic   611652 non-null  object\n",
      " 3   sign    611652 non-null  object\n",
      " 4   text    611652 non-null  object\n",
      "dtypes: int64(1), object(4)\n",
      "memory usage: 23.3+ MB\n"
     ]
    }
   ],
   "source": [
    "part1_data.info()"
   ]
  },
  {
   "cell_type": "code",
   "execution_count": 13,
   "metadata": {
    "colab": {
     "base_uri": "https://localhost:8080/"
    },
    "id": "61wJ925VGL3N",
    "outputId": "f84ecd1a-601f-478c-d59c-cfedc03e6fce"
   },
   "outputs": [
    {
     "name": "stdout",
     "output_type": "stream",
     "text": [
      "Unique values in the column gender are 2 \n",
      "\n",
      "Unique values in the column age are 26 \n",
      "\n",
      "Unique values in the column topic are 40 \n",
      "\n",
      "Unique values in the column sign are 12\n"
     ]
    }
   ],
   "source": [
    "#Checking no. of uique values in each column\n",
    "print('Unique values in the column gender are',part1_data['gender'].nunique(),'\\n')\n",
    "print('Unique values in the column age are',part1_data['age'].nunique(),'\\n')\n",
    "print('Unique values in the column topic are',part1_data['topic'].nunique(),'\\n')\n",
    "print('Unique values in the column sign are',part1_data['sign'].nunique())\n"
   ]
  },
  {
   "cell_type": "code",
   "execution_count": 14,
   "metadata": {
    "colab": {
     "base_uri": "https://localhost:8080/",
     "height": 394
    },
    "id": "EWQQMykcGMNk",
    "outputId": "4f00cee8-b454-4561-c6e5-71ce8faca046"
   },
   "outputs": [
    {
     "data": {
      "text/html": [
       "\n",
       "  <div id=\"df-3bdc95de-c6d2-4fc5-9055-ce1df5bc9b3e\">\n",
       "    <div class=\"colab-df-container\">\n",
       "      <div>\n",
       "<style scoped>\n",
       "    .dataframe tbody tr th:only-of-type {\n",
       "        vertical-align: middle;\n",
       "    }\n",
       "\n",
       "    .dataframe tbody tr th {\n",
       "        vertical-align: top;\n",
       "    }\n",
       "\n",
       "    .dataframe thead th {\n",
       "        text-align: right;\n",
       "    }\n",
       "</style>\n",
       "<table border=\"1\" class=\"dataframe\">\n",
       "  <thead>\n",
       "    <tr style=\"text-align: right;\">\n",
       "      <th></th>\n",
       "      <th>gender</th>\n",
       "      <th>age</th>\n",
       "      <th>topic</th>\n",
       "      <th>sign</th>\n",
       "      <th>text</th>\n",
       "    </tr>\n",
       "  </thead>\n",
       "  <tbody>\n",
       "    <tr>\n",
       "      <th>count</th>\n",
       "      <td>611652</td>\n",
       "      <td>611652.000000</td>\n",
       "      <td>611652</td>\n",
       "      <td>611652</td>\n",
       "      <td>611652</td>\n",
       "    </tr>\n",
       "    <tr>\n",
       "      <th>unique</th>\n",
       "      <td>2</td>\n",
       "      <td>NaN</td>\n",
       "      <td>40</td>\n",
       "      <td>12</td>\n",
       "      <td>611652</td>\n",
       "    </tr>\n",
       "    <tr>\n",
       "      <th>top</th>\n",
       "      <td>female</td>\n",
       "      <td>NaN</td>\n",
       "      <td>indUnk</td>\n",
       "      <td>Cancer</td>\n",
       "      <td>Info has been found (+/- 100 pages,...</td>\n",
       "    </tr>\n",
       "    <tr>\n",
       "      <th>freq</th>\n",
       "      <td>307352</td>\n",
       "      <td>NaN</td>\n",
       "      <td>230835</td>\n",
       "      <td>60263</td>\n",
       "      <td>1</td>\n",
       "    </tr>\n",
       "    <tr>\n",
       "      <th>mean</th>\n",
       "      <td>NaN</td>\n",
       "      <td>24.160192</td>\n",
       "      <td>NaN</td>\n",
       "      <td>NaN</td>\n",
       "      <td>NaN</td>\n",
       "    </tr>\n",
       "    <tr>\n",
       "      <th>std</th>\n",
       "      <td>NaN</td>\n",
       "      <td>7.872840</td>\n",
       "      <td>NaN</td>\n",
       "      <td>NaN</td>\n",
       "      <td>NaN</td>\n",
       "    </tr>\n",
       "    <tr>\n",
       "      <th>min</th>\n",
       "      <td>NaN</td>\n",
       "      <td>13.000000</td>\n",
       "      <td>NaN</td>\n",
       "      <td>NaN</td>\n",
       "      <td>NaN</td>\n",
       "    </tr>\n",
       "    <tr>\n",
       "      <th>25%</th>\n",
       "      <td>NaN</td>\n",
       "      <td>17.000000</td>\n",
       "      <td>NaN</td>\n",
       "      <td>NaN</td>\n",
       "      <td>NaN</td>\n",
       "    </tr>\n",
       "    <tr>\n",
       "      <th>50%</th>\n",
       "      <td>NaN</td>\n",
       "      <td>24.000000</td>\n",
       "      <td>NaN</td>\n",
       "      <td>NaN</td>\n",
       "      <td>NaN</td>\n",
       "    </tr>\n",
       "    <tr>\n",
       "      <th>75%</th>\n",
       "      <td>NaN</td>\n",
       "      <td>27.000000</td>\n",
       "      <td>NaN</td>\n",
       "      <td>NaN</td>\n",
       "      <td>NaN</td>\n",
       "    </tr>\n",
       "    <tr>\n",
       "      <th>max</th>\n",
       "      <td>NaN</td>\n",
       "      <td>48.000000</td>\n",
       "      <td>NaN</td>\n",
       "      <td>NaN</td>\n",
       "      <td>NaN</td>\n",
       "    </tr>\n",
       "  </tbody>\n",
       "</table>\n",
       "</div>\n",
       "      <button class=\"colab-df-convert\" onclick=\"convertToInteractive('df-3bdc95de-c6d2-4fc5-9055-ce1df5bc9b3e')\"\n",
       "              title=\"Convert this dataframe to an interactive table.\"\n",
       "              style=\"display:none;\">\n",
       "        \n",
       "  <svg xmlns=\"http://www.w3.org/2000/svg\" height=\"24px\"viewBox=\"0 0 24 24\"\n",
       "       width=\"24px\">\n",
       "    <path d=\"M0 0h24v24H0V0z\" fill=\"none\"/>\n",
       "    <path d=\"M18.56 5.44l.94 2.06.94-2.06 2.06-.94-2.06-.94-.94-2.06-.94 2.06-2.06.94zm-11 1L8.5 8.5l.94-2.06 2.06-.94-2.06-.94L8.5 2.5l-.94 2.06-2.06.94zm10 10l.94 2.06.94-2.06 2.06-.94-2.06-.94-.94-2.06-.94 2.06-2.06.94z\"/><path d=\"M17.41 7.96l-1.37-1.37c-.4-.4-.92-.59-1.43-.59-.52 0-1.04.2-1.43.59L10.3 9.45l-7.72 7.72c-.78.78-.78 2.05 0 2.83L4 21.41c.39.39.9.59 1.41.59.51 0 1.02-.2 1.41-.59l7.78-7.78 2.81-2.81c.8-.78.8-2.07 0-2.86zM5.41 20L4 18.59l7.72-7.72 1.47 1.35L5.41 20z\"/>\n",
       "  </svg>\n",
       "      </button>\n",
       "      \n",
       "  <style>\n",
       "    .colab-df-container {\n",
       "      display:flex;\n",
       "      flex-wrap:wrap;\n",
       "      gap: 12px;\n",
       "    }\n",
       "\n",
       "    .colab-df-convert {\n",
       "      background-color: #E8F0FE;\n",
       "      border: none;\n",
       "      border-radius: 50%;\n",
       "      cursor: pointer;\n",
       "      display: none;\n",
       "      fill: #1967D2;\n",
       "      height: 32px;\n",
       "      padding: 0 0 0 0;\n",
       "      width: 32px;\n",
       "    }\n",
       "\n",
       "    .colab-df-convert:hover {\n",
       "      background-color: #E2EBFA;\n",
       "      box-shadow: 0px 1px 2px rgba(60, 64, 67, 0.3), 0px 1px 3px 1px rgba(60, 64, 67, 0.15);\n",
       "      fill: #174EA6;\n",
       "    }\n",
       "\n",
       "    [theme=dark] .colab-df-convert {\n",
       "      background-color: #3B4455;\n",
       "      fill: #D2E3FC;\n",
       "    }\n",
       "\n",
       "    [theme=dark] .colab-df-convert:hover {\n",
       "      background-color: #434B5C;\n",
       "      box-shadow: 0px 1px 3px 1px rgba(0, 0, 0, 0.15);\n",
       "      filter: drop-shadow(0px 1px 2px rgba(0, 0, 0, 0.3));\n",
       "      fill: #FFFFFF;\n",
       "    }\n",
       "  </style>\n",
       "\n",
       "      <script>\n",
       "        const buttonEl =\n",
       "          document.querySelector('#df-3bdc95de-c6d2-4fc5-9055-ce1df5bc9b3e button.colab-df-convert');\n",
       "        buttonEl.style.display =\n",
       "          google.colab.kernel.accessAllowed ? 'block' : 'none';\n",
       "\n",
       "        async function convertToInteractive(key) {\n",
       "          const element = document.querySelector('#df-3bdc95de-c6d2-4fc5-9055-ce1df5bc9b3e');\n",
       "          const dataTable =\n",
       "            await google.colab.kernel.invokeFunction('convertToInteractive',\n",
       "                                                     [key], {});\n",
       "          if (!dataTable) return;\n",
       "\n",
       "          const docLinkHtml = 'Like what you see? Visit the ' +\n",
       "            '<a target=\"_blank\" href=https://colab.research.google.com/notebooks/data_table.ipynb>data table notebook</a>'\n",
       "            + ' to learn more about interactive tables.';\n",
       "          element.innerHTML = '';\n",
       "          dataTable['output_type'] = 'display_data';\n",
       "          await google.colab.output.renderOutput(dataTable, element);\n",
       "          const docLink = document.createElement('div');\n",
       "          docLink.innerHTML = docLinkHtml;\n",
       "          element.appendChild(docLink);\n",
       "        }\n",
       "      </script>\n",
       "    </div>\n",
       "  </div>\n",
       "  "
      ],
      "text/plain": [
       "        gender            age   topic    sign  \\\n",
       "count   611652  611652.000000  611652  611652   \n",
       "unique       2            NaN      40      12   \n",
       "top     female            NaN  indUnk  Cancer   \n",
       "freq    307352            NaN  230835   60263   \n",
       "mean       NaN      24.160192     NaN     NaN   \n",
       "std        NaN       7.872840     NaN     NaN   \n",
       "min        NaN      13.000000     NaN     NaN   \n",
       "25%        NaN      17.000000     NaN     NaN   \n",
       "50%        NaN      24.000000     NaN     NaN   \n",
       "75%        NaN      27.000000     NaN     NaN   \n",
       "max        NaN      48.000000     NaN     NaN   \n",
       "\n",
       "                                                     text  \n",
       "count                                              611652  \n",
       "unique                                             611652  \n",
       "top                Info has been found (+/- 100 pages,...  \n",
       "freq                                                    1  \n",
       "mean                                                  NaN  \n",
       "std                                                   NaN  \n",
       "min                                                   NaN  \n",
       "25%                                                   NaN  \n",
       "50%                                                   NaN  \n",
       "75%                                                   NaN  \n",
       "max                                                   NaN  "
      ]
     },
     "execution_count": 14,
     "metadata": {},
     "output_type": "execute_result"
    }
   ],
   "source": [
    "part1_data.describe(include='all')"
   ]
  },
  {
   "cell_type": "markdown",
   "metadata": {
    "id": "yrh0tDMIa3EW"
   },
   "source": [
    "**EDA:**\n",
    "Univariate analysis"
   ]
  },
  {
   "cell_type": "code",
   "execution_count": 15,
   "metadata": {
    "colab": {
     "base_uri": "https://localhost:8080/",
     "height": 279
    },
    "id": "-TJgWYW-SnvQ",
    "outputId": "bc9e4720-9a29-4865-c329-87b8d3877803"
   },
   "outputs": [
    {
     "data": {
      "image/png": "[encoded data removed]",
      "text/plain": [
       "<Figure size 432x288 with 1 Axes>"
      ]
     },
     "metadata": {
      "needs_background": "light"
     },
     "output_type": "display_data"
    }
   ],
   "source": [
    "# Checking the distribtion of male and female\n",
    "sns.countplot(x='gender',data=part1_data);"
   ]
  },
  {
   "cell_type": "code",
   "execution_count": 16,
   "metadata": {
    "colab": {
     "base_uri": "https://localhost:8080/",
     "height": 440
    },
    "id": "2LdpkbynaLRW",
    "outputId": "9e081596-2ce2-48c4-df6e-4014dafea407"
   },
   "outputs": [
    {
     "data": {
      "image/png": "[encoded data removed]",
      "text/plain": [
       "<Figure size 1440x576 with 1 Axes>"
      ]
     },
     "metadata": {
      "needs_background": "light"
     },
     "output_type": "display_data"
    }
   ],
   "source": [
    "fig, ax = plt.subplots(figsize=(20, 8))\n",
    "sns.countplot(x='age',data=part1_data);"
   ]
  },
  {
   "cell_type": "code",
   "execution_count": 22,
   "metadata": {
    "colab": {
     "base_uri": "https://localhost:8080/",
     "height": 609
    },
    "id": "RKeRlAeZG2u9",
    "outputId": "26a69492-f4e3-4fad-9bc4-539e829d43e6"
   },
   "outputs": [
    {
     "data": {
      "text/plain": [
       "(array([ 0,  1,  2,  3,  4,  5,  6,  7,  8,  9, 10, 11, 12, 13, 14, 15, 16,\n",
       "        17, 18, 19, 20, 21, 22, 23, 24, 25, 26, 27, 28, 29, 30, 31, 32, 33,\n",
       "        34, 35, 36, 37, 38, 39]), <a list of 40 Text major ticklabel objects>)"
      ]
     },
     "execution_count": 22,
     "metadata": {},
     "output_type": "execute_result"
    },
    {
     "data": {
      "image/png": "[encoded data removed]",
      "text/plain": [
       "<Figure size 1440x576 with 1 Axes>"
      ]
     },
     "metadata": {},
     "output_type": "display_data"
    }
   ],
   "source": [
    "sns.set(rc={'figure.figsize':(15,8.27)})\n",
    "fig, ax = plt.subplots(figsize=(20, 8))\n",
    "sns.countplot(x='topic',data=part1_data)\n",
    "plt.xticks(rotation=90)"
   ]
  },
  {
   "cell_type": "code",
   "execution_count": 23,
   "metadata": {
    "colab": {
     "base_uri": "https://localhost:8080/",
     "height": 592
    },
    "id": "F4yTmWNoG2xs",
    "outputId": "94dc71b5-6c2d-411c-bf69-d41cba6fd3bc"
   },
   "outputs": [
    {
     "data": {
      "text/plain": [
       "(array([ 0,  1,  2,  3,  4,  5,  6,  7,  8,  9, 10, 11]),\n",
       " <a list of 12 Text major ticklabel objects>)"
      ]
     },
     "execution_count": 23,
     "metadata": {},
     "output_type": "execute_result"
    },
    {
     "data": {
      "image/png": "[encoded data removed]",
      "text/plain": [
       "<Figure size 1080x595.44 with 1 Axes>"
      ]
     },
     "metadata": {},
     "output_type": "display_data"
    }
   ],
   "source": [
    "sns.countplot(x='sign',data=part1_data)\n",
    "plt.xticks(rotation=45)"
   ]
  },
  {
   "cell_type": "code",
   "execution_count": 24,
   "metadata": {
    "colab": {
     "base_uri": "https://localhost:8080/",
     "height": 441
    },
    "id": "TBEg76VzG1V-",
    "outputId": "c7076bdd-37df-4a58-9f30-a3d1b8c6da6a"
   },
   "outputs": [
    {
     "data": {
      "image/png": "[encoded data removed]",
      "text/plain": [
       "<Figure size 1440x576 with 1 Axes>"
      ]
     },
     "metadata": {},
     "output_type": "display_data"
    }
   ],
   "source": [
    "ig, ax = plt.subplots(figsize=(20, 8))\n",
    "sns.countplot(x=\"age\", hue=\"gender\", data=part1_data);"
   ]
  },
  {
   "cell_type": "code",
   "execution_count": 25,
   "metadata": {
    "colab": {
     "base_uri": "https://localhost:8080/",
     "height": 555
    },
    "id": "qwt6gIr5HbBg",
    "outputId": "0ad404c1-bbaf-4221-f810-8544fe7284b7"
   },
   "outputs": [
    {
     "data": {
      "image/png": "[encoded data removed]",
      "text/plain": [
       "<Figure size 1440x576 with 1 Axes>"
      ]
     },
     "metadata": {},
     "output_type": "display_data"
    }
   ],
   "source": [
    "fig, ax = plt.subplots(figsize=(20, 8))\n",
    "sns.countplot(x=\"topic\", hue=\"gender\", data=part1_data)\n",
    "plt.xticks(rotation=90);"
   ]
  },
  {
   "cell_type": "markdown",
   "metadata": {
    "id": "Jt8NMgTYH3Q-"
   },
   "source": [
    "**Checking some of the blogs**"
   ]
  },
  {
   "cell_type": "code",
   "execution_count": 26,
   "metadata": {
    "colab": {
     "base_uri": "https://localhost:8080/",
     "height": 54
    },
    "id": "DqxwURfHHbDs",
    "outputId": "e47074d3-5a7e-4386-d62e-4cb1162d3dde"
   },
   "outputs": [
    {
     "data": {
      "application/vnd.google.colaboratory.intrinsic+json": {
       "type": "string"
      },
      "text/plain": [
       "'           Info has been found (+/- 100 pages, and 4.5 MB of .pdf files) Now i have to wait untill our team leader has processed it and learns html.         '"
      ]
     },
     "execution_count": 26,
     "metadata": {},
     "output_type": "execute_result"
    }
   ],
   "source": [
    "part1_data['text'][0]"
   ]
  },
  {
   "cell_type": "code",
   "execution_count": null,
   "metadata": {
    "colab": {
     "base_uri": "https://localhost:8080/",
     "height": 156
    },
    "id": "hJ4uu3hwHbF7",
    "outputId": "1b93eb75-dbe8-42b1-91b2-11ec6128b7e9"
   },
   "outputs": [
    {
     "data": {
      "application/vnd.google.colaboratory.intrinsic+json": {
       "type": "string"
      },
      "text/plain": [
       "\"             Ah, the Korean language...it looks so difficult at first, then as you figure out how to read Hanguel (Korea's surprisingly easy-to-learn alphabet of 24 characters) it seems so easy. Then the vocabulary starts. Oh no. Then the backwards (to us) sentence structure.  Yikes!  Luckily there are many options for us slow-witted foreigners to take on the language.  Of course I could list them here but  urlLink this JoongAng article  says a lot and there are more resources  urlLink here .    Well, if you're a guy here is some motivation for you: Jeon Ji Hyun (전지현), the latest 20-something (24, actually) star of movies and CFs (I hear this means Commercial Feature, but not positive).  I saw her latest movie on Sunday night.  It's hard to describe the name...the English version is 'Windstruck' but the Korean version is 여친소 (yeochinso) which is short for 내여자친구를소개합니다 (ne yeojachingu rul sogayhamnida) or 'I'd like to introduce you to my girlfriend'.  Surprisingly, both titles make sense.  If you like, there is a website (Korean and English, looks quite good, actually)  urlLink here .  The movie is shown in theatres with subtitles at special times, that info is  urlLink here . For a list of many of the theatres in Seoul click....  urlLink here!    urlLink    Here is a great reason to learn Korean...if I wasn't already married, that is.  I went with a few foreigners as well as a local/Korean/National...of course the Korean HAD to take a picture...so I HAVE to put it up here.   urlLink    Here we are after the movie...and before the hof/bar.     Update:  A bud of mine passed  urlLink this link  on to me. It's 전지현 in a Giordano ad. Apparently it was NOT aired in Korea (nothing XXX about it, it's all about sensibilities of some sort).         \""
      ]
     },
     "execution_count": 22,
     "metadata": {},
     "output_type": "execute_result"
    }
   ],
   "source": [
    "part1_data['text'][10]"
   ]
  },
  {
   "cell_type": "code",
   "execution_count": null,
   "metadata": {
    "colab": {
     "base_uri": "https://localhost:8080/",
     "height": 156
    },
    "id": "qhrL1daqHbIz",
    "outputId": "89682482-594d-4f35-e165-6871c5f0fbe7"
   },
   "outputs": [
    {
     "data": {
      "application/vnd.google.colaboratory.intrinsic+json": {
       "type": "string"
      },
      "text/plain": [
       "\"           In het kader van kernfusie op aarde:  MAAK JE EIGEN WATERSTOFBOM   How to build an H-Bomb From: ascott@tartarus.uwa.edu.au (Andrew Scott) Newsgroups: rec.humor Subject: How To Build An H-Bomb (humorous!) Date: 7 Feb 1994 07:41:14 GMT Organization: The University of Western Australia  Original file dated 12th November 1990. Seemed to be a transcript of a 'Seven Days' article. Poorly formatted and corrupted. I have added the text between 'examine under a microscope' and 'malleable, like gold,' as it was missing. If anyone has the full text, please distribute. I am not responsible for the accuracy of this information. Converted to HTML by Dionisio@InfiNet.com 11/13/98. (Did a little spell-checking and some minor edits too.) Stolen from  urlLink http://my.ohio.voyager.net/~dionisio/fun/m...own-h-bomb.html  and reformatted the HTML. It now validates to XHTML 1.0 Strict. How to Build an H-Bomb Making and owning an H-bomb is the kind of challenge real Americans seek. Who wants to be a passive victim of nuclear war when, with a little effort, you can be an active participant? Bomb shelters are for losers. Who wants to huddle together underground eating canned Spam? Winners want to push the button themselves. Making your own H-bomb is a big step in nuclear assertiveness training -- it's called Taking Charge. We're sure you'll enjoy the risks and the heady thrill of playing nuclear chicken. Introduction When the Feds clamped down on The Progressive magazine for attempting to publish an article on the manufacture of the hydrogen bomb, it piqued our curiosity. Was it really true that atomic and hydrogen bomb technology was so simple you could build an H-bomb in your own kitchen? Seven Days decided to find out. Food editor Barbara Ehrenreich, investigative reporter Peter Biskind, Photographer Jane Melnick and nuclear scientist Michio Kaku were given three days to cook up a workable H-bomb. They did and we have decided to share their culinary secrets with you. Not that Seven Days supports nuclear terrorism. We don't. We would prefer to die slowly from familiar poisons like low-level radiation, microwaves, DDT, DBCP, aflatoxins, PBBs, PBCs, or food dyes, rather than unexpectedly, say as hostage to a Latvian nationalist brandishing a homemade bomb. In our view the real terrorists are the governments, American, Soviet, French, Chinese, and British, that are hoarding H-bombs for their own use, and worse still, those governments (U.S., French and German) that are eagerly peddling advanced nuclear technology to countries like South Africa, Brazil, and Argentina so that they can make their own bombs. When these bombs are used, and they will be, it will be the world's big-time nuclear peddlers, along with corporate suppliers like General Electric, Westinghouse, and Gulf Oil, that we can thank for it. Gagging The Progressive will do no more for national security than backyard bomb shelters because like it or not the news is out. The heart of the successful H-bomb is the successful A-bomb. Once you've got your A-bombs made the rest is frosting on the cake. All you have to do is set them up so that when they detonate they'll start off a hydrogen-fusion reaction.  Part 1: Making Your Bomb Step 1: Getting the Ingredients Uranium is the basic ingredient of the A-bomb. When a uranium atom's nucleus splits apart, it releases a tremendous amount of energy (for its size), and it emits neutrons which go on to split other nearby uranium nuclei, releasing more energy, in what is called a 'chain reaction'. (When atoms split, matter is converted into energy according to Einstein's equation E=MC2. What better way to mark his birthday than with your own atomic fireworks?) There are two kinds (isotopes) of uranium: the rare U-235, used in bombs, and the more common, heavier, but useless U-238. Natural uranium contains less than 1 percent U-235 and in order to be usable in bombs it has to be 'enriched' to 90 percent U-235 and only 10 percent U-238. Plutonium-239 can also be used in bombs as a substitute for U-235. Ten pounds of U-235 (or slightly less plutonium) is all that is necessary for a bomb. Less than ten pounds won't give you a critical mass. So purifying or enriching naturally occurring uranium is likely to be your first big hurdle. It is infinitely easy to steal ready-to-use enriched uranium or plutonium than to enrich some yourself. And stealing uranium is not as hard as it sounds. There are at least three sources of enriched uranium or plutonium... Enriched uranium is manufactured at a gaseous diffusion plant in Portsmouth, Ohio. From there it is shipped in 10 liter bottles by airplane and trucks to conversion plants that turn it into uranium oxide or uranium metal. Each 10 liter bottle contains 7 kilograms of U-235, and there are 20 bottles to a typical shipment. Conversion facilities exist at Hematite, Missouri; Apollo, Pennsylvania; and Erwin, Tennessee. The Kerr-McGee plant at Crescent Oklahoma -- where Karen Silkwood worked -- was a conversion plant that 'lost' 40 lbs of plutonium. Enriched uranium can be stolen from these plants or from fuel-fabricating plants like those in New Haven, San Diego; or Lynchburg, Virginia. (A former Kerr-McGee supervisor, James V. Smith, when asked at the Silkwood trial if there were any security precautions at the plant to prevent theft, testified that 'There were none of any kind, no guards, no fences, no nothing.') Plutonium can be obtained from places like United Nuclear in Pawling, New York; Nuclear Fuel Services in Erwin, Tennessee; General Electric in Pleasanton, California; Westinghouse in Cheswick, Pennsylvania; Nuclear Materials and Equipment Corporation (NUMEC) in Leechburg, Pennsylvania; and plants in Hanfford, Washington and Morris, Illinois. According to Rolling Stone magazine the Israelis were involved in the theft of plutonium from NUMEC. Finally you can steal enriched uranium or plutonium while it's en-route from conversion plants to fuel fabricating plants. It is usually transported (by air or truck) in the form of uranium oxide, a brownish powder resembling instant coffee, or as a metal, coming in small chunks called 'broken buttons.' Both forms are shipped in small cans stacked in 5-inch cylinders braced with welded struts in the center of ordinary 55 gallon steel drums. The drums weigh about 100 pounds and are clearly marked 'Fissible Material' or 'Danger, Plutonium.' A typical shipment might go from the enrichment plant at Portsmouth, Ohio to the conversion plant in Hematite Missouri then to Kansas City by truck where it would be flown to Los Angeles and then trucked down to the General Atomic plant in San Diego. The plans for the General Atomic plant are on file at the Nuclear Regulatory Commission's reading room at 1717 H Street NW Washington. A Xerox machine is provided for the convenience of the public. If you can't get hold of any enriched uranium you'll have to settle for commercial grade (20 percent U-235). This can be stolen from university reactors of a type called TRIGA Mark II, where security is even more casual than at commercial plants. If stealing uranium seems too tacky you can buy it. Unenriched uranium is available at any chemical supply house for $23 a pound. Commercial grade (3 to 20 percent enriched) is available for $40 a pound from Gulf Atomic. You'll have to enrich it further yourself. Quite frankly this can be something of a pain in the ass. You'll need to start with a little more than 50 pounds of commercial-grade uranium. (It's only 20 percent U-235 at best, and you need 10 pounds of U-235 so... ) But with a little kitchen-table chemistry you'll be able to convert the solid uranium oxide you've purchased into a liquid form. Once you've done that, you'll be able to separate the U-235 that you'll need from the U-238. First pour a few gallons of concentrated hydrofluoric acid into your uranium oxide, converting it to uranium tetrafluoride. (Safety note: Concentrated hydrofluoric acid is so corrosive that it will eat its way through glass, so store it only in plastic. Used 1-gallon plastic milk containers will do.) Now you have to convert your uranium tetrafluoride to uranium hexafluoride, the gaseous form of uranium, which is convenient for separating out the isotope U-235 from U-238. To get the hexafluoride form, bubble fluorine gas into your container of uranium tetrafluoride. Fluorine is available in pressurized tanks from chemical-supply firms. Be careful how you use it though because fluorine is several times more deadly than chlorine, the classic World War I poison gas. Chemists recommend that you carry out this step under a stove hood (the kind used to remove unpleasant cooking odors). If you've done your chemistry right you should now have a generous supply of uranium hexafluoride ready for enriching. In the old horse-and-buggy days of A-bomb manufacture the enrichment was carried out by passing the uranium hexafluoride through hundreds of miles of pipes, tubes, and membranes, until the U-235 was eventually separated from the U-238. This gaseous-diffusion process, as it was called is difficult, time-consuming, and expensive. Gaseous-diffusion plants cover hundreds of acres and cost in the neighborhood of $2-billion each. So forget it. There are easier, and cheaper, ways to enrich your uranium. First transform the gas into a liquid by subjecting it to pressure. You can use a bicycle pump for this. Then make a simple home centrifuge. Fill a standard-size bucket one-quarter full of liquid uranium hexafluoride. Attach a six-foot rope to the bucket handle. Now swing the rope (and attached bucket) around your head as fast as possible. Keep this up for about 45 minutes. Slow down gradually, and very gently put the bucket on the floor. The U-235, which is lighter, will have risen to the top, where it can be skimmed off like cream. Repeat this step until you have the required 10 pounds of uranium. (Safety note: Don't put all your enriched uranium hexafluoride in one bucket. Use at least two or three buckets and keep them in separate corners of the room. This will prevent the premature build-up of a critical mass.) Now it's time to convert your enriched uranium back to metal form. This is easily enough accomplished by spooning several ladlefuls of calcium (available in tablet form from your drugstore) into each bucket of uranium. The calcium will react with the uranium hexafluoride to produce calcium fluoride, a colorless salt which can be easily be separated from your pure enriched uranium metal. A few precautions: • While uranium is not dangerously radioactive in the amounts you'll be handling, if you plan to make more than one bomb it might be wise to wear gloves and a lead apron, the kind you can buy in dental supply stores. • Plutonium is one of the most toxic substances known. If inhaled, a thousandth of a gram can cause massive fibrosis of the lungs, a painful way to go. Even a millionth of a gram in the lungs will cause cancer. If eaten plutonium is metabolized like calcium. It goes straight to the bones where it gives out alpha particles preventing bone marrow from manufacturing red blood cells. The best way to avoid inhaling plutonium is to hold your breath while handling it. If this is too difficult wear a mask. To avoid ingesting plutonium orally follow this simple rule: never make an A-bomb on an empty stomach. • If you find yourself dozing off while you're working, or if you begin to glow in the dark, it might be wise to take a blood count. Prick your finger with a sterile pin, place a drop of blood on a microscope slide, cover it with a cover slip, and examine under a microscope. (Best results are obtained in the early morning.) When you get leukemia, immature cells are released into the bloodstream, and usually the number of white cells increases (though this increase might take almost 2 weeks). Red blood cells look kind of like donuts (without the hole), and are slightly smaller than the white cells, each of which has a nucleus. Immature red cells look similar to white cells (i.e.. slightly larger and have a nucleus). If you have more than about 1 white cell (including immature ones) to 400 red cells then start to worry. But, depending upon your plans for the eventual use of the bomb, a short life expectancy might not be a problem.  Step 2: Assembling the A-Bomb Now that you've acquired the enriched uranium, all that's left is to assemble your A-bomb. Go find a couple of stainless steel salad bowls. You also want to separate your 10 pounds of U-235 into two hunks. (Keep them apart!) The idea is to push each half your uranium into the inside of a bowl. Take one hunk of your uranium and beat it into the inside of the first bowl. Uranium is malleable, like gold, so you should have no trouble hammering it into the bowl to get a good fit. Take another five-pound hunk of uranium and fit it into a second stainless steel bowl. These two bowls of U-235 are the 'subcritical masses' which, when brought together forcefully, will provide the critical mass that makes your A-bomb go. Keep them a respectful distance apart while working because you don't want them to 'go critical' on you... At least not yet. Now hollow out the body of an old vacuum cleaner and place your two hemispherical bowls inside, open ends facing each other, no less than seven inches apart, using masking tape to set them up in position. The reason for the steel bowls and the vacuum cleaner, in case you're wondering, is that these help reflect the neutrons back into the uranium for a more efficient explosion. 'A loose neutron is a useless neutron' as the A-bomb pioneers used to say. As far as the A-bomb goes, you're almost done. The final problem is to figure out how to get the two U-235 hemispheres to smash into each other with sufficient force to set off a truly effective fission reaction. Almost any type of explosive can be used to drive them together. Gunpowder, for example, is easily made at home from potassium nitrate, sulfur, and carbon. Or, you can get some blasting caps or TNT. (Buy them or steal them from a construction site.) Best of all is C4 plastic explosive. You can mold it around your bowls, and it's fairly safe to work with. (But, it might be wise to shape it around an extra salad bowl in another room, and THEN fit it to your uranium-packed bowls. This is particularly true in winter, when a stray static electrical charge might induce ignition in the C4. A responsible bomb maker considers it impolite to accidentally destroy more of the neighborhood than absolutely necessary.) Once the explosives are in place all you need to do is hook up a simple detonation device with a few batteries, a switch, and some wire. Remember though that it is essential that the two charges -- one on each side of the casing -- go off simultaneously. Now put the whole thing in the casing of an old Hoover vacuum cleaner and you're finished with this part of the process. The rest is easy.  Step 3: Make More A-Bombs Following the Directions Above  A Word to the Wise About Wastes After your A-bomb is completed you'll have a pile of moderately fatal radioactive wastes like U-238. These are not dangerous, but you do have to get rid of them. You can flush leftovers down the toilet. (Don't worry about polluting the ocean, there is already so much radioactive waste there, a few more bucketfuls won't make any waves whatsoever.) If you're the fastidious type -- the kind who never leaves gum under their seat at the movies -- you can seal the nasty stuff in coffee cans and bury it in the backyard, just like Uncle Sam does. If the neighbor kids have a habit of trampling the lawn, tell them to play over by the waste. You'll soon find that they're spending most of their time in bed.  Going First Class If you're like us, you're feeling the economic pinch, and you'll want to make your bomb as inexpensively as possible, consonant of course with reasonable yield. The recipe we've given is for a budget-pleasing H-bomb, no frills, no flourishes; it's just a simple 5-megaton bomb, capable of wiping out the New York metropolitan area, the San Francisco Bay area, or Boston. But don't forget, your H-bomb will only be as good as the A-bombs in it. If you want to spend a little more money you can punch-up your A-bomb considerably. Instead of centrifuging your uranium by hand, you can buy a commercial centrifuge. (Fisher Scientific sells one for about $1000.) You also might want to be fussier about your design. The Hiroshima bomb, a relatively crude one, only fissioned 1 percent of it's uranium and yielded only 13 kilotons. In order to fission more of the uranium, the force of your explosive 'trigger' needs to be evenly diffused around the sphere; the same pressure has to be exerted on every point of the sphere simultaneously. (It was a technique for producing this sort of simultaneous detonation by fashioning the explosives into lenses that the government accused Julius and Ethel Rosenberg of trying to steal).  Part 2: Putting Your H-Bomb Together The heart of the H-bomb is the fusion process. Several A-bombs are detonated in such a way as to create the extremely high temperature (100 million degrees C) necessary to fuse lithium deuteride (LiD) into helium. When the lithium nucleus slams into the deuterium nucleus, two helium nuclei are created, and if this happens to enough deuterium nuclei rapidly enough, the result is an enormous amount of energy: the energy of the H-bomb. You don't have to worry about stealing lithium deuteride, it can be purchased from any chemical-supply house. It costs $1000 a pound. If your budget won't allow it you can substitute lithium hydride at $40 a pound. You will need at least 100 pounds. It's a corrosive and toxic powder so be careful. Place the lithium deuteride or hydride in glass jars and surround it with four A-bombs in their casings. Attach them to the same detonator so that they will go off simultaneously. The container for the whole thing is no problem. They can be placed anywhere: Inside an old stereo console, a discarded refrigerator, etc... When the detonator sets off the four A-bombs all eight hemispheres of fissionable material will slam into each other at the same time creating four critical masses and four detonations. This will raise the temperature of the lithium deuteride to 100 million degrees C fast enough (a few billionths of a second) so that the lithium will not be blown all over the neighborhood before the nuclei have time to fuse. The result, at least 1000 times the punch of the puny A-bomb that leveled Hiroshima (20 million tons of TNT vs. 20 thousand tons.)  Part 3: What to do With Your Bomb Now that you have a fully assembled H-bomb housed in an attractive console of your choice you may be wondering, 'What should I do with it?' Every family will have to answer this question according to its own tastes and preferences, but you may want to explore some possibilities which have been successfully pioneered by the American government. 1. Sell Your Bomb and Make a Pile of Money In these days of rising inflation, increasing unemployment, and an uncertain economic outlook, few businesses make as much sense as weapons production. If your career forecast is cloudy, bomb sales may be the only sure way to avoid the humiliation of receiving welfare, or unemployment. Regardless of your present income level, a home H-bomb business can be an invaluable income supplement, and certainly a profitable alternative to selling Tupperware or pirated Girl Scout cookies. Unfortunately for the family bomb business, big government has already cornered a large part of the world market. But this does not mean that there is a shortage of potential customers. The raid on Entebee was the Waterloo of hijacking, and many nationalist groups are now on the alert for new means to get their message across. They'd jump at the chance to get hold of an H-bomb. Emerging nations which can't ante up enough rice or sugar to buy themselves a reactor from G.E. or Westinghouse are also shopping around. You may wonder about the ethics of selling to nations, or groups, whose goals you may disapprove of. But here again, take a tip from our government: forget ideology -- it's cash that counts. And remember, H-bomb sales have a way of escalating, almost like a chain reaction. Suppose you make a sale to South Yemen which you believe to be a Soviet puppet. Well within a few days some discrete inquiries from North Yemen and possibly the Saudis, the Egyptians and the Ethiopians as well can be expected. Similarly, a sale to the IRA will generate a sale to the Ulster government; and a sale to the Tanzanians will bring the Ugandans running, and so forth. It doesn't matter WHICH side you're on, only how many sides there are. Don't forget about the possibility of repeat sales to the same customer. As the experience of both the U.S. and the U.S.S.R. has shown, each individual nation has a potentially infinite need for H-bombs. No customer -- no matter how small -- can ever have too many. 2. Use Your Bomb at Home Many families are attracted to the H-bomb simply as a 'deterrent.' A discrete sticker on the door or on the living room window saying 'This Home Protected by H-bomb' will discourage IRS investigators, census takers, and Jehovah's Witnesses. You'll be surprised how fast the crime rate will go down and property values will go up. And once the news gets out that you are a home H-bomb owner you'll find that you have unexpected leverage in neighborhood disputes over everything from parking places and stereo noise levels to school tax rates. So relax and enjoy the pride and excitement of home H-bomb ownership!  Is It For You? Let's be honest. The H-bomb isn't for everyone. Frankly there are people who can't handle it. They break out in hives at the very mention of mega-death, fallout, or radiation sickness. The following quiz will help you find out whether you have what it takes for home H-bomb ownership. If you can answer 'yes' to six or more of these questions, then you're emotionally eligible to join the nuclear club. If not, a more conventional weapon may be more your cup of tea, try botulism-toxin, laser rays, or nerve gas. 1. I ignore the demands of others. 2. I subscribe to one or more of the following: Soldier of Fortune, Hustler, Popular Mechanics, Self. 3. Though I have many interesting acquaintances, I am my own best friend. 4. I know what to say after you say 'Hello,' but I am seldom interested in pursuing the conversation. 5. I have seen the movie 'The Deer Hunter' more than once. 6. I know that everyone can be a winner if they want to, and I resent whiners. 7. I own one or more of the following: handgun, video game, trash compactor, snowmobile. 8. I am convinced that leukemia is psychosomatic. 9. I am aware that most vegetarians are sexually impotent. 10. I have read evidence that solar energy is a Communist conspiracy.  Myths About Nuclear War Ever since the first mushroom cloud over Hiroshima ushered in the atomic age, a small group of nay-sayers and doom-mongers has lobbied, campaigned and demonstrated to convince Americans that H-bomb ownership, along with nuclear power, is dangerous and unhealthy. Using their virtual stranglehold over the media, these people have tried to discredit everything nuclear from energy to war. They have vastly overrated the risks of nuclear bombs and left many Americans feeling demoralized and indecisive; not sure where the truth lies. Well, here are the myths, and here are the facts. Myth: After a nuclear exchange the earth will no longer be suitable for human habitation. Fact: This is completely false. According to one scientist (quoted in John McPee's The Curve of Binding Energy) 'The largest bomb that has ever been exploded anywhere was 60 megatons, and that is one-thousandth the force of an earthquake, one-thousandth the force of a hurricane. We have lived with earthquakes and hurricanes for a long time.' Another scientist adds, 'It is often assumed that a full blown nuclear war would be the end of life on earth. That is far from the truth. To end life on earth would take at least a thousand times the total yield of all the nuclear explosives existing in the world, and probably a lot more.' Even if humans succumbed, many forms of life would survive a nuclear free-for-all, cockroaches, certain forms of bacteria, and lichens, for instance. Myth: Radiation is bad for you. Fact: Everything is bad for you if you have too much of it. If you eat too many bananas you'll get a stomach-ache. If you get too much sun you can get sunburned (or even skin cancer). Same thing with radiation. Too much may make you feel under the weather, but nuclear industry officials insist that there is no evidence that low-level radiation has any really serious adverse effects. And, high-level radiation may bring unexpected benefits. It speeds up evolution by weeding out unwanted genetic types and creating new ones. (Remember the old saying, 'Two heads are better than one.') Nearer to home, it's plain that radiation will get rid of pesky crab grass and weeds, and teenagers will find that brief exposure to a nuclear burst vaporizes acne and other skin blemishes. (Many survivors of the Hiroshima bomb found that they were free from skin and it's attendant problems forever.) We hope this clears up any misconceptions you may have had. Enjoy your H-Bomb!           \""
      ]
     },
     "execution_count": 23,
     "metadata": {},
     "output_type": "execute_result"
    }
   ],
   "source": [
    "part1_data['text'][2]"
   ]
  },
  {
   "cell_type": "markdown",
   "metadata": {
    "id": "19A4-9wnMoe2"
   },
   "source": [
    "**Data preprocessing**"
   ]
  },
  {
   "cell_type": "markdown",
   "metadata": {
    "id": "z6phl0PYM0E1"
   },
   "source": [
    "Firstly, the attribute 'age' ranges from 13 to 48. This is divided into three groups. Age 13-17 is classified to '10s blog', 23-27 to '20s blog' and beyond 33 is '30s blog'."
   ]
  },
  {
   "cell_type": "code",
   "execution_count": 15,
   "metadata": {
    "id": "Cf5jKWZ7IJOo"
   },
   "outputs": [],
   "source": [
    "# converting ages into categories.\n",
    "part1_data['age'].replace(np.arange(13,18),'10s blog', inplace= True)\n",
    "part1_data['age'].replace(np.arange(23,28),'20s blog', inplace= True)\n",
    "part1_data['age'].replace(np.arange(33,49),'30s blog', inplace= True)"
   ]
  },
  {
   "cell_type": "code",
   "execution_count": 16,
   "metadata": {
    "colab": {
     "base_uri": "https://localhost:8080/"
    },
    "id": "Hfcb6iuRMj1a",
    "outputId": "19071889-3480-49e8-a58b-ae8269a69262"
   },
   "outputs": [
    {
     "data": {
      "text/plain": [
       "20s blog    289067\n",
       "10s blog    204864\n",
       "30s blog    117721\n",
       "Name: age, dtype: int64"
      ]
     },
     "execution_count": 16,
     "metadata": {},
     "output_type": "execute_result"
    }
   ],
   "source": [
    "part1_data['age'].value_counts()"
   ]
  },
  {
   "cell_type": "code",
   "execution_count": 17,
   "metadata": {
    "id": "_kmoEMZOMj4D"
   },
   "outputs": [],
   "source": [
    "#Converting sign into lower case\n",
    "part1_data['sign'] = part1_data['sign'].str.lower()"
   ]
  },
  {
   "cell_type": "code",
   "execution_count": 18,
   "metadata": {
    "id": "eup0i5J1Mj6s"
   },
   "outputs": [],
   "source": [
    "#converting genders into another characterset for easier transformation of predictions. check 'classes_y' in train test split section\n",
    "\n",
    "part1_data['gender'].replace('male','4male', inplace= True)\n",
    "part1_data['gender'].replace('female','5female', inplace= True)"
   ]
  },
  {
   "cell_type": "code",
   "execution_count": 19,
   "metadata": {
    "id": "PISy474iMj9A"
   },
   "outputs": [],
   "source": [
    "# replacing indUnk with Unknown_industry in the topic column\n",
    "part1_data['topic'].replace('indUnk','Unknown_industry', inplace= True)"
   ]
  },
  {
   "cell_type": "code",
   "execution_count": 20,
   "metadata": {
    "id": "KP2OaYU2Mj_k"
   },
   "outputs": [],
   "source": [
    "# getting unique items of each column to be used later when converting probabilities from Neural network classifier to 0s and 1s\n",
    "\n",
    "age_unique = part1_data['age'].nunique()\n",
    "gender_unique = part1_data['gender'].nunique()\n",
    "topic_unique = part1_data['topic'].nunique()\n",
    "sign_unique = part1_data['sign'].nunique()\n"
   ]
  },
  {
   "cell_type": "markdown",
   "metadata": {
    "id": "W1rAIfIaN4Jn"
   },
   "source": [
    "**The dataset has more than 6 million data points. Model building, training and testing will take a lot of time and hence only a subset of it is considered.**"
   ]
  },
  {
   "cell_type": "code",
   "execution_count": 21,
   "metadata": {
    "colab": {
     "base_uri": "https://localhost:8080/",
     "height": 363
    },
    "id": "kAP4yM27MkCN",
    "outputId": "062cdb6d-aa6b-4e40-d932-ae76c96c0988"
   },
   "outputs": [
    {
     "data": {
      "text/html": [
       "\n",
       "  <div id=\"df-74cc872e-44c8-4649-9aef-dee093a63fc3\">\n",
       "    <div class=\"colab-df-container\">\n",
       "      <div>\n",
       "<style scoped>\n",
       "    .dataframe tbody tr th:only-of-type {\n",
       "        vertical-align: middle;\n",
       "    }\n",
       "\n",
       "    .dataframe tbody tr th {\n",
       "        vertical-align: top;\n",
       "    }\n",
       "\n",
       "    .dataframe thead th {\n",
       "        text-align: right;\n",
       "    }\n",
       "</style>\n",
       "<table border=\"1\" class=\"dataframe\">\n",
       "  <thead>\n",
       "    <tr style=\"text-align: right;\">\n",
       "      <th></th>\n",
       "      <th>gender</th>\n",
       "      <th>age</th>\n",
       "      <th>topic</th>\n",
       "      <th>sign</th>\n",
       "      <th>text</th>\n",
       "    </tr>\n",
       "  </thead>\n",
       "  <tbody>\n",
       "    <tr>\n",
       "      <th>0</th>\n",
       "      <td>4male</td>\n",
       "      <td>10s blog</td>\n",
       "      <td>Unknown_industry</td>\n",
       "      <td>sagittarius</td>\n",
       "      <td>For those of you on Friendster, and mos...</td>\n",
       "    </tr>\n",
       "    <tr>\n",
       "      <th>1</th>\n",
       "      <td>5female</td>\n",
       "      <td>10s blog</td>\n",
       "      <td>Unknown_industry</td>\n",
       "      <td>capricorn</td>\n",
       "      <td>Wearing: Tool band tee, dickies, socks...</td>\n",
       "    </tr>\n",
       "    <tr>\n",
       "      <th>2</th>\n",
       "      <td>4male</td>\n",
       "      <td>10s blog</td>\n",
       "      <td>Student</td>\n",
       "      <td>libra</td>\n",
       "      <td>since afternoon i've been doin nuthin o...</td>\n",
       "    </tr>\n",
       "    <tr>\n",
       "      <th>3</th>\n",
       "      <td>4male</td>\n",
       "      <td>10s blog</td>\n",
       "      <td>Student</td>\n",
       "      <td>sagittarius</td>\n",
       "      <td>Today:    * Two point five weeks of...</td>\n",
       "    </tr>\n",
       "    <tr>\n",
       "      <th>4</th>\n",
       "      <td>5female</td>\n",
       "      <td>10s blog</td>\n",
       "      <td>Unknown_industry</td>\n",
       "      <td>pisces</td>\n",
       "      <td>day 3: flag day   helloz aga...</td>\n",
       "    </tr>\n",
       "    <tr>\n",
       "      <th>5</th>\n",
       "      <td>5female</td>\n",
       "      <td>10s blog</td>\n",
       "      <td>Student</td>\n",
       "      <td>aquarius</td>\n",
       "      <td>halo..tis few days abit bus...</td>\n",
       "    </tr>\n",
       "    <tr>\n",
       "      <th>6</th>\n",
       "      <td>5female</td>\n",
       "      <td>10s blog</td>\n",
       "      <td>Student</td>\n",
       "      <td>taurus</td>\n",
       "      <td>ahahaha me and em are the coolest!!!!!!...</td>\n",
       "    </tr>\n",
       "    <tr>\n",
       "      <th>7</th>\n",
       "      <td>4male</td>\n",
       "      <td>10s blog</td>\n",
       "      <td>Unknown_industry</td>\n",
       "      <td>scorpio</td>\n",
       "      <td>Well friends, the Englewood Beach was a...</td>\n",
       "    </tr>\n",
       "    <tr>\n",
       "      <th>8</th>\n",
       "      <td>5female</td>\n",
       "      <td>10s blog</td>\n",
       "      <td>Student</td>\n",
       "      <td>virgo</td>\n",
       "      <td>Hi...i am sick and at home...m...</td>\n",
       "    </tr>\n",
       "    <tr>\n",
       "      <th>9</th>\n",
       "      <td>4male</td>\n",
       "      <td>10s blog</td>\n",
       "      <td>Unknown_industry</td>\n",
       "      <td>scorpio</td>\n",
       "      <td>Feeling guilty for leaving people out. ...</td>\n",
       "    </tr>\n",
       "  </tbody>\n",
       "</table>\n",
       "</div>\n",
       "      <button class=\"colab-df-convert\" onclick=\"convertToInteractive('df-74cc872e-44c8-4649-9aef-dee093a63fc3')\"\n",
       "              title=\"Convert this dataframe to an interactive table.\"\n",
       "              style=\"display:none;\">\n",
       "        \n",
       "  <svg xmlns=\"http://www.w3.org/2000/svg\" height=\"24px\"viewBox=\"0 0 24 24\"\n",
       "       width=\"24px\">\n",
       "    <path d=\"M0 0h24v24H0V0z\" fill=\"none\"/>\n",
       "    <path d=\"M18.56 5.44l.94 2.06.94-2.06 2.06-.94-2.06-.94-.94-2.06-.94 2.06-2.06.94zm-11 1L8.5 8.5l.94-2.06 2.06-.94-2.06-.94L8.5 2.5l-.94 2.06-2.06.94zm10 10l.94 2.06.94-2.06 2.06-.94-2.06-.94-.94-2.06-.94 2.06-2.06.94z\"/><path d=\"M17.41 7.96l-1.37-1.37c-.4-.4-.92-.59-1.43-.59-.52 0-1.04.2-1.43.59L10.3 9.45l-7.72 7.72c-.78.78-.78 2.05 0 2.83L4 21.41c.39.39.9.59 1.41.59.51 0 1.02-.2 1.41-.59l7.78-7.78 2.81-2.81c.8-.78.8-2.07 0-2.86zM5.41 20L4 18.59l7.72-7.72 1.47 1.35L5.41 20z\"/>\n",
       "  </svg>\n",
       "      </button>\n",
       "      \n",
       "  <style>\n",
       "    .colab-df-container {\n",
       "      display:flex;\n",
       "      flex-wrap:wrap;\n",
       "      gap: 12px;\n",
       "    }\n",
       "\n",
       "    .colab-df-convert {\n",
       "      background-color: #E8F0FE;\n",
       "      border: none;\n",
       "      border-radius: 50%;\n",
       "      cursor: pointer;\n",
       "      display: none;\n",
       "      fill: #1967D2;\n",
       "      height: 32px;\n",
       "      padding: 0 0 0 0;\n",
       "      width: 32px;\n",
       "    }\n",
       "\n",
       "    .colab-df-convert:hover {\n",
       "      background-color: #E2EBFA;\n",
       "      box-shadow: 0px 1px 2px rgba(60, 64, 67, 0.3), 0px 1px 3px 1px rgba(60, 64, 67, 0.15);\n",
       "      fill: #174EA6;\n",
       "    }\n",
       "\n",
       "    [theme=dark] .colab-df-convert {\n",
       "      background-color: #3B4455;\n",
       "      fill: #D2E3FC;\n",
       "    }\n",
       "\n",
       "    [theme=dark] .colab-df-convert:hover {\n",
       "      background-color: #434B5C;\n",
       "      box-shadow: 0px 1px 3px 1px rgba(0, 0, 0, 0.15);\n",
       "      filter: drop-shadow(0px 1px 2px rgba(0, 0, 0, 0.3));\n",
       "      fill: #FFFFFF;\n",
       "    }\n",
       "  </style>\n",
       "\n",
       "      <script>\n",
       "        const buttonEl =\n",
       "          document.querySelector('#df-74cc872e-44c8-4649-9aef-dee093a63fc3 button.colab-df-convert');\n",
       "        buttonEl.style.display =\n",
       "          google.colab.kernel.accessAllowed ? 'block' : 'none';\n",
       "\n",
       "        async function convertToInteractive(key) {\n",
       "          const element = document.querySelector('#df-74cc872e-44c8-4649-9aef-dee093a63fc3');\n",
       "          const dataTable =\n",
       "            await google.colab.kernel.invokeFunction('convertToInteractive',\n",
       "                                                     [key], {});\n",
       "          if (!dataTable) return;\n",
       "\n",
       "          const docLinkHtml = 'Like what you see? Visit the ' +\n",
       "            '<a target=\"_blank\" href=https://colab.research.google.com/notebooks/data_table.ipynb>data table notebook</a>'\n",
       "            + ' to learn more about interactive tables.';\n",
       "          element.innerHTML = '';\n",
       "          dataTable['output_type'] = 'display_data';\n",
       "          await google.colab.output.renderOutput(dataTable, element);\n",
       "          const docLink = document.createElement('div');\n",
       "          docLink.innerHTML = docLinkHtml;\n",
       "          element.appendChild(docLink);\n",
       "        }\n",
       "      </script>\n",
       "    </div>\n",
       "  </div>\n",
       "  "
      ],
      "text/plain": [
       "    gender       age             topic         sign  \\\n",
       "0    4male  10s blog  Unknown_industry  sagittarius   \n",
       "1  5female  10s blog  Unknown_industry    capricorn   \n",
       "2    4male  10s blog           Student        libra   \n",
       "3    4male  10s blog           Student  sagittarius   \n",
       "4  5female  10s blog  Unknown_industry       pisces   \n",
       "5  5female  10s blog           Student     aquarius   \n",
       "6  5female  10s blog           Student       taurus   \n",
       "7    4male  10s blog  Unknown_industry      scorpio   \n",
       "8  5female  10s blog           Student        virgo   \n",
       "9    4male  10s blog  Unknown_industry      scorpio   \n",
       "\n",
       "                                                text  \n",
       "0         For those of you on Friendster, and mos...  \n",
       "1          Wearing: Tool band tee, dickies, socks...  \n",
       "2         since afternoon i've been doin nuthin o...  \n",
       "3             Today:    * Two point five weeks of...  \n",
       "4                    day 3: flag day   helloz aga...  \n",
       "5                     halo..tis few days abit bus...  \n",
       "6         ahahaha me and em are the coolest!!!!!!...  \n",
       "7         Well friends, the Englewood Beach was a...  \n",
       "8                  Hi...i am sick and at home...m...  \n",
       "9         Feeling guilty for leaving people out. ...  "
      ]
     },
     "execution_count": 21,
     "metadata": {},
     "output_type": "execute_result"
    }
   ],
   "source": [
    "## subsetting the dataset, considering that the size of dataset is large, execution is taking time if more rows are included specially at the stage of model building, training, testing and execution \n",
    "\n",
    "part1_data_sample = part1_data.groupby('age').sample(n=17500, random_state=1)   # taking random 35000 data entries from each of the age group\n",
    "part1_data_sample.reset_index(inplace=True,drop=True)\n",
    "part1_data_sample.head(10)"
   ]
  },
  {
   "cell_type": "code",
   "execution_count": 22,
   "metadata": {
    "colab": {
     "base_uri": "https://localhost:8080/"
    },
    "id": "rzLccCXIMkEy",
    "outputId": "5eb9abbb-89e2-4a4e-9d95-92aef90d6c24"
   },
   "outputs": [
    {
     "name": "stdout",
     "output_type": "stream",
     "text": [
      "The shape of the dataframe to be used for further analysis is (52500, 5)\n"
     ]
    }
   ],
   "source": [
    "# 52.5K randomly chosen sample has been taken for limitation of computation capacity \n",
    "print('The shape of the dataframe to be used for further analysis is',part1_data_sample.shape)"
   ]
  },
  {
   "cell_type": "markdown",
   "metadata": {
    "id": "q_1nlTgKOcWG"
   },
   "source": [
    "**Data cleansing by removing unwanted characters, spaces, stop words etc. Convert text to lowercase**"
   ]
  },
  {
   "cell_type": "code",
   "execution_count": 23,
   "metadata": {
    "id": "9RqOIOheMkHO"
   },
   "outputs": [],
   "source": [
    "part1_data_sample['clean_data']=part1_data_sample['text'].apply(lambda x: re.sub(r'[^A-Za-z]+',' ',x))  # keeping only english alphabets strings. removing numbers, the brackets, the full stops etc. \n",
    "part1_data_sample['clean_data']=part1_data_sample['clean_data'].apply(lambda x: re.sub(r'urlLink|urllink','',x))   # remove all the places where the string urllink comes\n",
    "part1_data_sample['clean_data']=part1_data_sample['clean_data'].apply(lambda x: re.sub(r'https?\\S+','',x))   # remove all the places where any url comes that starts with http or https\n",
    "part1_data_sample['clean_data']=part1_data_sample['clean_data'].apply(lambda x: x.lower())   # lowercase each word in the string\n",
    "part1_data_sample['clean_data']=part1_data_sample['clean_data'].apply(lambda x: x.strip())   # remove spaces\n",
    "part1_data_sample['clean_data']=part1_data_sample['clean_data'].apply(lambda x: ' '.join([words for words in x.split() if words not in stopwords]))   # removing stop words\n",
    "part1_data_sample['clean_data']=part1_data_sample['clean_data'].apply(lambda x: re.sub(r'\\b\\w{1,2}\\b','',x))    # removing any word of length less than equal to 2\n",
    "part1_data_sample['clean_data']=part1_data_sample['clean_data'].apply(lambda x: ' '.join(dict.fromkeys(x.split())))   # removing duplicate words"
   ]
  },
  {
   "cell_type": "code",
   "execution_count": 24,
   "metadata": {
    "id": "KIxxwrMAMkKC"
   },
   "outputs": [],
   "source": [
    "# Remove Non-English Words from Normalized text\n",
    "\n",
    "words = set(nltk.corpus.words.words())\n",
    "def remove_non_english_words(blog):\n",
    "    return \" \".join(w for w in nltk.wordpunct_tokenize(blog) if w.lower() in words or not w.isalpha())\n",
    "\n",
    "part1_data_sample['clean_data'] = part1_data_sample['clean_data'].apply(remove_non_english_words)\n"
   ]
  },
  {
   "cell_type": "code",
   "execution_count": 25,
   "metadata": {
    "colab": {
     "base_uri": "https://localhost:8080/"
    },
    "id": "Eksllc3MIJRO",
    "outputId": "d65247e1-b736-4851-ae75-cb72cde88256"
   },
   "outputs": [
    {
     "name": "stderr",
     "output_type": "stream",
     "text": [
      "[nltk_data] Downloading package omw-1.4 to /root/nltk_data...\n"
     ]
    }
   ],
   "source": [
    "# lemmatizing the text\n",
    "nltk.download('omw-1.4')\n",
    "w_tokenizer = nltk.tokenize.WhitespaceTokenizer()\n",
    "\n",
    "def lemmatize_text(text):\n",
    "    return [lmtzr.lemmatize(w) for w in w_tokenizer.tokenize(text)]\n",
    "\n",
    "part1_data_sample['clean_data'] = part1_data_sample['clean_data'].apply(lemmatize_text)\n"
   ]
  },
  {
   "cell_type": "code",
   "execution_count": 26,
   "metadata": {
    "id": "_ktl0IFoPUhE"
   },
   "outputs": [],
   "source": [
    "# stemming the text \n",
    "\n",
    "stemmer = SnowballStemmer(\"english\")\n",
    "part1_data_sample['clean_data'] = part1_data_sample['clean_data'].apply(lambda x: [stemmer.stem(y) for y in x]) # Stem every word."
   ]
  },
  {
   "cell_type": "code",
   "execution_count": 27,
   "metadata": {
    "colab": {
     "base_uri": "https://localhost:8080/"
    },
    "id": "bOS9IpHQIJUC",
    "outputId": "09542b35-4139-46ff-dbdb-1263985c452c"
   },
   "outputs": [
    {
     "name": "stdout",
     "output_type": "stream",
     "text": [
      "           i know, and hence the comparison to hobbes. he said life was nasty brutish and short, but also advocated a strong central ruler as able to take charge of life and preserve the common man. life was bad, but a strong central leader can overcome that he argued. i'm saying it's more like locke. life is intrinsically good. we screw it up, complicate it, and confuse ourselves to death, but there are moments in there that are just so surreally good, moments where you feel so indeniably alive, moments where no one on earth can't say that, just for an instant, everything was worth it. hell, we live in those moments. either during them, or thinking of them. dreams, memories, those times where you just zone out and mentally go to another place and time are people trying to relive those moments. life is incredibly beautiful, awesome and scary. it's like trying to hold a supernova in your hand and being vaporized, turned into dust and energy cascading on the expanding exploding wavefront of the nova. 'cept most of our time on earth is spent existing, getting by; not living          \n",
      "\n",
      "['know', 'henc', 'comparison', 'said', 'life', 'nasti', 'brutish', 'short', 'also', 'strong', 'central', 'ruler', 'abl', 'take', 'charg', 'preserv', 'common', 'man', 'bad', 'leader', 'overcom', 'say', 'like', 'intrins', 'good', 'screw', 'complic', 'confus', 'death', 'feel', 'aliv', 'one', 'earth', 'say', 'instant', 'everyth', 'worth', 'hell', 'live', 'either', 'think', 'time', 'zone', 'mental', 'anoth', 'place', 'time', 'peopl', 'tri', 'reliv', 'incred', 'beauti', 'awesom', 'scari', 'hold', 'supernova', 'hand', 'turn', 'dust', 'energi', 'expand', 'nova', 'spent', 'get', 'live']\n"
     ]
    }
   ],
   "source": [
    "#Comparing one arbitrary text before and after cleaning\n",
    "\n",
    "print(part1_data_sample['text'][10],'\\n')\n",
    "print(part1_data_sample['clean_data'][10])"
   ]
  },
  {
   "cell_type": "code",
   "execution_count": 30,
   "metadata": {
    "colab": {
     "base_uri": "https://localhost:8080/",
     "height": 363
    },
    "id": "KPvLUB-uIJcV",
    "outputId": "7968f280-ae6f-4732-c638-2775b897e1ba"
   },
   "outputs": [
    {
     "data": {
      "text/html": [
       "\n",
       "  <div id=\"df-69fb3974-2a0e-4e24-8635-2fcf0006dc32\">\n",
       "    <div class=\"colab-df-container\">\n",
       "      <div>\n",
       "<style scoped>\n",
       "    .dataframe tbody tr th:only-of-type {\n",
       "        vertical-align: middle;\n",
       "    }\n",
       "\n",
       "    .dataframe tbody tr th {\n",
       "        vertical-align: top;\n",
       "    }\n",
       "\n",
       "    .dataframe thead th {\n",
       "        text-align: right;\n",
       "    }\n",
       "</style>\n",
       "<table border=\"1\" class=\"dataframe\">\n",
       "  <thead>\n",
       "    <tr style=\"text-align: right;\">\n",
       "      <th></th>\n",
       "      <th>gender</th>\n",
       "      <th>age</th>\n",
       "      <th>topic</th>\n",
       "      <th>sign</th>\n",
       "      <th>text</th>\n",
       "      <th>clean_data</th>\n",
       "    </tr>\n",
       "  </thead>\n",
       "  <tbody>\n",
       "    <tr>\n",
       "      <th>2930</th>\n",
       "      <td>4male</td>\n",
       "      <td>10s blog</td>\n",
       "      <td>Student</td>\n",
       "      <td>pisces</td>\n",
       "      <td>Well well well...it has been about...4 dayz...</td>\n",
       "      <td>[well, sinc, post, shall, break, day, hear, go...</td>\n",
       "    </tr>\n",
       "    <tr>\n",
       "      <th>10901</th>\n",
       "      <td>4male</td>\n",
       "      <td>10s blog</td>\n",
       "      <td>Unknown_industry</td>\n",
       "      <td>virgo</td>\n",
       "      <td>Wow, this game has a super good sto...</td>\n",
       "      <td>[wow, game, super, good, way, short, though, t...</td>\n",
       "    </tr>\n",
       "    <tr>\n",
       "      <th>43299</th>\n",
       "      <td>5female</td>\n",
       "      <td>30s blog</td>\n",
       "      <td>Fashion</td>\n",
       "      <td>pisces</td>\n",
       "      <td>Or so says  donniedarkdodotco...</td>\n",
       "      <td>[must, insan, refrain, pleas, sinc, awak, morn...</td>\n",
       "    </tr>\n",
       "    <tr>\n",
       "      <th>2584</th>\n",
       "      <td>5female</td>\n",
       "      <td>10s blog</td>\n",
       "      <td>Architecture</td>\n",
       "      <td>scorpio</td>\n",
       "      <td>E     Exhausting       Y     Young ...</td>\n",
       "      <td>[exhaust, young, valiant, honest, order, new, ...</td>\n",
       "    </tr>\n",
       "    <tr>\n",
       "      <th>4967</th>\n",
       "      <td>4male</td>\n",
       "      <td>10s blog</td>\n",
       "      <td>Student</td>\n",
       "      <td>virgo</td>\n",
       "      <td>Today was good except for footbal...</td>\n",
       "      <td>[today, good, except, footbal, felt, like, die...</td>\n",
       "    </tr>\n",
       "    <tr>\n",
       "      <th>28040</th>\n",
       "      <td>4male</td>\n",
       "      <td>20s blog</td>\n",
       "      <td>Telecommunications</td>\n",
       "      <td>pisces</td>\n",
       "      <td>I have the greatest mom in the wo...</td>\n",
       "      <td>[world, anyon, better, wrong, mine, awesom]</td>\n",
       "    </tr>\n",
       "    <tr>\n",
       "      <th>40633</th>\n",
       "      <td>5female</td>\n",
       "      <td>30s blog</td>\n",
       "      <td>Unknown_industry</td>\n",
       "      <td>virgo</td>\n",
       "      <td>I am a winner.  I have licked smoking. ...</td>\n",
       "      <td>[winner, smoke, yesterday, done, longer, smoke...</td>\n",
       "    </tr>\n",
       "    <tr>\n",
       "      <th>5684</th>\n",
       "      <td>4male</td>\n",
       "      <td>10s blog</td>\n",
       "      <td>Unknown_industry</td>\n",
       "      <td>leo</td>\n",
       "      <td>Can I say  “stressed?”  Yes, ...</td>\n",
       "      <td>[say, yes, still, day, co, got, bed, around, l...</td>\n",
       "    </tr>\n",
       "    <tr>\n",
       "      <th>34853</th>\n",
       "      <td>5female</td>\n",
       "      <td>20s blog</td>\n",
       "      <td>Law</td>\n",
       "      <td>cancer</td>\n",
       "      <td>I do not frequently sing Senator Jo...</td>\n",
       "      <td>[frequent, sing, senat, allow, fail, see, surp...</td>\n",
       "    </tr>\n",
       "    <tr>\n",
       "      <th>4629</th>\n",
       "      <td>4male</td>\n",
       "      <td>10s blog</td>\n",
       "      <td>Student</td>\n",
       "      <td>libra</td>\n",
       "      <td>Well, today has been really slow....So,...</td>\n",
       "      <td>[well, today, realli, slow, crazi, true, illeg...</td>\n",
       "    </tr>\n",
       "  </tbody>\n",
       "</table>\n",
       "</div>\n",
       "      <button class=\"colab-df-convert\" onclick=\"convertToInteractive('df-69fb3974-2a0e-4e24-8635-2fcf0006dc32')\"\n",
       "              title=\"Convert this dataframe to an interactive table.\"\n",
       "              style=\"display:none;\">\n",
       "        \n",
       "  <svg xmlns=\"http://www.w3.org/2000/svg\" height=\"24px\"viewBox=\"0 0 24 24\"\n",
       "       width=\"24px\">\n",
       "    <path d=\"M0 0h24v24H0V0z\" fill=\"none\"/>\n",
       "    <path d=\"M18.56 5.44l.94 2.06.94-2.06 2.06-.94-2.06-.94-.94-2.06-.94 2.06-2.06.94zm-11 1L8.5 8.5l.94-2.06 2.06-.94-2.06-.94L8.5 2.5l-.94 2.06-2.06.94zm10 10l.94 2.06.94-2.06 2.06-.94-2.06-.94-.94-2.06-.94 2.06-2.06.94z\"/><path d=\"M17.41 7.96l-1.37-1.37c-.4-.4-.92-.59-1.43-.59-.52 0-1.04.2-1.43.59L10.3 9.45l-7.72 7.72c-.78.78-.78 2.05 0 2.83L4 21.41c.39.39.9.59 1.41.59.51 0 1.02-.2 1.41-.59l7.78-7.78 2.81-2.81c.8-.78.8-2.07 0-2.86zM5.41 20L4 18.59l7.72-7.72 1.47 1.35L5.41 20z\"/>\n",
       "  </svg>\n",
       "      </button>\n",
       "      \n",
       "  <style>\n",
       "    .colab-df-container {\n",
       "      display:flex;\n",
       "      flex-wrap:wrap;\n",
       "      gap: 12px;\n",
       "    }\n",
       "\n",
       "    .colab-df-convert {\n",
       "      background-color: #E8F0FE;\n",
       "      border: none;\n",
       "      border-radius: 50%;\n",
       "      cursor: pointer;\n",
       "      display: none;\n",
       "      fill: #1967D2;\n",
       "      height: 32px;\n",
       "      padding: 0 0 0 0;\n",
       "      width: 32px;\n",
       "    }\n",
       "\n",
       "    .colab-df-convert:hover {\n",
       "      background-color: #E2EBFA;\n",
       "      box-shadow: 0px 1px 2px rgba(60, 64, 67, 0.3), 0px 1px 3px 1px rgba(60, 64, 67, 0.15);\n",
       "      fill: #174EA6;\n",
       "    }\n",
       "\n",
       "    [theme=dark] .colab-df-convert {\n",
       "      background-color: #3B4455;\n",
       "      fill: #D2E3FC;\n",
       "    }\n",
       "\n",
       "    [theme=dark] .colab-df-convert:hover {\n",
       "      background-color: #434B5C;\n",
       "      box-shadow: 0px 1px 3px 1px rgba(0, 0, 0, 0.15);\n",
       "      filter: drop-shadow(0px 1px 2px rgba(0, 0, 0, 0.3));\n",
       "      fill: #FFFFFF;\n",
       "    }\n",
       "  </style>\n",
       "\n",
       "      <script>\n",
       "        const buttonEl =\n",
       "          document.querySelector('#df-69fb3974-2a0e-4e24-8635-2fcf0006dc32 button.colab-df-convert');\n",
       "        buttonEl.style.display =\n",
       "          google.colab.kernel.accessAllowed ? 'block' : 'none';\n",
       "\n",
       "        async function convertToInteractive(key) {\n",
       "          const element = document.querySelector('#df-69fb3974-2a0e-4e24-8635-2fcf0006dc32');\n",
       "          const dataTable =\n",
       "            await google.colab.kernel.invokeFunction('convertToInteractive',\n",
       "                                                     [key], {});\n",
       "          if (!dataTable) return;\n",
       "\n",
       "          const docLinkHtml = 'Like what you see? Visit the ' +\n",
       "            '<a target=\"_blank\" href=https://colab.research.google.com/notebooks/data_table.ipynb>data table notebook</a>'\n",
       "            + ' to learn more about interactive tables.';\n",
       "          element.innerHTML = '';\n",
       "          dataTable['output_type'] = 'display_data';\n",
       "          await google.colab.output.renderOutput(dataTable, element);\n",
       "          const docLink = document.createElement('div');\n",
       "          docLink.innerHTML = docLinkHtml;\n",
       "          element.appendChild(docLink);\n",
       "        }\n",
       "      </script>\n",
       "    </div>\n",
       "  </div>\n",
       "  "
      ],
      "text/plain": [
       "        gender       age               topic     sign  \\\n",
       "2930     4male  10s blog             Student   pisces   \n",
       "10901    4male  10s blog    Unknown_industry    virgo   \n",
       "43299  5female  30s blog             Fashion   pisces   \n",
       "2584   5female  10s blog        Architecture  scorpio   \n",
       "4967     4male  10s blog             Student    virgo   \n",
       "28040    4male  20s blog  Telecommunications   pisces   \n",
       "40633  5female  30s blog    Unknown_industry    virgo   \n",
       "5684     4male  10s blog    Unknown_industry      leo   \n",
       "34853  5female  20s blog                 Law   cancer   \n",
       "4629     4male  10s blog             Student    libra   \n",
       "\n",
       "                                                    text  \\\n",
       "2930      Well well well...it has been about...4 dayz...   \n",
       "10901             Wow, this game has a super good sto...   \n",
       "43299                   Or so says  donniedarkdodotco...   \n",
       "2584              E     Exhausting       Y     Young ...   \n",
       "4967                Today was good except for footbal...   \n",
       "28040               I have the greatest mom in the wo...   \n",
       "40633         I am a winner.  I have licked smoking. ...   \n",
       "5684                    Can I say  “stressed?”  Yes, ...   \n",
       "34853             I do not frequently sing Senator Jo...   \n",
       "4629          Well, today has been really slow....So,...   \n",
       "\n",
       "                                              clean_data  \n",
       "2930   [well, sinc, post, shall, break, day, hear, go...  \n",
       "10901  [wow, game, super, good, way, short, though, t...  \n",
       "43299  [must, insan, refrain, pleas, sinc, awak, morn...  \n",
       "2584   [exhaust, young, valiant, honest, order, new, ...  \n",
       "4967   [today, good, except, footbal, felt, like, die...  \n",
       "28040        [world, anyon, better, wrong, mine, awesom]  \n",
       "40633  [winner, smoke, yesterday, done, longer, smoke...  \n",
       "5684   [say, yes, still, day, co, got, bed, around, l...  \n",
       "34853  [frequent, sing, senat, allow, fail, see, surp...  \n",
       "4629   [well, today, realli, slow, crazi, true, illeg...  "
      ]
     },
     "execution_count": 30,
     "metadata": {},
     "output_type": "execute_result"
    }
   ],
   "source": [
    "part1_data_sample.sample(10)"
   ]
  },
  {
   "cell_type": "markdown",
   "metadata": {
    "id": "OKsyU6P1YDT3"
   },
   "source": [
    "**Target/label merger and transformation:**"
   ]
  },
  {
   "cell_type": "code",
   "execution_count": 28,
   "metadata": {
    "id": "CxReSspBQCdi"
   },
   "outputs": [],
   "source": [
    "#As we want to make this into a multi-label classification problem, I have merged the columns 'age', 'gender', 'topic' and 'sign' \n",
    "#together so that we have all the labels together for a particular sentence.\n",
    "part1_data_sample['labels']=part1_data_sample.apply(lambda col: [col['gender'],str(col['age']),col['topic'],col['sign']], axis=1)\n"
   ]
  },
  {
   "cell_type": "code",
   "execution_count": 29,
   "metadata": {
    "id": "OR_1Sb_jQCfi"
   },
   "outputs": [],
   "source": [
    "# drop  gender,age,topic & sign as they are already merged to labels column\n",
    "\n",
    "part1_data_sample.drop(columns=['gender','age','topic','sign'], axis=1, inplace=True)"
   ]
  },
  {
   "cell_type": "code",
   "execution_count": 33,
   "metadata": {
    "colab": {
     "base_uri": "https://localhost:8080/",
     "height": 206
    },
    "id": "dPkdVzt7QCiE",
    "outputId": "538dd018-668e-4c7f-b233-bac7e2c47492"
   },
   "outputs": [
    {
     "data": {
      "text/html": [
       "\n",
       "  <div id=\"df-2675e0a4-1713-4660-bc7b-320358ba5fe5\">\n",
       "    <div class=\"colab-df-container\">\n",
       "      <div>\n",
       "<style scoped>\n",
       "    .dataframe tbody tr th:only-of-type {\n",
       "        vertical-align: middle;\n",
       "    }\n",
       "\n",
       "    .dataframe tbody tr th {\n",
       "        vertical-align: top;\n",
       "    }\n",
       "\n",
       "    .dataframe thead th {\n",
       "        text-align: right;\n",
       "    }\n",
       "</style>\n",
       "<table border=\"1\" class=\"dataframe\">\n",
       "  <thead>\n",
       "    <tr style=\"text-align: right;\">\n",
       "      <th></th>\n",
       "      <th>text</th>\n",
       "      <th>clean_data</th>\n",
       "      <th>labels</th>\n",
       "    </tr>\n",
       "  </thead>\n",
       "  <tbody>\n",
       "    <tr>\n",
       "      <th>0</th>\n",
       "      <td>For those of you on Friendster, and mos...</td>\n",
       "      <td>[see, whenev, complet, ask, love, ever, alway,...</td>\n",
       "      <td>[4male, 10s blog, Unknown_industry, sagittarius]</td>\n",
       "    </tr>\n",
       "    <tr>\n",
       "      <th>1</th>\n",
       "      <td>Wearing: Tool band tee, dickies, socks...</td>\n",
       "      <td>[wear, tool, band, tee, listen, jenni, wrap, p...</td>\n",
       "      <td>[5female, 10s blog, Unknown_industry, capricorn]</td>\n",
       "    </tr>\n",
       "    <tr>\n",
       "      <th>2</th>\n",
       "      <td>since afternoon i've been doin nuthin o...</td>\n",
       "      <td>[sinc, afternoon, yeah, see, watch, kill, bill...</td>\n",
       "      <td>[4male, 10s blog, Student, libra]</td>\n",
       "    </tr>\n",
       "    <tr>\n",
       "      <th>3</th>\n",
       "      <td>Today:    * Two point five weeks of...</td>\n",
       "      <td>[today, two, point, five, math, done, six, boo...</td>\n",
       "      <td>[4male, 10s blog, Student, sagittarius]</td>\n",
       "    </tr>\n",
       "    <tr>\n",
       "      <th>4</th>\n",
       "      <td>day 3: flag day   helloz aga...</td>\n",
       "      <td>[day, flag, yest, whole, class, togeth, talk, ...</td>\n",
       "      <td>[5female, 10s blog, Unknown_industry, pisces]</td>\n",
       "    </tr>\n",
       "  </tbody>\n",
       "</table>\n",
       "</div>\n",
       "      <button class=\"colab-df-convert\" onclick=\"convertToInteractive('df-2675e0a4-1713-4660-bc7b-320358ba5fe5')\"\n",
       "              title=\"Convert this dataframe to an interactive table.\"\n",
       "              style=\"display:none;\">\n",
       "        \n",
       "  <svg xmlns=\"http://www.w3.org/2000/svg\" height=\"24px\"viewBox=\"0 0 24 24\"\n",
       "       width=\"24px\">\n",
       "    <path d=\"M0 0h24v24H0V0z\" fill=\"none\"/>\n",
       "    <path d=\"M18.56 5.44l.94 2.06.94-2.06 2.06-.94-2.06-.94-.94-2.06-.94 2.06-2.06.94zm-11 1L8.5 8.5l.94-2.06 2.06-.94-2.06-.94L8.5 2.5l-.94 2.06-2.06.94zm10 10l.94 2.06.94-2.06 2.06-.94-2.06-.94-.94-2.06-.94 2.06-2.06.94z\"/><path d=\"M17.41 7.96l-1.37-1.37c-.4-.4-.92-.59-1.43-.59-.52 0-1.04.2-1.43.59L10.3 9.45l-7.72 7.72c-.78.78-.78 2.05 0 2.83L4 21.41c.39.39.9.59 1.41.59.51 0 1.02-.2 1.41-.59l7.78-7.78 2.81-2.81c.8-.78.8-2.07 0-2.86zM5.41 20L4 18.59l7.72-7.72 1.47 1.35L5.41 20z\"/>\n",
       "  </svg>\n",
       "      </button>\n",
       "      \n",
       "  <style>\n",
       "    .colab-df-container {\n",
       "      display:flex;\n",
       "      flex-wrap:wrap;\n",
       "      gap: 12px;\n",
       "    }\n",
       "\n",
       "    .colab-df-convert {\n",
       "      background-color: #E8F0FE;\n",
       "      border: none;\n",
       "      border-radius: 50%;\n",
       "      cursor: pointer;\n",
       "      display: none;\n",
       "      fill: #1967D2;\n",
       "      height: 32px;\n",
       "      padding: 0 0 0 0;\n",
       "      width: 32px;\n",
       "    }\n",
       "\n",
       "    .colab-df-convert:hover {\n",
       "      background-color: #E2EBFA;\n",
       "      box-shadow: 0px 1px 2px rgba(60, 64, 67, 0.3), 0px 1px 3px 1px rgba(60, 64, 67, 0.15);\n",
       "      fill: #174EA6;\n",
       "    }\n",
       "\n",
       "    [theme=dark] .colab-df-convert {\n",
       "      background-color: #3B4455;\n",
       "      fill: #D2E3FC;\n",
       "    }\n",
       "\n",
       "    [theme=dark] .colab-df-convert:hover {\n",
       "      background-color: #434B5C;\n",
       "      box-shadow: 0px 1px 3px 1px rgba(0, 0, 0, 0.15);\n",
       "      filter: drop-shadow(0px 1px 2px rgba(0, 0, 0, 0.3));\n",
       "      fill: #FFFFFF;\n",
       "    }\n",
       "  </style>\n",
       "\n",
       "      <script>\n",
       "        const buttonEl =\n",
       "          document.querySelector('#df-2675e0a4-1713-4660-bc7b-320358ba5fe5 button.colab-df-convert');\n",
       "        buttonEl.style.display =\n",
       "          google.colab.kernel.accessAllowed ? 'block' : 'none';\n",
       "\n",
       "        async function convertToInteractive(key) {\n",
       "          const element = document.querySelector('#df-2675e0a4-1713-4660-bc7b-320358ba5fe5');\n",
       "          const dataTable =\n",
       "            await google.colab.kernel.invokeFunction('convertToInteractive',\n",
       "                                                     [key], {});\n",
       "          if (!dataTable) return;\n",
       "\n",
       "          const docLinkHtml = 'Like what you see? Visit the ' +\n",
       "            '<a target=\"_blank\" href=https://colab.research.google.com/notebooks/data_table.ipynb>data table notebook</a>'\n",
       "            + ' to learn more about interactive tables.';\n",
       "          element.innerHTML = '';\n",
       "          dataTable['output_type'] = 'display_data';\n",
       "          await google.colab.output.renderOutput(dataTable, element);\n",
       "          const docLink = document.createElement('div');\n",
       "          docLink.innerHTML = docLinkHtml;\n",
       "          element.appendChild(docLink);\n",
       "        }\n",
       "      </script>\n",
       "    </div>\n",
       "  </div>\n",
       "  "
      ],
      "text/plain": [
       "                                                text  \\\n",
       "0         For those of you on Friendster, and mos...   \n",
       "1          Wearing: Tool band tee, dickies, socks...   \n",
       "2         since afternoon i've been doin nuthin o...   \n",
       "3             Today:    * Two point five weeks of...   \n",
       "4                    day 3: flag day   helloz aga...   \n",
       "\n",
       "                                          clean_data  \\\n",
       "0  [see, whenev, complet, ask, love, ever, alway,...   \n",
       "1  [wear, tool, band, tee, listen, jenni, wrap, p...   \n",
       "2  [sinc, afternoon, yeah, see, watch, kill, bill...   \n",
       "3  [today, two, point, five, math, done, six, boo...   \n",
       "4  [day, flag, yest, whole, class, togeth, talk, ...   \n",
       "\n",
       "                                             labels  \n",
       "0  [4male, 10s blog, Unknown_industry, sagittarius]  \n",
       "1  [5female, 10s blog, Unknown_industry, capricorn]  \n",
       "2                 [4male, 10s blog, Student, libra]  \n",
       "3           [4male, 10s blog, Student, sagittarius]  \n",
       "4     [5female, 10s blog, Unknown_industry, pisces]  "
      ]
     },
     "execution_count": 33,
     "metadata": {},
     "output_type": "execute_result"
    }
   ],
   "source": [
    "part1_data_sample.head()"
   ]
  },
  {
   "cell_type": "code",
   "execution_count": 30,
   "metadata": {
    "id": "QC67-G2RQCka"
   },
   "outputs": [],
   "source": [
    "# dividing the dataset into X and y and binarizing y label\n",
    "\n",
    "X_small = part1_data_sample['clean_data']\n",
    "y_small = part1_data_sample['labels']\n",
    "\n",
    "multilabel_binarizer = MultiLabelBinarizer()\n",
    "y_mlb=multilabel_binarizer.fit_transform(y_small)"
   ]
  },
  {
   "cell_type": "code",
   "execution_count": 31,
   "metadata": {
    "colab": {
     "base_uri": "https://localhost:8080/"
    },
    "id": "2hmcsP2XQCm6",
    "outputId": "b6468e05-0a9a-41dc-d707-23c272bc119b"
   },
   "outputs": [
    {
     "name": "stdout",
     "output_type": "stream",
     "text": [
      "['10s blog' '20s blog' '30s blog' '4male' '5female' 'Accounting'\n",
      " 'Advertising' 'Agriculture' 'Architecture' 'Arts' 'Automotive' 'Banking'\n",
      " 'Biotech' 'BusinessServices' 'Chemicals' 'Communications-Media'\n",
      " 'Construction' 'Consulting' 'Education' 'Engineering' 'Environment'\n",
      " 'Fashion' 'Government' 'HumanResources' 'Internet' 'InvestmentBanking'\n",
      " 'Law' 'LawEnforcement-Security' 'Manufacturing' 'Maritime' 'Marketing'\n",
      " 'Military' 'Museums-Libraries' 'Non-Profit' 'Publishing' 'RealEstate'\n",
      " 'Religion' 'Science' 'Sports-Recreation' 'Student' 'Technology'\n",
      " 'Telecommunications' 'Tourism' 'Transportation' 'Unknown_industry'\n",
      " 'aquarius' 'aries' 'cancer' 'capricorn' 'gemini' 'leo' 'libra' 'pisces'\n",
      " 'sagittarius' 'scorpio' 'taurus' 'virgo']\n"
     ]
    }
   ],
   "source": [
    "classes_y= multilabel_binarizer.classes_\n",
    "print(classes_y)  "
   ]
  },
  {
   "cell_type": "code",
   "execution_count": 36,
   "metadata": {
    "colab": {
     "base_uri": "https://localhost:8080/"
    },
    "id": "OeRm_PzTISLM",
    "outputId": "057fadb4-3af5-4fdb-bcb9-453ea94220e8"
   },
   "outputs": [
    {
     "data": {
      "text/plain": [
       "52500"
      ]
     },
     "execution_count": 36,
     "metadata": {},
     "output_type": "execute_result"
    }
   ],
   "source": [
    "len(X_small)"
   ]
  },
  {
   "cell_type": "markdown",
   "metadata": {
    "id": "uDWYs5OZ_lLa"
   },
   "source": [
    "It can be seen that the classes are arranged beautifully, with the first three denoting age, next two denoting gender, next the topic and finally the signs. This sequence will be useful when converting output from neural network (probabilities) into a vector with 0s and 1s for further comparison. (Done later)."
   ]
  },
  {
   "cell_type": "code",
   "execution_count": 32,
   "metadata": {
    "colab": {
     "base_uri": "https://localhost:8080/"
    },
    "id": "VO4Bjm7FQCps",
    "outputId": "8aa37a3c-4cda-4e66-a8ac-e92005dbc8bd"
   },
   "outputs": [
    {
     "name": "stdout",
     "output_type": "stream",
     "text": [
      "Looking in indexes: https://pypi.org/simple, https://us-python.pkg.dev/colab-wheels/public/simple/\n",
      "Collecting iterative-stratification\n",
      "  Downloading iterative_stratification-0.1.7-py3-none-any.whl (8.5 kB)\n",
      "Requirement already satisfied: numpy in /usr/local/lib/python3.7/dist-packages (from iterative-stratification) (1.21.6)\n",
      "Requirement already satisfied: scipy in /usr/local/lib/python3.7/dist-packages (from iterative-stratification) (1.7.3)\n",
      "Requirement already satisfied: scikit-learn in /usr/local/lib/python3.7/dist-packages (from iterative-stratification) (1.0.2)\n",
      "Requirement already satisfied: joblib>=0.11 in /usr/local/lib/python3.7/dist-packages (from scikit-learn->iterative-stratification) (1.2.0)\n",
      "Requirement already satisfied: threadpoolctl>=2.0.0 in /usr/local/lib/python3.7/dist-packages (from scikit-learn->iterative-stratification) (3.1.0)\n",
      "Installing collected packages: iterative-stratification\n",
      "Successfully installed iterative-stratification-0.1.7\n"
     ]
    }
   ],
   "source": [
    "# using iterative stratification for splitting in multilabel\n",
    "# defining a function multilabel_train_test_split\n",
    "\n",
    "!pip install iterative-stratification\n",
    "from iterstrat.ml_stratifiers import MultilabelStratifiedShuffleSplit\n",
    "from sklearn.utils import indexable, _safe_indexing\n",
    "from sklearn.utils.validation import _num_samples\n",
    "from sklearn.model_selection._split import _validate_shuffle_split\n",
    "from itertools import chain\n",
    "\n",
    "def multilabel_train_test_split(*arrays,\n",
    "                                test_size=None,\n",
    "                                train_size=None,\n",
    "                                random_state=None,\n",
    "                                shuffle=True,\n",
    "                                stratify=None):\n",
    "\n",
    "    # Train test split for multilabel classification. Uses the algorithm from: \n",
    "    # 'Sechidis K., Tsoumakas G., Vlahavas I. (2011) On the Stratification of Multi-Label Data'.\n",
    "\n",
    "    if stratify is None:\n",
    "        return train_test_split(*arrays, test_size=test_size,train_size=train_size,\n",
    "                                random_state=random_state, stratify=None, shuffle=shuffle)\n",
    "    \n",
    "    assert shuffle, \"Stratified train/test split is not implemented for shuffle=False\"\n",
    "    \n",
    "    n_arrays = len(arrays)\n",
    "    arrays = indexable(*arrays)\n",
    "    n_samples = _num_samples(arrays[0])\n",
    "    n_train, n_test = _validate_shuffle_split(\n",
    "        n_samples, test_size, train_size, default_test_size=0.25\n",
    "    )\n",
    "    cv = MultilabelStratifiedShuffleSplit(test_size=n_test, train_size=n_train, random_state=123)\n",
    "    train, test = next(cv.split(X=arrays[0], y=stratify))\n",
    "\n",
    "    return list(\n",
    "        chain.from_iterable(\n",
    "            (_safe_indexing(a, train), _safe_indexing(a, test)) for a in arrays\n",
    "        )\n",
    "    )"
   ]
  },
  {
   "cell_type": "code",
   "execution_count": 33,
   "metadata": {
    "id": "fBT02ujR_g4K"
   },
   "outputs": [],
   "source": [
    "# stratified train test split\n",
    "\n",
    "X_train_final, X_test_final, y_train_final, y_test_final = multilabel_train_test_split(X_small, y_mlb, stratify=y_mlb, test_size=0.20)"
   ]
  },
  {
   "cell_type": "code",
   "execution_count": 34,
   "metadata": {
    "colab": {
     "base_uri": "https://localhost:8080/"
    },
    "id": "LBE3x8uO_g6q",
    "outputId": "37e981a6-bb79-47b7-e43b-46c3ad51aee2"
   },
   "outputs": [
    {
     "name": "stdout",
     "output_type": "stream",
     "text": [
      "The shape of the train data is (42000,) \n",
      "\n",
      "The shape of the test data is (10500,)\n"
     ]
    }
   ],
   "source": [
    "print('The shape of the train data is',X_train_final.shape,'\\n')\n",
    "print('The shape of the test data is',X_test_final.shape)"
   ]
  },
  {
   "cell_type": "code",
   "execution_count": 35,
   "metadata": {
    "colab": {
     "base_uri": "https://localhost:8080/"
    },
    "id": "P-GLoxbPTuL7",
    "outputId": "2646436b-a4a1-4d1f-e0cb-fb125bf5e2ab"
   },
   "outputs": [
    {
     "name": "stdout",
     "output_type": "stream",
     "text": [
      "The shape of the train data is (42000, 57) \n",
      "\n",
      "The shape of the test data is (10500, 57)\n"
     ]
    }
   ],
   "source": [
    "print('The shape of the train data is',y_train_final.shape,'\\n')\n",
    "print('The shape of the test data is',y_test_final.shape)"
   ]
  },
  {
   "cell_type": "markdown",
   "metadata": {
    "id": "JW-BQbFrAGw8"
   },
   "source": [
    "**Vectorisation, etc.**"
   ]
  },
  {
   "cell_type": "code",
   "execution_count": 36,
   "metadata": {
    "id": "jtUzFOVg_g9i"
   },
   "outputs": [],
   "source": [
    "X_train_tokens_list = X_train_final.tolist()"
   ]
  },
  {
   "cell_type": "code",
   "execution_count": 37,
   "metadata": {
    "id": "ZcBvwDBNQDSm"
   },
   "outputs": [],
   "source": [
    "X_test_tokens_list = X_test_final.tolist()"
   ]
  },
  {
   "cell_type": "markdown",
   "metadata": {
    "id": "uDcVcNqXaL5R"
   },
   "source": [
    "Using Glove/word2vec"
   ]
  },
  {
   "cell_type": "code",
   "execution_count": 38,
   "metadata": {
    "id": "aN0YcCSMggUj"
   },
   "outputs": [],
   "source": [
    "#!wget http://nlp.stanford.edu/data/glove.6B.zip\n",
    "#!unzip glove.6B.zip\n",
    "\n",
    "with open(\"glove.6B.300d.txt\", \"rb\") as lines:\n",
    "   w2v = {line.split()[0]: np.array(map(float, line.split()[1:]))\n",
    "         for line in lines}\n"
   ]
  },
  {
   "cell_type": "code",
   "execution_count": 39,
   "metadata": {
    "id": "Wo1QkQ1-ggW7"
   },
   "outputs": [],
   "source": [
    "import gensim\n",
    "# let X be a list of tokenized texts (i.e. list of lists of tokens)\n",
    "model_w2v = gensim.models.Word2Vec(X_train_tokens_list, size=10000)\n",
    "w2v = dict(zip(model_w2v.wv.index2word, model_w2v.wv.syn0))"
   ]
  },
  {
   "cell_type": "code",
   "execution_count": 40,
   "metadata": {
    "id": "LSAfzPjuggZf"
   },
   "outputs": [],
   "source": [
    "class MeanEmbeddingVectorizer(object):\n",
    "   def __init__(self, word2vec):\n",
    "       self.word2vec = word2vec\n",
    "       # if a text is empty we should return a vector of zeros\n",
    "       # with the same dimensionality as all the other vectors\n",
    "       # self.dim = len(word2vec.itervalues().next())\n",
    "       self.dim = 10000\n",
    "\n",
    "   def fit(self, X, y):\n",
    "       return self\n",
    "\n",
    "   def transform(self, X):\n",
    "       return np.array([\n",
    "           np.mean([self.word2vec[w] for w in words if w in self.word2vec]\n",
    "                   or [np.zeros(self.dim)], axis=0)\n",
    "           for words in X\n",
    "       ])"
   ]
  },
  {
   "cell_type": "code",
   "execution_count": 41,
   "metadata": {
    "id": "AbUkFdwlggcO"
   },
   "outputs": [],
   "source": [
    "me_vector = MeanEmbeddingVectorizer(w2v)\n",
    "X_train_transformed = me_vector.transform(X_train_tokens_list)\n",
    "X_test_transformed = me_vector.transform(X_test_tokens_list)\n"
   ]
  },
  {
   "cell_type": "code",
   "execution_count": 42,
   "metadata": {
    "id": "doLZTLlC6II6"
   },
   "outputs": [],
   "source": [
    "from sklearn.multiclass import OneVsRestClassifier\n",
    "from sklearn.linear_model import LogisticRegression\n",
    "from sklearn.discriminant_analysis import LinearDiscriminantAnalysis\n",
    "from sklearn.svm import LinearSVC\n",
    "from sklearn.naive_bayes import MultinomialNB"
   ]
  },
  {
   "cell_type": "code",
   "execution_count": null,
   "metadata": {
    "colab": {
     "base_uri": "https://localhost:8080/"
    },
    "id": "MJa_4I4uggiq",
    "outputId": "4bcc4737-09e6-4b07-e2ce-cadc41c60d03"
   },
   "outputs": [
    {
     "data": {
      "text/plain": [
       "OneVsRestClassifier(estimator=LogisticRegression())"
      ]
     },
     "execution_count": 56,
     "metadata": {},
     "output_type": "execute_result"
    }
   ],
   "source": [
    "model_lr=LogisticRegression(C=1.0, penalty='l2', dual=False, solver='lbfgs')\n",
    "model_lr=OneVsRestClassifier(model_lr)\n",
    "model_lr.fit(X_train_transformed,y_train_final)"
   ]
  },
  {
   "cell_type": "code",
   "execution_count": null,
   "metadata": {
    "colab": {
     "base_uri": "https://localhost:8080/"
    },
    "id": "wB2fjJBj77hp",
    "outputId": "7b0b4eec-0e80-4b09-bccd-1a217778f4cc"
   },
   "outputs": [
    {
     "data": {
      "text/plain": [
       "OneVsRestClassifier(estimator=LinearSVC(dual=False, penalty='l1'))"
      ]
     },
     "execution_count": 57,
     "metadata": {},
     "output_type": "execute_result"
    }
   ],
   "source": [
    "model_svm=LinearSVC(C=1.0, penalty='l1', dual=False, loss='squared_hinge')\n",
    "model_svm=OneVsRestClassifier(model_svm)\n",
    "model_svm.fit(X_train_transformed,y_train_final)"
   ]
  },
  {
   "cell_type": "code",
   "execution_count": null,
   "metadata": {
    "colab": {
     "base_uri": "https://localhost:8080/"
    },
    "id": "Ep0YFMtj77ka",
    "outputId": "f94290c9-a180-462d-8f7c-9b437b2c6077"
   },
   "outputs": [
    {
     "data": {
      "text/plain": [
       "OneVsRestClassifier(estimator=OneVsRestClassifier(estimator=LinearSVC(dual=False,\n",
       "                                                                      penalty='l1')))"
      ]
     },
     "execution_count": 58,
     "metadata": {},
     "output_type": "execute_result"
    }
   ],
   "source": [
    "model_nb=MultinomialNB(alpha=1.0)\n",
    "model_nb=OneVsRestClassifier(model_svm)\n",
    "model_nb.fit(X_train_transformed,y_train_final)"
   ]
  },
  {
   "cell_type": "code",
   "execution_count": null,
   "metadata": {
    "id": "cBn2wIk7gglf"
   },
   "outputs": [],
   "source": [
    "Ypred_lr=model_lr.predict(X_test_transformed)"
   ]
  },
  {
   "cell_type": "code",
   "execution_count": null,
   "metadata": {
    "id": "gega20gn4xB8"
   },
   "outputs": [],
   "source": [
    "Ypred_svm=model_svm.predict(X_test_transformed)"
   ]
  },
  {
   "cell_type": "code",
   "execution_count": null,
   "metadata": {
    "id": "Giq3zzPx4xEa"
   },
   "outputs": [],
   "source": [
    "Ypred_nb=model_nb.predict(X_test_transformed)"
   ]
  },
  {
   "cell_type": "code",
   "execution_count": null,
   "metadata": {
    "colab": {
     "base_uri": "https://localhost:8080/"
    },
    "id": "UOmzoa6I4xHB",
    "outputId": "15b301c7-a439-475a-c0df-c9d9ffbf4151"
   },
   "outputs": [
    {
     "data": {
      "text/plain": [
       "array([[0, 0, 0, ..., 0, 0, 0],\n",
       "       [1, 0, 0, ..., 0, 0, 0],\n",
       "       [0, 0, 0, ..., 0, 0, 0],\n",
       "       ...,\n",
       "       [1, 0, 0, ..., 0, 0, 0],\n",
       "       [0, 0, 0, ..., 0, 0, 0],\n",
       "       [0, 0, 0, ..., 0, 0, 0]])"
      ]
     },
     "execution_count": 82,
     "metadata": {},
     "output_type": "execute_result"
    }
   ],
   "source": [
    "Ypred_lr"
   ]
  },
  {
   "cell_type": "code",
   "execution_count": null,
   "metadata": {
    "colab": {
     "base_uri": "https://localhost:8080/"
    },
    "id": "SzwtT9_Vk-zB",
    "outputId": "c716fb77-8b81-4b57-ec35-fda25d3d51b3"
   },
   "outputs": [
    {
     "data": {
      "text/plain": [
       "array([[0, 0, 0, ..., 0, 0, 0],\n",
       "       [1, 0, 0, ..., 0, 0, 0],\n",
       "       [0, 0, 0, ..., 0, 0, 0],\n",
       "       ...,\n",
       "       [1, 0, 0, ..., 0, 0, 0],\n",
       "       [0, 0, 0, ..., 0, 0, 0],\n",
       "       [0, 0, 0, ..., 0, 0, 0]])"
      ]
     },
     "execution_count": 60,
     "metadata": {},
     "output_type": "execute_result"
    }
   ],
   "source": [
    "Ypred_svm"
   ]
  },
  {
   "cell_type": "code",
   "execution_count": null,
   "metadata": {
    "colab": {
     "base_uri": "https://localhost:8080/"
    },
    "id": "h9v93gtr5BTf",
    "outputId": "4fd7046d-7c1b-413c-b953-4214462fe861"
   },
   "outputs": [
    {
     "data": {
      "text/plain": [
       "array([[0, 0, 0, ..., 0, 0, 0],\n",
       "       [1, 0, 0, ..., 0, 0, 0],\n",
       "       [0, 0, 0, ..., 0, 0, 0],\n",
       "       ...,\n",
       "       [1, 0, 0, ..., 0, 0, 0],\n",
       "       [0, 0, 0, ..., 0, 0, 0],\n",
       "       [0, 0, 0, ..., 0, 0, 0]])"
      ]
     },
     "execution_count": 79,
     "metadata": {},
     "output_type": "execute_result"
    }
   ],
   "source": [
    "Ypred_nb"
   ]
  },
  {
   "cell_type": "markdown",
   "metadata": {
    "id": "zsMERrBXxS-L"
   },
   "source": [
    "Using micro and macro average method"
   ]
  },
  {
   "cell_type": "code",
   "execution_count": 43,
   "metadata": {
    "id": "19ztwByGk-1V"
   },
   "outputs": [],
   "source": [
    "from sklearn.metrics import accuracy_score\n",
    "from sklearn.metrics import f1_score\n",
    "from sklearn.metrics import average_precision_score\n",
    "from sklearn.metrics import recall_score\n",
    "\n",
    "def display_metrics_micro(Ytest, Ypred):\n",
    "    print('Accuracy score: ', accuracy_score(Ytest, Ypred))\n",
    "    print('F1 score: Micro', f1_score(Ytest, Ypred, average='micro'))\n",
    "    print('Average precision score: Micro', average_precision_score(Ytest, Ypred, average='micro'))\n",
    "    print('Average recall score: Micro', recall_score(Ytest, Ypred, average='micro'))\n",
    "    print('Average roc-auc score: Micro', roc_auc_score(Ytest, Ypred, average='micro'))\n",
    "    \n",
    "\n",
    "def display_metrics_macro(Ytest, Ypred):\n",
    "    print('Accuracy score: ', accuracy_score(Ytest, Ypred))\n",
    "    print('F1 score: Macro', f1_score(Ytest, Ypred, average='macro'))\n",
    "    print('Average recall score: MAcro', recall_score(Ytest, Ypred, average='macro'))\n",
    "    print('Average roc-auc score: Micro', roc_auc_score(Ytest, Ypred, average='macro'))\n",
    "\n",
    "def display_metrics_weighted(Ytest, Ypred):\n",
    "    print('Accuracy score: ', accuracy_score(Ytest, Ypred))\n",
    "    print('F1 score: weighted', f1_score(Ytest, Ypred, average='weighted'))\n",
    "    print('Average precision score: weighted', average_precision_score(Ytest, Ypred, average='weighted'))\n",
    "    print('Average recall score: weighted', recall_score(Ytest, Ypred, average='weighted')) \n",
    "\n"
   ]
  },
  {
   "cell_type": "code",
   "execution_count": null,
   "metadata": {
    "colab": {
     "base_uri": "https://localhost:8080/"
    },
    "id": "ygVZFt8Lk-4A",
    "outputId": "0b6a60f9-cb82-43aa-a62e-02fd3de04e68"
   },
   "outputs": [
    {
     "name": "stdout",
     "output_type": "stream",
     "text": [
      "Accuracy score:  0.0\n",
      "F1 score: Micro 0.30020218066286375\n",
      "Average precision score: Micro 0.1791677132826592\n",
      "Average recall score: Micro 0.19797619047619047\n"
     ]
    }
   ],
   "source": [
    "display_metrics_micro(y_test_final,Ypred_lr)"
   ]
  },
  {
   "cell_type": "code",
   "execution_count": null,
   "metadata": {
    "colab": {
     "base_uri": "https://localhost:8080/"
    },
    "id": "OVeowKx35I1A",
    "outputId": "df67df93-4b6e-445b-a733-04b8d428d662"
   },
   "outputs": [
    {
     "name": "stdout",
     "output_type": "stream",
     "text": [
      "Accuracy score:  0.0\n",
      "F1 score: Micro 0.30020218066286375\n",
      "Average precision score: Micro 0.1791677132826592\n",
      "Average recall score: Micro 0.19797619047619047\n"
     ]
    }
   ],
   "source": [
    "display_metrics_micro(y_test_final,Ypred_svm)"
   ]
  },
  {
   "cell_type": "code",
   "execution_count": null,
   "metadata": {
    "colab": {
     "base_uri": "https://localhost:8080/"
    },
    "id": "voXobSJd5I-e",
    "outputId": "67b14879-1845-4347-fc0b-b19ef717ef98"
   },
   "outputs": [
    {
     "name": "stdout",
     "output_type": "stream",
     "text": [
      "Accuracy score:  0.0\n",
      "F1 score: Micro 0.30020218066286375\n",
      "Average precision score: Micro 0.1791677132826592\n",
      "Average recall score: Micro 0.19797619047619047\n"
     ]
    }
   ],
   "source": [
    "display_metrics_micro(y_test_final,Ypred_nb)"
   ]
  },
  {
   "cell_type": "code",
   "execution_count": null,
   "metadata": {
    "colab": {
     "base_uri": "https://localhost:8080/"
    },
    "id": "SxCvUbvGk-6j",
    "outputId": "a810bacb-fc61-443a-cec4-c259d98475c1"
   },
   "outputs": [
    {
     "name": "stdout",
     "output_type": "stream",
     "text": [
      "Accuracy score:  0.0\n",
      "F1 score: Macro 0.03637750454223945\n",
      "Average recall score: MAcro 0.032116419078517484\n"
     ]
    }
   ],
   "source": [
    "display_metrics_macro(y_test_final,Ypred_lr)"
   ]
  },
  {
   "cell_type": "code",
   "execution_count": null,
   "metadata": {
    "colab": {
     "base_uri": "https://localhost:8080/"
    },
    "id": "mOhcXNUR6AJT",
    "outputId": "ede72df3-8647-4799-bd4f-7e66bef1d689"
   },
   "outputs": [
    {
     "name": "stdout",
     "output_type": "stream",
     "text": [
      "Accuracy score:  0.0\n",
      "F1 score: Macro 0.03500048137085356\n",
      "Average recall score: MAcro 0.03089947716897248\n"
     ]
    }
   ],
   "source": [
    "display_metrics_macro(y_test_final,Ypred_svm)"
   ]
  },
  {
   "cell_type": "code",
   "execution_count": null,
   "metadata": {
    "colab": {
     "base_uri": "https://localhost:8080/"
    },
    "id": "TgPj58R96AMF",
    "outputId": "8e91581d-f2d1-4f7e-e50e-fd86561a374f"
   },
   "outputs": [
    {
     "name": "stdout",
     "output_type": "stream",
     "text": [
      "Accuracy score:  0.0\n",
      "F1 score: Macro 0.03502684280991805\n",
      "Average recall score: MAcro 0.0309070454954527\n"
     ]
    }
   ],
   "source": [
    "display_metrics_macro(y_test_final,Ypred_nb)"
   ]
  },
  {
   "cell_type": "code",
   "execution_count": null,
   "metadata": {
    "colab": {
     "base_uri": "https://localhost:8080/"
    },
    "id": "QKJjvM-dk-9L",
    "outputId": "2aae3d85-accd-41ea-8460-1429a4eb9d46"
   },
   "outputs": [
    {
     "name": "stdout",
     "output_type": "stream",
     "text": [
      "Accuracy score:  0.0\n",
      "F1 score: weighted 0.2232277377220162\n",
      "Average precision score: weighted 0.31362558043517197\n",
      "Average recall score: weighted 0.20347619047619048\n"
     ]
    }
   ],
   "source": [
    "display_metrics_weighted(y_test_final,Ypred_lr)"
   ]
  },
  {
   "cell_type": "code",
   "execution_count": null,
   "metadata": {
    "colab": {
     "base_uri": "https://localhost:8080/"
    },
    "id": "lwSzKZUQ8WEW",
    "outputId": "30658507-f39c-4cb1-c80f-2d9f65c52fe2"
   },
   "outputs": [
    {
     "name": "stdout",
     "output_type": "stream",
     "text": [
      "Accuracy score:  0.0\n",
      "F1 score: weighted 0.21723360643489867\n",
      "Average precision score: weighted 0.31236698140233427\n",
      "Average recall score: weighted 0.19797619047619047\n"
     ]
    }
   ],
   "source": [
    "display_metrics_weighted(y_test_final,Ypred_svm)"
   ]
  },
  {
   "cell_type": "code",
   "execution_count": null,
   "metadata": {
    "colab": {
     "base_uri": "https://localhost:8080/"
    },
    "id": "tyqYo6338WHK",
    "outputId": "bdd64486-861a-4668-f89b-ac19a28a7edb"
   },
   "outputs": [
    {
     "name": "stdout",
     "output_type": "stream",
     "text": [
      "Accuracy score:  0.0\n",
      "F1 score: weighted 0.21732673771059866\n",
      "Average precision score: weighted 0.3123579924254211\n",
      "Average recall score: weighted 0.19797619047619047\n"
     ]
    }
   ],
   "source": [
    "display_metrics_weighted(y_test_final,Ypred_nb)"
   ]
  },
  {
   "cell_type": "markdown",
   "metadata": {
    "id": "eYqSXt_M8en2"
   },
   "source": [
    "**As we can see performnce is very poor so I'll try neural networks next.GLOve/Word2Vec does'nt work well, So now I'll use Countvectorizer and train again**"
   ]
  },
  {
   "cell_type": "markdown",
   "metadata": {
    "id": "dCwNNlSP8uQR"
   },
   "source": [
    "**Using countvectorizer**"
   ]
  },
  {
   "cell_type": "code",
   "execution_count": 53,
   "metadata": {
    "colab": {
     "base_uri": "https://localhost:8080/"
    },
    "id": "acTDhTuO3rEN",
    "outputId": "8fd41f43-269f-4f0d-cf6f-06e6302410c3"
   },
   "outputs": [
    {
     "name": "stdout",
     "output_type": "stream",
     "text": [
      "The shape of the train data after vectorization is (42000, 22601) \n",
      "\n",
      "The shape of the test data after vectorization is (10500, 22601)\n"
     ]
    }
   ],
   "source": [
    "# instantiate the vectorizer\n",
    "# creating bag of words which include 1-grams and 2-gram\n",
    "\n",
    "vect = CountVectorizer(ngram_range=(1,2), analyzer=lambda x: x)\n",
    "\n",
    "# learn training data vocabulary, then use it to create a document-term matrix\n",
    "vect.fit(X_train_final)\n",
    "X_train_transformedC = vect.transform(X_train_final)\n",
    "X_test_transformedC = vect.transform(X_test_final)\n",
    "\n",
    "print('The shape of the train data after vectorization is',X_train_transformedC.shape,'\\n')\n",
    "print('The shape of the test data after vectorization is',X_test_transformedC.shape)"
   ]
  },
  {
   "cell_type": "code",
   "execution_count": 48,
   "metadata": {
    "colab": {
     "base_uri": "https://localhost:8080/"
    },
    "id": "eq4GsnCUauMM",
    "outputId": "926bdca1-86fe-4498-912f-dbf7c39edba6"
   },
   "outputs": [
    {
     "data": {
      "text/plain": [
       "OneVsRestClassifier(estimator=LogisticRegression())"
      ]
     },
     "execution_count": 48,
     "metadata": {},
     "output_type": "execute_result"
    }
   ],
   "source": [
    "#Logistic Regression\n",
    "\n",
    "model_lr=LogisticRegression(C=1.0, penalty='l2', dual=False, solver='lbfgs')\n",
    "model_lr=OneVsRestClassifier(model_lr)\n",
    "model_lr.fit(X_train_transformedC,y_train_final)"
   ]
  },
  {
   "cell_type": "code",
   "execution_count": 52,
   "metadata": {
    "id": "xDVxrUvFQpwz"
   },
   "outputs": [],
   "source": [
    "Ypred_lr=model_lr.predict(X_test_transformedC)"
   ]
  },
  {
   "cell_type": "code",
   "execution_count": 59,
   "metadata": {
    "colab": {
     "base_uri": "https://localhost:8080/"
    },
    "id": "111sdi5QQrhs",
    "outputId": "2e3e0c7c-a917-4c1b-95ff-fe02a2c6ab09"
   },
   "outputs": [
    {
     "name": "stdout",
     "output_type": "stream",
     "text": [
      "Accuracy score:  0.015047619047619048\n",
      "F1 score: Micro 0.40801494711135305\n",
      "Average precision score: Micro 0.22328202577890716\n",
      "Average recall score: Micro 0.33016666666666666\n",
      "Average roc-auc score: Micro 0.6542064240790656\n"
     ]
    }
   ],
   "source": [
    "display_metrics_micro(y_test_final,Ypred_lr)"
   ]
  },
  {
   "cell_type": "code",
   "execution_count": 60,
   "metadata": {
    "colab": {
     "base_uri": "https://localhost:8080/"
    },
    "id": "lG5Hojf7RdQq",
    "outputId": "5ac22eed-bcf4-4178-beef-e4cc1b7f9f04"
   },
   "outputs": [
    {
     "name": "stdout",
     "output_type": "stream",
     "text": [
      "Accuracy score:  0.015047619047619048\n",
      "F1 score: Macro 0.10692712300853816\n",
      "Average recall score: MAcro 0.08385043850126488\n",
      "Average roc-auc score: Micro 0.5261197147593384\n"
     ]
    }
   ],
   "source": [
    "display_metrics_macro(y_test_final,Ypred_lr)"
   ]
  },
  {
   "cell_type": "code",
   "execution_count": 61,
   "metadata": {
    "colab": {
     "base_uri": "https://localhost:8080/"
    },
    "id": "F46gRwy_R1sb",
    "outputId": "b03e9c60-804d-489d-adce-4a28b1e8171f"
   },
   "outputs": [
    {
     "name": "stdout",
     "output_type": "stream",
     "text": [
      "Accuracy score:  0.015047619047619048\n",
      "F1 score: weighted 0.364148210000865\n",
      "Average precision score: weighted 0.3403076762558432\n",
      "Average recall score: weighted 0.33016666666666666\n"
     ]
    }
   ],
   "source": [
    "display_metrics_weighted(y_test_final,Ypred_lr)"
   ]
  },
  {
   "cell_type": "code",
   "execution_count": 49,
   "metadata": {
    "colab": {
     "base_uri": "https://localhost:8080/"
    },
    "id": "VrJV4eayauO7",
    "outputId": "6bfad65a-28c6-483c-eb4a-8a276d16cee4"
   },
   "outputs": [
    {
     "data": {
      "text/plain": [
       "OneVsRestClassifier(estimator=LinearSVC(dual=False, penalty='l1'))"
      ]
     },
     "execution_count": 49,
     "metadata": {},
     "output_type": "execute_result"
    }
   ],
   "source": [
    "# LinearSVC\n",
    "\n",
    "model_svm=LinearSVC(C=1.0, penalty='l1', dual=False, loss='squared_hinge')\n",
    "model_svm=OneVsRestClassifier(model_svm)\n",
    "model_svm.fit(X_train_transformedC,y_train_final)"
   ]
  },
  {
   "cell_type": "code",
   "execution_count": 54,
   "metadata": {
    "id": "7OwPxsFRQ5PE"
   },
   "outputs": [],
   "source": [
    "Ypred_svm = model_svm.predict(X_test_transformedC)"
   ]
  },
  {
   "cell_type": "code",
   "execution_count": 62,
   "metadata": {
    "colab": {
     "base_uri": "https://localhost:8080/"
    },
    "id": "bmCoAcdVRFCW",
    "outputId": "4ae36b55-79ff-4a22-e29e-33955d9c0f7e"
   },
   "outputs": [
    {
     "name": "stdout",
     "output_type": "stream",
     "text": [
      "Accuracy score:  0.01742857142857143\n",
      "F1 score: Micro 0.3951811800417378\n",
      "Average precision score: Micro 0.20502646449898415\n",
      "Average recall score: Micro 0.3471666666666667\n",
      "Average roc-auc score: Micro 0.6581179245283019\n"
     ]
    }
   ],
   "source": [
    "display_metrics_micro(y_test_final,Ypred_svm)"
   ]
  },
  {
   "cell_type": "code",
   "execution_count": 63,
   "metadata": {
    "colab": {
     "base_uri": "https://localhost:8080/"
    },
    "id": "OfBAKLxaR-dB",
    "outputId": "b81e3900-9b18-4d2f-92c3-74ace9f4b765"
   },
   "outputs": [
    {
     "name": "stdout",
     "output_type": "stream",
     "text": [
      "Accuracy score:  0.01742857142857143\n",
      "F1 score: Macro 0.12790342904123625\n",
      "Average recall score: MAcro 0.1071783908877871\n",
      "Average roc-auc score: Micro 0.5327074097333548\n"
     ]
    }
   ],
   "source": [
    "display_metrics_macro(y_test_final,Ypred_svm)"
   ]
  },
  {
   "cell_type": "code",
   "execution_count": 64,
   "metadata": {
    "colab": {
     "base_uri": "https://localhost:8080/"
    },
    "id": "870VQ_qlR-et",
    "outputId": "f84449e0-d3b6-42ca-8c86-461710b7314f"
   },
   "outputs": [
    {
     "name": "stdout",
     "output_type": "stream",
     "text": [
      "Accuracy score:  0.01742857142857143\n",
      "F1 score: weighted 0.3720576640254426\n",
      "Average precision score: weighted 0.334229197146188\n",
      "Average recall score: weighted 0.3471666666666667\n"
     ]
    }
   ],
   "source": [
    "display_metrics_weighted(y_test_final,Ypred_svm)"
   ]
  },
  {
   "cell_type": "code",
   "execution_count": 50,
   "metadata": {
    "colab": {
     "base_uri": "https://localhost:8080/"
    },
    "id": "7NGsN_xKbIDR",
    "outputId": "940ef52b-906b-4434-a339-696039e5c0f8"
   },
   "outputs": [
    {
     "data": {
      "text/plain": [
       "OneVsRestClassifier(estimator=OneVsRestClassifier(estimator=LinearSVC(dual=False,\n",
       "                                                                      penalty='l1')))"
      ]
     },
     "execution_count": 50,
     "metadata": {},
     "output_type": "execute_result"
    }
   ],
   "source": [
    "# NaiveBays \n",
    "\n",
    "model_nb=MultinomialNB(alpha=1.0)\n",
    "model_nb=OneVsRestClassifier(model_svm)\n",
    "model_nb.fit(X_train_transformedC,y_train_final)"
   ]
  },
  {
   "cell_type": "code",
   "execution_count": 56,
   "metadata": {
    "id": "9ujJ0wynRNNC"
   },
   "outputs": [],
   "source": [
    "Ypred_nb = model_nb.predict(X_test_transformedC)"
   ]
  },
  {
   "cell_type": "code",
   "execution_count": 65,
   "metadata": {
    "colab": {
     "base_uri": "https://localhost:8080/"
    },
    "id": "uKgpgKgCRNQe",
    "outputId": "5912bea7-c56c-4020-e106-6c7ae6e63241"
   },
   "outputs": [
    {
     "name": "stdout",
     "output_type": "stream",
     "text": [
      "Accuracy score:  0.01742857142857143\n",
      "F1 score: Micro 0.3950560396817868\n",
      "Average precision score: Micro 0.20494051801150615\n",
      "Average recall score: Micro 0.3470238095238095\n",
      "Average roc-auc score: Micro 0.6580473944294699\n"
     ]
    }
   ],
   "source": [
    "display_metrics_micro(y_test_final,Ypred_nb)"
   ]
  },
  {
   "cell_type": "code",
   "execution_count": 66,
   "metadata": {
    "colab": {
     "base_uri": "https://localhost:8080/"
    },
    "id": "-qyHiR-PbHOQ",
    "outputId": "65d2682e-683e-496b-9616-bdd5d8a52b91"
   },
   "outputs": [
    {
     "name": "stdout",
     "output_type": "stream",
     "text": [
      "Accuracy score:  0.01742857142857143\n",
      "F1 score: Macro 0.12785381987950925\n",
      "Average recall score: MAcro 0.10709372695358023\n",
      "Average roc-auc score: Micro 0.5326671851592121\n"
     ]
    }
   ],
   "source": [
    "display_metrics_macro(y_test_final,Ypred_nb)"
   ]
  },
  {
   "cell_type": "code",
   "execution_count": 67,
   "metadata": {
    "colab": {
     "base_uri": "https://localhost:8080/"
    },
    "id": "PrvcD_p_bHQ2",
    "outputId": "754076ba-5f8f-461f-9c8b-dd9c3050b5d7"
   },
   "outputs": [
    {
     "name": "stdout",
     "output_type": "stream",
     "text": [
      "Accuracy score:  0.01742857142857143\n",
      "F1 score: weighted 0.3719499537512152\n",
      "Average precision score: weighted 0.33419213259508146\n",
      "Average recall score: weighted 0.3470238095238095\n"
     ]
    }
   ],
   "source": [
    "display_metrics_weighted(y_test_final,Ypred_nb)"
   ]
  },
  {
   "cell_type": "markdown",
   "metadata": {
    "id": "JwSf7THgSWla"
   },
   "source": [
    "As we can see after using count vectorizer the performance has improved a little bit."
   ]
  },
  {
   "cell_type": "code",
   "execution_count": null,
   "metadata": {
    "id": "EAYYZx3jauSK"
   },
   "outputs": [],
   "source": []
  },
  {
   "cell_type": "markdown",
   "metadata": {
    "id": "EtuEqITaAUV5"
   },
   "source": [
    "Design, train, tune and test the best text classifier using NN(here also I have used count vectorizer, though Glove/Word2Vec can also be used)"
   ]
  },
  {
   "cell_type": "code",
   "execution_count": 54,
   "metadata": {
    "colab": {
     "base_uri": "https://localhost:8080/"
    },
    "id": "EJiPniI8AIWr",
    "outputId": "3bd25863-1cb2-4375-e76b-6bfec86b8e6b"
   },
   "outputs": [
    {
     "name": "stdout",
     "output_type": "stream",
     "text": [
      "Epoch 1/8\n",
      "657/657 [==============================] - 10s 13ms/step - loss: 0.2443 - accuracy: 0.1819 - binary_accuracy: 0.9058 - val_loss: 0.1636 - val_accuracy: 0.1998 - val_binary_accuracy: 0.9388\n",
      "Epoch 2/8\n",
      "657/657 [==============================] - 9s 13ms/step - loss: 0.1466 - accuracy: 0.2989 - binary_accuracy: 0.9470 - val_loss: 0.1687 - val_accuracy: 0.2483 - val_binary_accuracy: 0.9371\n",
      "Epoch 3/8\n",
      "657/657 [==============================] - 9s 13ms/step - loss: 0.1151 - accuracy: 0.3607 - binary_accuracy: 0.9594 - val_loss: 0.1896 - val_accuracy: 0.2484 - val_binary_accuracy: 0.9349\n",
      "Epoch 4/8\n",
      "657/657 [==============================] - 9s 13ms/step - loss: 0.0851 - accuracy: 0.3838 - binary_accuracy: 0.9703 - val_loss: 0.2205 - val_accuracy: 0.2479 - val_binary_accuracy: 0.9312\n"
     ]
    },
    {
     "data": {
      "text/plain": [
       "<keras.callbacks.History at 0x7fa7410bc310>"
      ]
     },
     "execution_count": 54,
     "metadata": {},
     "output_type": "execute_result"
    }
   ],
   "source": [
    "n_inputs = X_train_transformedC.shape[1]\n",
    "n_outputs = y_train_final.shape[1]\n",
    "\n",
    "model_nn = Sequential()\n",
    "model_nn.add(Dense(512, input_dim=n_inputs, kernel_initializer='he_uniform', activation='relu'))\n",
    "model_nn.add(BatchNormalization())\n",
    "\n",
    "# The Hidden Layers :\n",
    "model_nn.add(Dense(256, kernel_initializer='he_uniform', activation='relu'))\n",
    "model_nn.add(BatchNormalization())\n",
    "model_nn.add(Dense(128, kernel_initializer='he_uniform',activation='relu')) \n",
    "model_nn.add(BatchNormalization())\n",
    "\n",
    "# the output layer\n",
    "model_nn.add(Dense(n_outputs, activation='sigmoid'))\n",
    "model_nn.compile(loss='binary_crossentropy', optimizer='adam', metrics =['accuracy','binary_accuracy'])\n",
    "\n",
    "stop = EarlyStopping(monitor=\"val_loss\", patience=3, min_delta=0.01)\n",
    "model_nn.fit(X_train_transformedC, y_train_final, validation_data=(X_test_transformedC,y_test_final), verbose=1, epochs=8, batch_size = 64, callbacks=[stop])"
   ]
  },
  {
   "cell_type": "code",
   "execution_count": 55,
   "metadata": {
    "colab": {
     "base_uri": "https://localhost:8080/"
    },
    "id": "jJDtSGfoAIZD",
    "outputId": "7ae0d935-c8cd-437f-c6d9-21aae680a058"
   },
   "outputs": [
    {
     "name": "stdout",
     "output_type": "stream",
     "text": [
      "1313/1313 [==============================] - 3s 3ms/step\n",
      "[1 0 0 1 0 0 0 0 0 0 0 0 0 0 0 0 0 0 0 0 0 0 0 0 0 0 0 0 0 0 0 0 0 0 0 0 0\n",
      " 0 0 1 0 0 0 0 0 0 0 0 0 0 0 1 0 0 0 0 0] \n",
      "\n",
      "[9.66402113e-01 8.56892467e-02 7.73700478e-04 9.87580538e-01\n",
      " 1.43024903e-02 8.34997219e-04 7.88929465e-04 8.90534313e-04\n",
      " 1.42118311e-03 2.70705926e-03 4.91743907e-04 5.42308029e-04\n",
      " 1.03831303e-03 3.71539663e-03 3.11507797e-03 5.59122115e-03\n",
      " 3.07121722e-04 7.29003630e-04 3.84064997e-03 3.89386085e-03\n",
      " 9.83903883e-05 1.60178938e-03 2.85113743e-03 2.77757266e-04\n",
      " 1.20911968e-03 2.68865027e-04 1.46753562e-03 4.81324067e-04\n",
      " 3.05051520e-03 3.90810397e-04 8.95234698e-04 2.98806909e-03\n",
      " 6.06627902e-04 9.10445210e-03 1.52945775e-03 1.20918942e-03\n",
      " 4.11415100e-03 1.95598602e-03 5.65388985e-03 9.39132750e-01\n",
      " 2.94766016e-03 1.14307208e-04 7.24753540e-04 7.05079932e-04\n",
      " 1.20065957e-01 7.10399598e-02 4.63501140e-02 1.61634758e-01\n",
      " 2.37101033e-01 3.36926207e-02 1.39137963e-02 1.13145314e-01\n",
      " 1.60666890e-02 4.52586040e-02 8.30080919e-03 1.79013181e-02\n",
      " 9.10444707e-02] \n",
      " \n",
      "\n",
      "[1 0 0 0 1 0 0 0 0 0 0 0 0 0 0 0 0 0 0 0 0 0 0 0 0 0 0 0 0 0 0 0 0 0 0 0 0\n",
      " 0 0 1 0 0 0 0 0 0 0 0 1 0 0 0 0 0 0 0 0] \n",
      "\n",
      "[9.8536426e-01 6.2903366e-03 3.3375935e-03 2.2857925e-01 7.0057458e-01\n",
      " 3.2044336e-05 5.5532268e-04 1.0187979e-04 3.7261576e-05 3.7139442e-03\n",
      " 3.4445846e-05 3.3029562e-06 7.7252823e-04 2.1636843e-04 5.0552859e-04\n",
      " 2.2615090e-03 6.9949933e-06 5.7979161e-04 2.1136712e-02 6.1202314e-05\n",
      " 1.8672888e-05 5.3669349e-03 1.1068528e-03 3.5929639e-04 6.9061083e-05\n",
      " 2.5569761e-04 2.1298681e-04 3.4307940e-03 9.0349151e-04 1.4113505e-04\n",
      " 1.4137103e-05 1.4905051e-04 5.8021014e-05 3.0427109e-04 5.3352863e-03\n",
      " 6.1034126e-04 2.2752100e-04 3.2530431e-04 2.4281484e-04 9.6545368e-01\n",
      " 2.9637583e-03 1.2951580e-04 2.4295154e-03 3.9588363e-04 3.7384841e-03\n",
      " 2.2865488e-04 1.0277154e-02 1.9072177e-02 7.6872522e-01 4.0424991e-02\n",
      " 2.3029450e-01 2.0049394e-03 6.1005335e-03 3.2870425e-04 5.2400757e-02\n",
      " 6.3022668e-04 1.9061193e-02]\n"
     ]
    }
   ],
   "source": [
    "# predicting X_train\n",
    "y_train_pred = model_nn.predict(X_train_transformedC)\n",
    "\n",
    "# checking some predictions along with the actual values\n",
    "print(y_train_final[1],'\\n')   # actual value\n",
    "print(y_train_pred[1],'\\n','\\n')   # predicted value\n",
    "\n",
    "print(y_train_final[10],'\\n')   # actual value\n",
    "print(y_train_pred[10])    # predicted value"
   ]
  },
  {
   "cell_type": "markdown",
   "metadata": {
    "id": "QzgJP2UdBl5p"
   },
   "source": [
    "As it can be seen that the result from predicting through neural network model has probabilities. To convert it into 0s and 1s, it is needed that we need 1s at 4 places corresponding to each label. Below is a function that will return 1 for each of the 4 labels.\n",
    "\n",
    "After this conversion, the accuracy is measured in two ways for the multilabel classification problem."
   ]
  },
  {
   "cell_type": "code",
   "execution_count": 56,
   "metadata": {
    "id": "xld3_FOEAIbb"
   },
   "outputs": [],
   "source": [
    "# function to convert y_predicted from probabilities to 1 and 0\n",
    "\n",
    "def y_convert(y_true, y_predict):\n",
    "  y_each_dummy = [0] * y_true.shape[1]   # dummy list of size of the labels (57) that will store 1s for each of the datapoint\n",
    "  \n",
    "  m = y_true.shape[0]\n",
    "  n = y_true.shape[1]\n",
    "  y_predict_final = [[0 for x in range(n)] for x in range(m)]   # final predicted y with 0s and 1s, with 1 at the location where the probability for a particular label is highest\n",
    "\n",
    "  k = 0\n",
    "\n",
    "  for pred_y in y_predict:\n",
    "\n",
    "    pred_y = list (pred_y)\n",
    "    index_age = pred_y.index(max(pred_y[0:age_unique]))    # getting the max probability in the first three for ages\n",
    "    index_gender = age_unique +  pred_y[age_unique:(age_unique+gender_unique)].index(max(pred_y[age_unique:(age_unique+gender_unique)]))    # getting the max probability in the next two for gender\n",
    "    index_topic = age_unique + gender_unique +  pred_y[(age_unique+gender_unique):(age_unique+gender_unique+topic_unique)].index(max(pred_y[(age_unique+gender_unique):(age_unique+gender_unique+topic_unique)]))    # getting the max probability in the next 40 for topic\n",
    "    index_sign = age_unique + gender_unique + topic_unique + pred_y[(age_unique+gender_unique+topic_unique):(age_unique+gender_unique+topic_unique+sign_unique)].index(max(pred_y[(age_unique+gender_unique+topic_unique):(age_unique+gender_unique+topic_unique+sign_unique)]))    # getting the max probability in the last 12 for signs\n",
    "    indexes = [index_age, index_gender, index_topic, index_sign]\n",
    "\n",
    "    for index in indexes:\n",
    "      y_each_dummy[index] = 1\n",
    "\n",
    "    y_predict_final[k] = y_each_dummy\n",
    "    y_each_dummy = [0] * y_true.shape[1]\n",
    "    k = k+1\n",
    "\n",
    "  return y_predict_final"
   ]
  },
  {
   "cell_type": "code",
   "execution_count": 57,
   "metadata": {
    "id": "yWpj2YVAAId0"
   },
   "outputs": [],
   "source": [
    "# function to compute the Hamming score (a.k.a. label-based accuracy) for the multi-label case\n",
    "\n",
    "def hamming_score(y_true, y_pred, normalize=True, sample_weight=None):\n",
    "    acc_list = []\n",
    "    for i in range(y_true.shape[0]):\n",
    "        set_true = set( np.where(y_true[i])[0] )\n",
    "        set_pred = set( np.where(y_pred[i])[0] )\n",
    "\n",
    "        tmp_a = None\n",
    "        if len(set_true) == 0 and len(set_pred) == 0:\n",
    "            tmp_a = 1\n",
    "        else:\n",
    "            tmp_a = len(set_true.intersection(set_pred))/\\\n",
    "                    float( len(set_true.union(set_pred)) )\n",
    "\n",
    "        acc_list.append(tmp_a)\n",
    "    return np.mean(acc_list)"
   ]
  },
  {
   "cell_type": "code",
   "execution_count": 58,
   "metadata": {
    "colab": {
     "base_uri": "https://localhost:8080/"
    },
    "id": "oHK1qNvfAIf9",
    "outputId": "1b1b91c4-ce81-4e2f-ce43-59e0cc4ffe7b"
   },
   "outputs": [
    {
     "name": "stdout",
     "output_type": "stream",
     "text": [
      "The accuracy for the train data (exact match) is 0.6275714285714286 \n",
      "\n",
      "The hamming score for the train data is 0.8158485260770975 \n",
      "\n",
      "The hamming loss for the train data is 0.018048454469507102\n"
     ]
    }
   ],
   "source": [
    "# predicting X_train\n",
    "\n",
    "y_train_pred_final = y_convert(y_train_final, y_train_pred)  # converting the probabilities to 0s and 1s\n",
    "accuracy_train = accuracy_score(y_train_final, y_train_pred_final)   # also known as exact match ratio\n",
    "hamming_score_train = hamming_score(y_train_final, y_train_pred_final)    \n",
    "hamming_loss_train = sklearn.metrics.hamming_loss(y_train_final, y_train_pred_final)\n",
    "\n",
    "print('The accuracy for the train data (exact match) is', accuracy_train,'\\n')\n",
    "print('The hamming score for the train data is',hamming_score_train,'\\n')\n",
    "print('The hamming loss for the train data is', hamming_loss_train)"
   ]
  },
  {
   "cell_type": "code",
   "execution_count": 59,
   "metadata": {
    "colab": {
     "base_uri": "https://localhost:8080/"
    },
    "id": "wahh2WzJAIiT",
    "outputId": "34787a92-3001-46f0-f81e-c7b9ba65a76a"
   },
   "outputs": [
    {
     "name": "stdout",
     "output_type": "stream",
     "text": [
      "329/329 [==============================] - 1s 3ms/step\n",
      "The accuracy for the test data (exact match) is 0.03552380952380953 \n",
      "\n",
      "The hamming score for the test data is 0.295415873015873 \n",
      "\n",
      "The hamming loss for the test data is 0.0821687552213868\n"
     ]
    }
   ],
   "source": [
    "# predicting x_test\n",
    "\n",
    "y_test_pred = model_nn.predict(X_test_transformedC)\n",
    "y_test_pred_final = y_convert(y_test_final, y_test_pred)\n",
    "accuracy_test = accuracy_score(y_test_final, y_test_pred_final)   # also known as exact match ratio\n",
    "hamming_score_test = hamming_score(y_test_final, y_test_pred_final)\n",
    "hamming_loss_test = sklearn.metrics.hamming_loss(y_test_final, y_test_pred_final)\n",
    "\n",
    "print('The accuracy for the test data (exact match) is', accuracy_test,'\\n')\n",
    "print('The hamming score for the test data is',hamming_score_test,'\\n')\n",
    "print('The hamming loss for the test data is', hamming_loss_test)\n"
   ]
  },
  {
   "cell_type": "code",
   "execution_count": 60,
   "metadata": {
    "colab": {
     "base_uri": "https://localhost:8080/"
    },
    "id": "idITtR0eAIk4",
    "outputId": "ad511119-1dd1-4e64-90f2-96ce3b0ff2a6"
   },
   "outputs": [
    {
     "name": "stdout",
     "output_type": "stream",
     "text": [
      "\n",
      " Detailed Classification report for the train data : \n",
      "               precision    recall  f1-score   support\n",
      "\n",
      "           0       0.96      0.93      0.94     14000\n",
      "           1       0.94      0.91      0.92     14000\n",
      "           2       0.91      0.96      0.93     14000\n",
      "           3       0.94      0.97      0.95     21045\n",
      "           4       0.97      0.94      0.95     20955\n",
      "           5       0.82      0.57      0.67       284\n",
      "           6       0.92      0.33      0.48       310\n",
      "           7       1.00      0.04      0.08        73\n",
      "           8       1.00      0.01      0.02        86\n",
      "           9       0.78      0.71      0.74      1811\n",
      "          10       1.00      0.12      0.21       100\n",
      "          11       0.74      0.15      0.25       190\n",
      "          12       1.00      0.11      0.20       117\n",
      "          13       0.81      0.40      0.54       285\n",
      "          14       0.78      0.17      0.27       126\n",
      "          15       0.71      0.68      0.69      1236\n",
      "          16       1.00      0.16      0.28        62\n",
      "          17       0.89      0.27      0.41       377\n",
      "          18       0.83      0.72      0.77      1990\n",
      "          19       0.77      0.41      0.54       617\n",
      "          20       0.00      0.00      0.00        12\n",
      "          21       0.78      0.60      0.68       431\n",
      "          22       0.84      0.43      0.57       406\n",
      "          23       0.74      0.18      0.29       177\n",
      "          24       0.67      0.71      0.69      1205\n",
      "          25       0.91      0.12      0.21        86\n",
      "          26       0.73      0.62      0.67       490\n",
      "          27       1.00      0.12      0.21       136\n",
      "          28       0.79      0.23      0.36       130\n",
      "          29       0.00      0.00      0.00        17\n",
      "          30       0.89      0.13      0.23       264\n",
      "          31       0.85      0.26      0.40       234\n",
      "          32       0.95      0.43      0.59       162\n",
      "          33       0.82      0.49      0.61       910\n",
      "          34       0.83      0.67      0.74       538\n",
      "          35       0.81      0.40      0.54       180\n",
      "          36       0.87      0.45      0.59       351\n",
      "          37       0.75      0.28      0.41       366\n",
      "          38       1.00      0.14      0.25       162\n",
      "          39       0.84      0.88      0.86      8734\n",
      "          40       0.78      0.79      0.79      2459\n",
      "          41       0.88      0.23      0.37       254\n",
      "          42       1.00      0.14      0.25       119\n",
      "          43       0.76      0.29      0.42       214\n",
      "          44       0.77      0.98      0.87     16299\n",
      "          45       0.82      0.80      0.81      3073\n",
      "          46       0.83      0.83      0.83      4359\n",
      "          47       0.82      0.85      0.84      3948\n",
      "          48       0.80      0.76      0.78      3212\n",
      "          49       0.81      0.79      0.80      3224\n",
      "          50       0.87      0.80      0.83      3338\n",
      "          51       0.83      0.77      0.80      3296\n",
      "          52       0.81      0.84      0.83      3547\n",
      "          53       0.88      0.83      0.86      3127\n",
      "          54       0.85      0.77      0.80      3482\n",
      "          55       0.85      0.75      0.80      3420\n",
      "          56       0.65      0.89      0.75      3974\n",
      "\n",
      "   micro avg       0.87      0.87      0.87    168000\n",
      "   macro avg       0.82      0.51      0.56    168000\n",
      "weighted avg       0.88      0.87      0.87    168000\n",
      " samples avg       0.87      0.87      0.87    168000\n",
      "\n",
      "\n",
      " Detailed Classification report for the test data : \n",
      "               precision    recall  f1-score   support\n",
      "\n",
      "           0       0.65      0.61      0.63      3500\n",
      "           1       0.45      0.51      0.48      3500\n",
      "           2       0.54      0.51      0.53      3500\n",
      "           3       0.61      0.65      0.63      5261\n",
      "           4       0.63      0.59      0.61      5239\n",
      "           5       0.73      0.23      0.34        71\n",
      "           6       0.10      0.01      0.02        77\n",
      "           7       0.00      0.00      0.00        18\n",
      "           8       0.00      0.00      0.00        21\n",
      "           9       0.11      0.07      0.08       453\n",
      "          10       0.00      0.00      0.00        25\n",
      "          11       0.00      0.00      0.00        48\n",
      "          12       0.00      0.00      0.00        29\n",
      "          13       0.60      0.04      0.08        71\n",
      "          14       0.00      0.00      0.00        31\n",
      "          15       0.04      0.02      0.03       309\n",
      "          16       0.00      0.00      0.00        16\n",
      "          17       0.00      0.00      0.00        94\n",
      "          18       0.20      0.10      0.13       498\n",
      "          19       0.00      0.00      0.00       154\n",
      "          20       0.00      0.00      0.00         3\n",
      "          21       0.50      0.12      0.19       108\n",
      "          22       0.00      0.00      0.00       101\n",
      "          23       0.00      0.00      0.00        44\n",
      "          24       0.10      0.06      0.08       301\n",
      "          25       0.00      0.00      0.00        22\n",
      "          26       0.20      0.05      0.08       123\n",
      "          27       0.00      0.00      0.00        34\n",
      "          28       0.00      0.00      0.00        32\n",
      "          29       0.00      0.00      0.00         4\n",
      "          30       1.00      0.02      0.03        66\n",
      "          31       0.00      0.00      0.00        58\n",
      "          32       0.00      0.00      0.00        41\n",
      "          33       0.09      0.02      0.04       227\n",
      "          34       0.27      0.07      0.12       135\n",
      "          35       0.00      0.00      0.00        45\n",
      "          36       0.20      0.01      0.02        88\n",
      "          37       0.00      0.00      0.00        92\n",
      "          38       0.00      0.00      0.00        41\n",
      "          39       0.35      0.34      0.34      2183\n",
      "          40       0.13      0.08      0.10       615\n",
      "          41       0.33      0.02      0.03        63\n",
      "          42       0.00      0.00      0.00        30\n",
      "          43       1.00      0.23      0.37        53\n",
      "          44       0.42      0.70      0.52      4076\n",
      "          45       0.12      0.11      0.11       768\n",
      "          46       0.17      0.17      0.17      1089\n",
      "          47       0.16      0.19      0.18       987\n",
      "          48       0.13      0.11      0.12       803\n",
      "          49       0.11      0.10      0.11       806\n",
      "          50       0.13      0.10      0.11       835\n",
      "          51       0.12      0.11      0.12       824\n",
      "          52       0.15      0.15      0.15       887\n",
      "          53       0.12      0.11      0.12       782\n",
      "          54       0.10      0.09      0.10       871\n",
      "          55       0.12      0.11      0.12       855\n",
      "          56       0.13      0.19      0.15       993\n",
      "\n",
      "   micro avg       0.41      0.41      0.41     42000\n",
      "   macro avg       0.19      0.12      0.12     42000\n",
      "weighted avg       0.40      0.41      0.40     42000\n",
      " samples avg       0.41      0.41      0.41     42000\n",
      "\n"
     ]
    }
   ],
   "source": [
    "print(\"\\n Detailed Classification report for the train data : \\n\", metrics.classification_report(y_train_final, y_train_pred_final))\n",
    "classification_report_test = metrics.classification_report(y_test_final, y_test_pred_final, output_dict=True)\n",
    "print(\"\\n Detailed Classification report for the test data : \\n\", metrics.classification_report(y_test_final, y_test_pred_final))\n"
   ]
  },
  {
   "cell_type": "code",
   "execution_count": null,
   "metadata": {
    "id": "p-Bo69kzAInr"
   },
   "outputs": [],
   "source": []
  },
  {
   "cell_type": "markdown",
   "metadata": {
    "id": "q7R5NDJ1UPJB"
   },
   "source": [
    "**Observations**\n",
    "\n",
    "\n",
    "1.   The micro average f1 score is 0.41 while the macro average is 0.12 . In micro-averaging all TPs, TNs, FPs and FNs for each class are summed up and then the average is taken \n",
    " while in macro-averaging we just take the average of the precision and recall of the system on different sets.\n",
    "2.   The accuracy(exact match ratio) on the train data is 62%(approx) while on the test data it is 3.68%(approx).\n",
    "3.   The hamming score on the train data is 81.5 % while on the test data it is 29.5 %\n",
    "4.  The accuracy obtained on the test data is quite low compared to the train data. This might be the result of big variation in the test and train data. \n",
    " Although the train test split was done in a stratified manner, the labels are imbalanced which might be one of the reasons behind the low accuracy on the test data.\n",
    "\n",
    "5. Word2Vec and Glove were also tried to represent sentences using word embeddings but it resulted in ever poorer results so I did'nt use that while using NN.\n",
    "\n",
    "6. The Neural network classifier uses sigmoid activation with binary crossentropy loss as it is a multilabel classification problem. OnevsRest \n",
    " together with logistic regression was tried but it kills the essence of the problem that we need multilabels as output. Hence that is not shown in the report.\n",
    "\n",
    "\n"
   ]
  },
  {
   "cell_type": "code",
   "execution_count": 61,
   "metadata": {
    "id": "RpezHGbIAIvO"
   },
   "outputs": [],
   "source": [
    "#function to display confusion matrix in a heatmap for each label\n",
    "\n",
    "confusion_matrix_test = multilabel_confusion_matrix(y_test_final, y_test_pred_final)\n",
    "\n",
    "def confusion_per_label(label):\n",
    "  plt.figure(figsize=(6,6))\n",
    "  plt.title('Confusion matrix for label {}:'.format(classes_y[label]))\n",
    "  sns.heatmap(confusion_matrix_test[label], cmap='YlGnBu', annot=True, fmt=\".0f\").set(xlabel='Predicted',ylabel='Actual')"
   ]
  },
  {
   "cell_type": "code",
   "execution_count": 62,
   "metadata": {
    "colab": {
     "base_uri": "https://localhost:8080/",
     "height": 404
    },
    "id": "breqVZbMAIx_",
    "outputId": "91e30b96-aefb-496e-de27-df647b18e3a2"
   },
   "outputs": [
    {
     "data": {
      "image/png": "[encoded data removed]",
      "text/plain": [
       "<Figure size 432x432 with 2 Axes>"
      ]
     },
     "metadata": {
      "needs_background": "light"
     },
     "output_type": "display_data"
    }
   ],
   "source": [
    "#printing confusion matrix for first five labels.\n",
    "\n",
    "confusion_per_label(1)"
   ]
  },
  {
   "cell_type": "code",
   "execution_count": 63,
   "metadata": {
    "colab": {
     "base_uri": "https://localhost:8080/",
     "height": 404
    },
    "id": "sg3-JzTuTnrr",
    "outputId": "cfb69aed-4f3c-4467-c94a-9317d9bb97ae"
   },
   "outputs": [
    {
     "data": {
      "image/png": "[encoded data removed]",
      "text/plain": [
       "<Figure size 432x432 with 2 Axes>"
      ]
     },
     "metadata": {
      "needs_background": "light"
     },
     "output_type": "display_data"
    }
   ],
   "source": [
    "confusion_per_label(2)"
   ]
  },
  {
   "cell_type": "code",
   "execution_count": 64,
   "metadata": {
    "colab": {
     "base_uri": "https://localhost:8080/",
     "height": 404
    },
    "id": "_-subXMsEaHo",
    "outputId": "47b556bd-9470-40ee-de75-094d411a9f39"
   },
   "outputs": [
    {
     "data": {
      "image/png": "[encoded data removed]",
      "text/plain": [
       "<Figure size 432x432 with 2 Axes>"
      ]
     },
     "metadata": {
      "needs_background": "light"
     },
     "output_type": "display_data"
    }
   ],
   "source": [
    "confusion_per_label(3)"
   ]
  },
  {
   "cell_type": "code",
   "execution_count": 65,
   "metadata": {
    "colab": {
     "base_uri": "https://localhost:8080/",
     "height": 404
    },
    "id": "dvs-QEw6TvOH",
    "outputId": "3554760f-ed98-414d-ea06-ee943ff38511"
   },
   "outputs": [
    {
     "data": {
      "image/png": "[encoded data removed]",
      "text/plain": [
       "<Figure size 432x432 with 2 Axes>"
      ]
     },
     "metadata": {
      "needs_background": "light"
     },
     "output_type": "display_data"
    }
   ],
   "source": [
    "confusion_per_label(4)"
   ]
  },
  {
   "cell_type": "code",
   "execution_count": 66,
   "metadata": {
    "colab": {
     "base_uri": "https://localhost:8080/",
     "height": 404
    },
    "id": "t55BQPowTvRp",
    "outputId": "5f34a452-1e42-456e-e1d4-eb17da07d9e0"
   },
   "outputs": [
    {
     "data": {
      "image/png": "[encoded data removed]",
      "text/plain": [
       "<Figure size 432x432 with 2 Axes>"
      ]
     },
     "metadata": {
      "needs_background": "light"
     },
     "output_type": "display_data"
    }
   ],
   "source": [
    "confusion_per_label(5)"
   ]
  },
  {
   "cell_type": "markdown",
   "metadata": {
    "id": "1_8xxEwDFhdM"
   },
   "source": [
    "Print the true vs predicted labels for any 5 entries from the dataset."
   ]
  },
  {
   "cell_type": "code",
   "execution_count": 67,
   "metadata": {
    "id": "S6XoStwAFiFH"
   },
   "outputs": [],
   "source": [
    "# inverse transform from 0s and 1s in labels to name of labels\n",
    "\n",
    "y_train_act_5 = multilabel_binarizer.inverse_transform(np.array(y_train_final))[5:10]   # stores 5 entries of actual train labels\n",
    "y_train_pred_5 = multilabel_binarizer.inverse_transform(np.array(y_train_pred_final))[5:10]    # stores 5 entries of predicted train labels\n"
   ]
  },
  {
   "cell_type": "code",
   "execution_count": 68,
   "metadata": {
    "colab": {
     "base_uri": "https://localhost:8080/"
    },
    "id": "hVLXRnh-FiH8",
    "outputId": "a8d54bf9-0ac6-471c-b611-cc08d8f18c30"
   },
   "outputs": [
    {
     "data": {
      "text/plain": [
       "[('10s blog', '5female', 'Student', 'virgo'),\n",
       " ('10s blog', '4male', 'Unknown_industry', 'scorpio'),\n",
       " ('10s blog', '5female', 'Unknown_industry', 'aries'),\n",
       " ('10s blog', '5female', 'Student', 'taurus'),\n",
       " ('10s blog', '5female', 'Student', 'pisces')]"
      ]
     },
     "execution_count": 68,
     "metadata": {},
     "output_type": "execute_result"
    }
   ],
   "source": [
    "y_train_act_5"
   ]
  },
  {
   "cell_type": "code",
   "execution_count": 69,
   "metadata": {
    "colab": {
     "base_uri": "https://localhost:8080/"
    },
    "id": "KML9w1Y7FiKg",
    "outputId": "eb495ee9-8664-45d4-f5dc-7e3c4d392448"
   },
   "outputs": [
    {
     "data": {
      "text/plain": [
       "[('10s blog', '5female', 'Student', 'sagittarius'),\n",
       " ('10s blog', '4male', 'Unknown_industry', 'scorpio'),\n",
       " ('10s blog', '5female', 'Unknown_industry', 'aries'),\n",
       " ('30s blog', '5female', 'Unknown_industry', 'sagittarius'),\n",
       " ('10s blog', '5female', 'Student', 'pisces')]"
      ]
     },
     "execution_count": 69,
     "metadata": {},
     "output_type": "execute_result"
    }
   ],
   "source": [
    "y_train_pred_5"
   ]
  },
  {
   "cell_type": "code",
   "execution_count": 70,
   "metadata": {
    "id": "SFQpEFRnFiNC"
   },
   "outputs": [],
   "source": [
    "y_test_act_5 = multilabel_binarizer.inverse_transform(np.array(y_test_final))[5:10]   # stores 5 entries of actual test labels\n",
    "y_test_pred_5 = multilabel_binarizer.inverse_transform(np.array(y_test_pred_final))[5:10]    # stores 5 entries of predicted test labels"
   ]
  },
  {
   "cell_type": "code",
   "execution_count": 71,
   "metadata": {
    "colab": {
     "base_uri": "https://localhost:8080/"
    },
    "id": "iiDQUHNuGpYw",
    "outputId": "911b098b-66df-4722-bfdb-69fe22207790"
   },
   "outputs": [
    {
     "data": {
      "text/plain": [
       "[('10s blog', '5female', 'Unknown_industry', 'capricorn'),\n",
       " ('10s blog', '4male', 'Unknown_industry', 'cancer'),\n",
       " ('10s blog', '4male', 'Student', 'aries'),\n",
       " ('10s blog', '5female', 'Student', 'leo'),\n",
       " ('10s blog', '4male', 'Non-Profit', 'gemini')]"
      ]
     },
     "execution_count": 71,
     "metadata": {},
     "output_type": "execute_result"
    }
   ],
   "source": [
    "y_test_act_5"
   ]
  },
  {
   "cell_type": "markdown",
   "metadata": {
    "id": "76qQt7dq9o8Z"
   },
   "source": [
    "**Part B(Chat Bot)**"
   ]
  },
  {
   "cell_type": "markdown",
   "metadata": {},
   "source": [
    "# CONTEXT: \n",
    "An edtech company has a an academic support department which receives numerous support requests every day throughout the year. \n",
    "Teams are spread across geographies and try to provide support round the year. Sometimes there are circumstances where due to heavy \n",
    "workload certain request resolutions are delayed, impacting company’s business. Some of the requests are very generic where a proper \n",
    "resolution procedure delivered to the user can solve the problem. Company is looking forward to design an automation which can interact with \n",
    "the user, understand the problem and display the resolution procedure [if found as a generic request] or redirect the request to an actual human \n",
    "support executive if the request is complex or not in it’s database.\n",
    "\n",
    "# DATA DESCRIPTION: \n",
    "A sample corpus is attached for your reference. Please enhance/add more data to the corpus using your linguistics skills.\n",
    "\n",
    "# OBJECTIVE:\n",
    "Design a python based interactive semi - rule based chatbot"
   ]
  },
  {
   "cell_type": "markdown",
   "metadata": {
    "id": "tPjaBebA9nh8"
   },
   "source": [
    "Opening and reading the json file "
   ]
  },
  {
   "cell_type": "code",
   "execution_count": 72,
   "metadata": {
    "id": "STB2jPihGusJ"
   },
   "outputs": [],
   "source": [
    "with open('GL Bot.json') as file:\n",
    "  Corpus = json.load(file)"
   ]
  },
  {
   "cell_type": "code",
   "execution_count": 73,
   "metadata": {
    "colab": {
     "base_uri": "https://localhost:8080/"
    },
    "id": "dmUBeoPz_VuO",
    "outputId": "97491040-cd82-4598-b51f-2dceaef20e68"
   },
   "outputs": [
    {
     "name": "stdout",
     "output_type": "stream",
     "text": [
      "{'intents': [{'tag': 'Intro', 'patterns': ['hi', 'how are you', 'is anyone there', 'hello', 'whats up', 'hey', 'yo', 'listen', 'please help me', 'i am learner from', 'i belong to', 'aiml batch', 'aifl batch', 'i am from', 'my pm is', 'blended', 'online', 'i am from', 'hey ya', 'talking to you for first time'], 'responses': ['Hello! how can i help you ?'], 'context_set': ''}, {'tag': 'Exit', 'patterns': ['thank you', 'thanks', 'cya', 'see you', 'later', 'see you later', 'goodbye', 'i am leaving', 'have a Good day', 'you helped me', 'thanks a lot', 'thanks a ton', 'you are the best', 'great help', 'too good', 'you are a good learning buddy'], 'responses': ['I hope I was able to assist you, Good Bye'], 'context_set': ''}, {'tag': 'Olympus', 'patterns': ['olympus', 'explain me how olympus works', 'I am not able to understand olympus', 'olympus window not working', 'no access to olympus', 'unable to see link in olympus', 'no link visible on olympus', 'whom to contact for olympus', 'lot of problem with olympus', 'olypus is not a good tool', 'lot of problems with olympus', 'how to use olympus', 'teach me olympus'], 'responses': ['Link: Olympus wiki'], 'context_set': ''}, {'tag': 'SL', 'patterns': ['i am not able to understand svm', 'explain me how machine learning works', 'i am not able to understand naive bayes', 'i am not able to understand logistic regression', 'i am not able to understand ensemble techb=niques', 'i am not able to understand knn', 'i am not able to understand knn imputer', 'i am not able to understand cross validation', 'i am not able to understand boosting', 'i am not able to understand random forest', 'i am not able to understand ada boosting', 'i am not able to understand gradient boosting', 'machine learning', 'ML', 'SL', 'supervised learning', 'knn', 'logistic regression', 'regression', 'classification', 'naive bayes', 'nb', 'ensemble techniques', 'bagging', 'boosting', 'ada boosting', 'ada', 'gradient boosting', 'hyper parameters'], 'responses': ['Link: Machine Learning wiki '], 'context_set': ''}, {'tag': 'NN', 'patterns': ['what is deep learning', 'unable to understand deep learning', 'explain me how deep learning works', 'i am not able to understand deep learning', 'not able to understand neural nets', 'very diffult to understand neural nets', 'unable to understand neural nets', 'ann', 'artificial intelligence', 'artificial neural networks', 'weights', 'activation function', 'hidden layers', 'softmax', 'sigmoid', 'relu', 'otimizer', 'forward propagation', 'backward propagation', 'epochs', 'epoch', 'what is an epoch', 'adam', 'sgd'], 'responses': ['Link: Neural Nets wiki'], 'context_set': ''}, {'tag': 'Bot', 'patterns': ['what is your name', 'who are you', 'name please', 'when are your hours of opertions', 'what are your working hours', 'hours of operation', 'working hours', 'hours'], 'responses': ['I am your virtual learning assistant'], 'context_set': ''}, {'tag': 'Profane', 'patterns': ['what the hell', 'bloody stupid bot', 'do you think you are very smart', 'screw you', 'i hate you', 'you are stupid', 'jerk', 'you are a joke', 'useless piece of shit'], 'responses': ['Please use respectful words'], 'context_set': ''}, {'tag': 'Ticket', 'patterns': ['my problem is not solved', 'you did not help me', 'not a good solution', 'bad solution', 'not good solution', 'no help', 'wasted my time', 'useless bot', 'create a ticket'], 'responses': ['Tarnsferring the request to your PM'], 'context_set': ''}]}\n"
     ]
    }
   ],
   "source": [
    "print(Corpus)"
   ]
  },
  {
   "cell_type": "code",
   "execution_count": 80,
   "metadata": {
    "colab": {
     "base_uri": "https://localhost:8080/"
    },
    "id": "lnjLVYQsYAtv",
    "outputId": "0e723e32-3e86-479c-c0d7-c01f89c639ec"
   },
   "outputs": [
    {
     "name": "stderr",
     "output_type": "stream",
     "text": [
      "[nltk_data] Downloading package punkt to /root/nltk_data...\n",
      "[nltk_data]   Package punkt is already up-to-date!\n",
      "[nltk_data] Downloading package wordnet to /root/nltk_data...\n",
      "[nltk_data]   Package wordnet is already up-to-date!\n"
     ]
    },
    {
     "data": {
      "text/plain": [
       "True"
      ]
     },
     "execution_count": 80,
     "metadata": {},
     "output_type": "execute_result"
    }
   ],
   "source": [
    "import json\n",
    "import string\n",
    "import random \n",
    "import nltk\n",
    "import numpy as np\n",
    "from nltk.stem import WordNetLemmatizer \n",
    "import tensorflow as tf \n",
    "from tensorflow.keras import Sequential \n",
    "from tensorflow.keras.layers import Dense, Dropout\n",
    "nltk.download(\"punkt\")\n",
    "nltk.download(\"wordnet\")"
   ]
  },
  {
   "cell_type": "code",
   "execution_count": 81,
   "metadata": {
    "id": "t4i9SEtqYEi-"
   },
   "outputs": [],
   "source": [
    "# initializing lemmatizer to get stem of words\n",
    "lemmatizer = WordNetLemmatizer()\n",
    "# Each list to create\n",
    "words = []\n",
    "classes = []\n",
    "doc_X = []\n",
    "doc_y = []\n",
    "# Loop through all the intents\n",
    "# tokenize each pattern and append tokens to words, the patterns and\n",
    "# the associated tag to their associated list\n",
    "for intent in Corpus[\"intents\"]:\n",
    "    for pattern in intent[\"patterns\"]:\n",
    "        tokens = nltk.word_tokenize(pattern)\n",
    "        words.extend(tokens)\n",
    "        doc_X.append(pattern)\n",
    "        doc_y.append(intent[\"tag\"])\n",
    "    \n",
    "    # add the tag to the classes if it's not there already \n",
    "    if intent[\"tag\"] not in classes:\n",
    "        classes.append(intent[\"tag\"])\n",
    "# lemmatize all the words in the vocab and convert them to lowercase\n",
    "# if the words don't appear in punctuation\n",
    "words = [lemmatizer.lemmatize(word.lower()) for word in words if word not in string.punctuation]\n",
    "# sorting the vocab and classes in alphabetical order and taking the # set to ensure no duplicates occur\n",
    "words = sorted(set(words))\n",
    "classes = sorted(set(classes))"
   ]
  },
  {
   "cell_type": "code",
   "execution_count": 82,
   "metadata": {
    "colab": {
     "base_uri": "https://localhost:8080/"
    },
    "id": "EpPbMkYxYEmc",
    "outputId": "3e107f5c-5658-4999-d37d-f4e86acc52db"
   },
   "outputs": [
    {
     "name": "stdout",
     "output_type": "stream",
     "text": [
      "['a', 'able', 'access', 'activation', 'ada', 'adam', 'aifl', 'aiml', 'am', 'an', 'ann', 'anyone', 'are', 'artificial', 'backward', 'bad', 'bagging', 'batch', 'bayes', 'belong', 'best', 'blended', 'bloody', 'boosting', 'bot', 'buddy', 'classification', 'contact', 'create', 'cross', 'cya', 'day', 'deep', 'did', 'diffult', 'do', 'ensemble', 'epoch', 'explain', 'first', 'for', 'forest', 'forward', 'from', 'function', 'good', 'goodbye', 'gradient', 'great', 'hate', 'have', 'hell', 'hello', 'help', 'helped', 'hey', 'hi', 'hidden', 'hour', 'how', 'hyper', 'i', 'imputer', 'in', 'intelligence', 'is', 'jerk', 'joke', 'knn', 'later', 'layer', 'learner', 'learning', 'leaving', 'link', 'listen', 'logistic', 'lot', 'machine', 'me', 'ml', 'my', 'naive', 'name', 'nb', 'net', 'network', 'neural', 'no', 'not', 'of', 'olympus', 'olypus', 'on', 'online', 'operation', 'opertions', 'otimizer', 'parameter', 'piece', 'please', 'pm', 'problem', 'propagation', 'random', 'regression', 'relu', 'screw', 'see', 'sgd', 'shit', 'sigmoid', 'sl', 'smart', 'softmax', 'solution', 'solved', 'stupid', 'supervised', 'svm', 'talking', 'teach', 'techb=niques', 'technique', 'thank', 'thanks', 'the', 'there', 'think', 'ticket', 'time', 'to', 'ton', 'too', 'tool', 'unable', 'understand', 'up', 'use', 'useless', 'validation', 'very', 'visible', 'wasted', 'weight', 'what', 'whats', 'when', 'who', 'whom', 'window', 'with', 'work', 'working', 'ya', 'yo', 'you', 'your']\n"
     ]
    }
   ],
   "source": [
    "print(words)"
   ]
  },
  {
   "cell_type": "code",
   "execution_count": 83,
   "metadata": {
    "colab": {
     "base_uri": "https://localhost:8080/"
    },
    "id": "OIEY6qWTYEpg",
    "outputId": "fb33999f-f413-4942-9973-1756073d4b5f"
   },
   "outputs": [
    {
     "name": "stdout",
     "output_type": "stream",
     "text": [
      "['Bot', 'Exit', 'Intro', 'NN', 'Olympus', 'Profane', 'SL', 'Ticket']\n"
     ]
    }
   ],
   "source": [
    "print(classes)"
   ]
  },
  {
   "cell_type": "code",
   "execution_count": 84,
   "metadata": {
    "colab": {
     "base_uri": "https://localhost:8080/"
    },
    "id": "j4xJMke7YEs7",
    "outputId": "e7e2b1a3-3bea-410a-8eed-cfb1d056b3c6"
   },
   "outputs": [
    {
     "name": "stdout",
     "output_type": "stream",
     "text": [
      "['hi', 'how are you', 'is anyone there', 'hello', 'whats up', 'hey', 'yo', 'listen', 'please help me', 'i am learner from', 'i belong to', 'aiml batch', 'aifl batch', 'i am from', 'my pm is', 'blended', 'online', 'i am from', 'hey ya', 'talking to you for first time', 'thank you', 'thanks', 'cya', 'see you', 'later', 'see you later', 'goodbye', 'i am leaving', 'have a Good day', 'you helped me', 'thanks a lot', 'thanks a ton', 'you are the best', 'great help', 'too good', 'you are a good learning buddy', 'olympus', 'explain me how olympus works', 'I am not able to understand olympus', 'olympus window not working', 'no access to olympus', 'unable to see link in olympus', 'no link visible on olympus', 'whom to contact for olympus', 'lot of problem with olympus', 'olypus is not a good tool', 'lot of problems with olympus', 'how to use olympus', 'teach me olympus', 'i am not able to understand svm', 'explain me how machine learning works', 'i am not able to understand naive bayes', 'i am not able to understand logistic regression', 'i am not able to understand ensemble techb=niques', 'i am not able to understand knn', 'i am not able to understand knn imputer', 'i am not able to understand cross validation', 'i am not able to understand boosting', 'i am not able to understand random forest', 'i am not able to understand ada boosting', 'i am not able to understand gradient boosting', 'machine learning', 'ML', 'SL', 'supervised learning', 'knn', 'logistic regression', 'regression', 'classification', 'naive bayes', 'nb', 'ensemble techniques', 'bagging', 'boosting', 'ada boosting', 'ada', 'gradient boosting', 'hyper parameters', 'what is deep learning', 'unable to understand deep learning', 'explain me how deep learning works', 'i am not able to understand deep learning', 'not able to understand neural nets', 'very diffult to understand neural nets', 'unable to understand neural nets', 'ann', 'artificial intelligence', 'artificial neural networks', 'weights', 'activation function', 'hidden layers', 'softmax', 'sigmoid', 'relu', 'otimizer', 'forward propagation', 'backward propagation', 'epochs', 'epoch', 'what is an epoch', 'adam', 'sgd', 'what is your name', 'who are you', 'name please', 'when are your hours of opertions', 'what are your working hours', 'hours of operation', 'working hours', 'hours', 'what the hell', 'bloody stupid bot', 'do you think you are very smart', 'screw you', 'i hate you', 'you are stupid', 'jerk', 'you are a joke', 'useless piece of shit', 'my problem is not solved', 'you did not help me', 'not a good solution', 'bad solution', 'not good solution', 'no help', 'wasted my time', 'useless bot', 'create a ticket']\n"
     ]
    }
   ],
   "source": [
    "print(doc_X)"
   ]
  },
  {
   "cell_type": "code",
   "execution_count": 85,
   "metadata": {
    "colab": {
     "base_uri": "https://localhost:8080/"
    },
    "id": "jYRXLAFCYEvu",
    "outputId": "e4a90e82-b258-4322-fc85-50dc943fa690"
   },
   "outputs": [
    {
     "name": "stdout",
     "output_type": "stream",
     "text": [
      "['Intro', 'Intro', 'Intro', 'Intro', 'Intro', 'Intro', 'Intro', 'Intro', 'Intro', 'Intro', 'Intro', 'Intro', 'Intro', 'Intro', 'Intro', 'Intro', 'Intro', 'Intro', 'Intro', 'Intro', 'Exit', 'Exit', 'Exit', 'Exit', 'Exit', 'Exit', 'Exit', 'Exit', 'Exit', 'Exit', 'Exit', 'Exit', 'Exit', 'Exit', 'Exit', 'Exit', 'Olympus', 'Olympus', 'Olympus', 'Olympus', 'Olympus', 'Olympus', 'Olympus', 'Olympus', 'Olympus', 'Olympus', 'Olympus', 'Olympus', 'Olympus', 'SL', 'SL', 'SL', 'SL', 'SL', 'SL', 'SL', 'SL', 'SL', 'SL', 'SL', 'SL', 'SL', 'SL', 'SL', 'SL', 'SL', 'SL', 'SL', 'SL', 'SL', 'SL', 'SL', 'SL', 'SL', 'SL', 'SL', 'SL', 'SL', 'NN', 'NN', 'NN', 'NN', 'NN', 'NN', 'NN', 'NN', 'NN', 'NN', 'NN', 'NN', 'NN', 'NN', 'NN', 'NN', 'NN', 'NN', 'NN', 'NN', 'NN', 'NN', 'NN', 'NN', 'Bot', 'Bot', 'Bot', 'Bot', 'Bot', 'Bot', 'Bot', 'Bot', 'Profane', 'Profane', 'Profane', 'Profane', 'Profane', 'Profane', 'Profane', 'Profane', 'Profane', 'Ticket', 'Ticket', 'Ticket', 'Ticket', 'Ticket', 'Ticket', 'Ticket', 'Ticket', 'Ticket']\n"
     ]
    }
   ],
   "source": [
    "print(doc_y)"
   ]
  },
  {
   "cell_type": "code",
   "execution_count": 86,
   "metadata": {
    "id": "uL1vzkUNYp2u"
   },
   "outputs": [],
   "source": [
    "# list for training data\n",
    "training = []\n",
    "out_empty = [0] * len(classes)\n",
    "# creating the bag of words model\n",
    "for idx, doc in enumerate(doc_X):\n",
    "    bow = []\n",
    "    text = lemmatizer.lemmatize(doc.lower())\n",
    "    for word in words:\n",
    "        bow.append(1) if word in text else bow.append(0)\n",
    "    # mark the index of class that the current pattern is associated\n",
    "    # to\n",
    "    output_row = list(out_empty)\n",
    "    output_row[classes.index(doc_y[idx])] = 1\n",
    "    # add the one hot encoded BoW and associated classes to training \n",
    "    training.append([bow, output_row])\n",
    "# shuffle the data and convert it to an array\n",
    "random.shuffle(training)\n",
    "training = np.array(training, dtype=object)\n",
    "# split the features and target labels\n",
    "train_X = np.array(list(training[:, 0]))\n",
    "train_y = np.array(list(training[:, 1]))"
   ]
  },
  {
   "cell_type": "code",
   "execution_count": 87,
   "metadata": {
    "colab": {
     "base_uri": "https://localhost:8080/"
    },
    "id": "JPc4C98SY6Es",
    "outputId": "f9ffdd2a-949e-4380-8a09-1ebf4be417d5"
   },
   "outputs": [
    {
     "name": "stdout",
     "output_type": "stream",
     "text": [
      "Model: \"sequential_5\"\n",
      "_________________________________________________________________\n",
      " Layer (type)                Output Shape              Param #   \n",
      "=================================================================\n",
      " dense_20 (Dense)            (None, 128)               20352     \n",
      "                                                                 \n",
      " dropout (Dropout)           (None, 128)               0         \n",
      "                                                                 \n",
      " dense_21 (Dense)            (None, 64)                8256      \n",
      "                                                                 \n",
      " dropout_1 (Dropout)         (None, 64)                0         \n",
      "                                                                 \n",
      " dense_22 (Dense)            (None, 8)                 520       \n",
      "                                                                 \n",
      "=================================================================\n",
      "Total params: 29,128\n",
      "Trainable params: 29,128\n",
      "Non-trainable params: 0\n",
      "_________________________________________________________________\n",
      "None\n",
      "Epoch 1/200\n",
      "4/4 [==============================] - 1s 5ms/step - loss: 2.0728 - accuracy: 0.1797\n",
      "Epoch 2/200\n",
      "4/4 [==============================] - 0s 4ms/step - loss: 1.7776 - accuracy: 0.2891\n",
      "Epoch 3/200\n",
      "4/4 [==============================] - 0s 4ms/step - loss: 1.6531 - accuracy: 0.4219\n",
      "Epoch 4/200\n",
      "4/4 [==============================] - 0s 3ms/step - loss: 1.3580 - accuracy: 0.5859\n",
      "Epoch 5/200\n",
      "4/4 [==============================] - 0s 5ms/step - loss: 1.1129 - accuracy: 0.6641\n",
      "Epoch 6/200\n",
      "4/4 [==============================] - 0s 6ms/step - loss: 0.9224 - accuracy: 0.6641\n",
      "Epoch 7/200\n",
      "4/4 [==============================] - 0s 6ms/step - loss: 0.6709 - accuracy: 0.7891\n",
      "Epoch 8/200\n",
      "4/4 [==============================] - 0s 4ms/step - loss: 0.5857 - accuracy: 0.7812\n",
      "Epoch 9/200\n",
      "4/4 [==============================] - 0s 4ms/step - loss: 0.4182 - accuracy: 0.8594\n",
      "Epoch 10/200\n",
      "4/4 [==============================] - 0s 4ms/step - loss: 0.3312 - accuracy: 0.9062\n",
      "Epoch 11/200\n",
      "4/4 [==============================] - 0s 3ms/step - loss: 0.1975 - accuracy: 0.9453\n",
      "Epoch 12/200\n",
      "4/4 [==============================] - 0s 5ms/step - loss: 0.1719 - accuracy: 0.9531\n",
      "Epoch 13/200\n",
      "4/4 [==============================] - 0s 4ms/step - loss: 0.1458 - accuracy: 0.9453\n",
      "Epoch 14/200\n",
      "4/4 [==============================] - 0s 4ms/step - loss: 0.1027 - accuracy: 0.9766\n",
      "Epoch 15/200\n",
      "4/4 [==============================] - 0s 4ms/step - loss: 0.1459 - accuracy: 0.9688\n",
      "Epoch 16/200\n",
      "4/4 [==============================] - 0s 4ms/step - loss: 0.0546 - accuracy: 1.0000\n",
      "Epoch 17/200\n",
      "4/4 [==============================] - 0s 4ms/step - loss: 0.0462 - accuracy: 0.9922\n",
      "Epoch 18/200\n",
      "4/4 [==============================] - 0s 5ms/step - loss: 0.0690 - accuracy: 0.9766\n",
      "Epoch 19/200\n",
      "4/4 [==============================] - 0s 4ms/step - loss: 0.0335 - accuracy: 1.0000\n",
      "Epoch 20/200\n",
      "4/4 [==============================] - 0s 4ms/step - loss: 0.0690 - accuracy: 0.9922\n",
      "Epoch 21/200\n",
      "4/4 [==============================] - 0s 5ms/step - loss: 0.0410 - accuracy: 0.9922\n",
      "Epoch 22/200\n",
      "4/4 [==============================] - 0s 4ms/step - loss: 0.0391 - accuracy: 0.9922\n",
      "Epoch 23/200\n",
      "4/4 [==============================] - 0s 4ms/step - loss: 0.0246 - accuracy: 1.0000\n",
      "Epoch 24/200\n",
      "4/4 [==============================] - 0s 3ms/step - loss: 0.0329 - accuracy: 0.9922\n",
      "Epoch 25/200\n",
      "4/4 [==============================] - 0s 3ms/step - loss: 0.0154 - accuracy: 1.0000\n",
      "Epoch 26/200\n",
      "4/4 [==============================] - 0s 4ms/step - loss: 0.0186 - accuracy: 1.0000\n",
      "Epoch 27/200\n",
      "4/4 [==============================] - 0s 3ms/step - loss: 0.0164 - accuracy: 1.0000\n",
      "Epoch 28/200\n",
      "4/4 [==============================] - 0s 5ms/step - loss: 0.0162 - accuracy: 0.9922\n",
      "Epoch 29/200\n",
      "4/4 [==============================] - 0s 4ms/step - loss: 0.0072 - accuracy: 1.0000\n",
      "Epoch 30/200\n",
      "4/4 [==============================] - 0s 3ms/step - loss: 0.0101 - accuracy: 1.0000\n",
      "Epoch 31/200\n",
      "4/4 [==============================] - 0s 5ms/step - loss: 0.0141 - accuracy: 0.9922\n",
      "Epoch 32/200\n",
      "4/4 [==============================] - 0s 4ms/step - loss: 0.0445 - accuracy: 0.9844\n",
      "Epoch 33/200\n",
      "4/4 [==============================] - 0s 4ms/step - loss: 0.0146 - accuracy: 1.0000\n",
      "Epoch 34/200\n",
      "4/4 [==============================] - 0s 5ms/step - loss: 0.0190 - accuracy: 0.9922\n",
      "Epoch 35/200\n",
      "4/4 [==============================] - 0s 3ms/step - loss: 0.0238 - accuracy: 0.9844\n",
      "Epoch 36/200\n",
      "4/4 [==============================] - 0s 4ms/step - loss: 0.0200 - accuracy: 1.0000\n",
      "Epoch 37/200\n",
      "4/4 [==============================] - 0s 3ms/step - loss: 0.0169 - accuracy: 1.0000\n",
      "Epoch 38/200\n",
      "4/4 [==============================] - 0s 3ms/step - loss: 0.0053 - accuracy: 1.0000\n",
      "Epoch 39/200\n",
      "4/4 [==============================] - 0s 3ms/step - loss: 0.0272 - accuracy: 0.9922\n",
      "Epoch 40/200\n",
      "4/4 [==============================] - 0s 4ms/step - loss: 0.0056 - accuracy: 1.0000\n",
      "Epoch 41/200\n",
      "4/4 [==============================] - 0s 4ms/step - loss: 0.0055 - accuracy: 1.0000\n",
      "Epoch 42/200\n",
      "4/4 [==============================] - 0s 5ms/step - loss: 0.0137 - accuracy: 1.0000\n",
      "Epoch 43/200\n",
      "4/4 [==============================] - 0s 3ms/step - loss: 0.0079 - accuracy: 1.0000\n",
      "Epoch 44/200\n",
      "4/4 [==============================] - 0s 5ms/step - loss: 0.0121 - accuracy: 0.9922\n",
      "Epoch 45/200\n",
      "4/4 [==============================] - 0s 4ms/step - loss: 0.0168 - accuracy: 0.9922\n",
      "Epoch 46/200\n",
      "4/4 [==============================] - 0s 4ms/step - loss: 0.0170 - accuracy: 0.9922\n",
      "Epoch 47/200\n",
      "4/4 [==============================] - 0s 3ms/step - loss: 0.0719 - accuracy: 0.9844\n",
      "Epoch 48/200\n",
      "4/4 [==============================] - 0s 6ms/step - loss: 0.0338 - accuracy: 0.9922\n",
      "Epoch 49/200\n",
      "4/4 [==============================] - 0s 4ms/step - loss: 0.0074 - accuracy: 1.0000\n",
      "Epoch 50/200\n",
      "4/4 [==============================] - 0s 4ms/step - loss: 0.0178 - accuracy: 0.9922\n",
      "Epoch 51/200\n",
      "4/4 [==============================] - 0s 4ms/step - loss: 0.0259 - accuracy: 0.9922\n",
      "Epoch 52/200\n",
      "4/4 [==============================] - 0s 3ms/step - loss: 0.0250 - accuracy: 0.9922\n",
      "Epoch 53/200\n",
      "4/4 [==============================] - 0s 4ms/step - loss: 0.0193 - accuracy: 0.9922\n",
      "Epoch 54/200\n",
      "4/4 [==============================] - 0s 6ms/step - loss: 0.0181 - accuracy: 0.9922\n",
      "Epoch 55/200\n",
      "4/4 [==============================] - 0s 6ms/step - loss: 0.0068 - accuracy: 1.0000\n",
      "Epoch 56/200\n",
      "4/4 [==============================] - 0s 5ms/step - loss: 0.0495 - accuracy: 0.9922\n",
      "Epoch 57/200\n",
      "4/4 [==============================] - 0s 4ms/step - loss: 0.1016 - accuracy: 0.9922\n",
      "Epoch 58/200\n",
      "4/4 [==============================] - 0s 4ms/step - loss: 0.0086 - accuracy: 1.0000\n",
      "Epoch 59/200\n",
      "4/4 [==============================] - 0s 4ms/step - loss: 0.0723 - accuracy: 0.9844\n",
      "Epoch 60/200\n",
      "4/4 [==============================] - 0s 4ms/step - loss: 0.0429 - accuracy: 0.9844\n",
      "Epoch 61/200\n",
      "4/4 [==============================] - 0s 5ms/step - loss: 0.0246 - accuracy: 0.9922\n",
      "Epoch 62/200\n",
      "4/4 [==============================] - 0s 4ms/step - loss: 0.0327 - accuracy: 0.9844\n",
      "Epoch 63/200\n",
      "4/4 [==============================] - 0s 3ms/step - loss: 0.0067 - accuracy: 1.0000\n",
      "Epoch 64/200\n",
      "4/4 [==============================] - 0s 4ms/step - loss: 0.0766 - accuracy: 0.9766\n",
      "Epoch 65/200\n",
      "4/4 [==============================] - 0s 4ms/step - loss: 0.0086 - accuracy: 1.0000\n",
      "Epoch 66/200\n",
      "4/4 [==============================] - 0s 4ms/step - loss: 0.0055 - accuracy: 1.0000\n",
      "Epoch 67/200\n",
      "4/4 [==============================] - 0s 4ms/step - loss: 0.0070 - accuracy: 1.0000\n",
      "Epoch 68/200\n",
      "4/4 [==============================] - 0s 3ms/step - loss: 0.0338 - accuracy: 0.9844\n",
      "Epoch 69/200\n",
      "4/4 [==============================] - 0s 3ms/step - loss: 0.0146 - accuracy: 0.9922\n",
      "Epoch 70/200\n",
      "4/4 [==============================] - 0s 3ms/step - loss: 0.0124 - accuracy: 0.9922\n",
      "Epoch 71/200\n",
      "4/4 [==============================] - 0s 3ms/step - loss: 0.0052 - accuracy: 1.0000\n",
      "Epoch 72/200\n",
      "4/4 [==============================] - 0s 3ms/step - loss: 0.0141 - accuracy: 0.9844\n",
      "Epoch 73/200\n",
      "4/4 [==============================] - 0s 3ms/step - loss: 0.0197 - accuracy: 0.9922\n",
      "Epoch 74/200\n",
      "4/4 [==============================] - 0s 3ms/step - loss: 0.0032 - accuracy: 1.0000\n",
      "Epoch 75/200\n",
      "4/4 [==============================] - 0s 3ms/step - loss: 0.0071 - accuracy: 1.0000\n",
      "Epoch 76/200\n",
      "4/4 [==============================] - 0s 3ms/step - loss: 0.0170 - accuracy: 0.9922\n",
      "Epoch 77/200\n",
      "4/4 [==============================] - 0s 3ms/step - loss: 0.0074 - accuracy: 1.0000\n",
      "Epoch 78/200\n",
      "4/4 [==============================] - 0s 3ms/step - loss: 0.0616 - accuracy: 0.9844\n",
      "Epoch 79/200\n",
      "4/4 [==============================] - 0s 3ms/step - loss: 0.0101 - accuracy: 1.0000\n",
      "Epoch 80/200\n",
      "4/4 [==============================] - 0s 3ms/step - loss: 0.0445 - accuracy: 0.9922\n",
      "Epoch 81/200\n",
      "4/4 [==============================] - 0s 3ms/step - loss: 0.0199 - accuracy: 0.9922\n",
      "Epoch 82/200\n",
      "4/4 [==============================] - 0s 3ms/step - loss: 0.1297 - accuracy: 0.9688\n",
      "Epoch 83/200\n",
      "4/4 [==============================] - 0s 3ms/step - loss: 0.0131 - accuracy: 0.9922\n",
      "Epoch 84/200\n",
      "4/4 [==============================] - 0s 3ms/step - loss: 0.0026 - accuracy: 1.0000\n",
      "Epoch 85/200\n",
      "4/4 [==============================] - 0s 3ms/step - loss: 0.0093 - accuracy: 1.0000\n",
      "Epoch 86/200\n",
      "4/4 [==============================] - 0s 3ms/step - loss: 0.0162 - accuracy: 1.0000\n",
      "Epoch 87/200\n",
      "4/4 [==============================] - 0s 4ms/step - loss: 0.0652 - accuracy: 0.9844\n",
      "Epoch 88/200\n",
      "4/4 [==============================] - 0s 3ms/step - loss: 0.0327 - accuracy: 0.9844\n",
      "Epoch 89/200\n",
      "4/4 [==============================] - 0s 3ms/step - loss: 0.0074 - accuracy: 1.0000\n",
      "Epoch 90/200\n",
      "4/4 [==============================] - 0s 3ms/step - loss: 0.0306 - accuracy: 0.9922\n",
      "Epoch 91/200\n",
      "4/4 [==============================] - 0s 3ms/step - loss: 0.0085 - accuracy: 1.0000\n",
      "Epoch 92/200\n",
      "4/4 [==============================] - 0s 3ms/step - loss: 0.0120 - accuracy: 1.0000\n",
      "Epoch 93/200\n",
      "4/4 [==============================] - 0s 3ms/step - loss: 0.0279 - accuracy: 0.9922\n",
      "Epoch 94/200\n",
      "4/4 [==============================] - 0s 3ms/step - loss: 0.0146 - accuracy: 0.9922\n",
      "Epoch 95/200\n",
      "4/4 [==============================] - 0s 3ms/step - loss: 0.0049 - accuracy: 1.0000\n",
      "Epoch 96/200\n",
      "4/4 [==============================] - 0s 3ms/step - loss: 0.0018 - accuracy: 1.0000\n",
      "Epoch 97/200\n",
      "4/4 [==============================] - 0s 3ms/step - loss: 0.0071 - accuracy: 1.0000\n",
      "Epoch 98/200\n",
      "4/4 [==============================] - 0s 3ms/step - loss: 0.0043 - accuracy: 1.0000\n",
      "Epoch 99/200\n",
      "4/4 [==============================] - 0s 3ms/step - loss: 0.0095 - accuracy: 0.9922\n",
      "Epoch 100/200\n",
      "4/4 [==============================] - 0s 3ms/step - loss: 0.0089 - accuracy: 1.0000\n",
      "Epoch 101/200\n",
      "4/4 [==============================] - 0s 3ms/step - loss: 0.0224 - accuracy: 0.9922\n",
      "Epoch 102/200\n",
      "4/4 [==============================] - 0s 3ms/step - loss: 0.0024 - accuracy: 1.0000\n",
      "Epoch 103/200\n",
      "4/4 [==============================] - 0s 3ms/step - loss: 4.9899e-04 - accuracy: 1.0000\n",
      "Epoch 104/200\n",
      "4/4 [==============================] - 0s 3ms/step - loss: 0.0031 - accuracy: 1.0000\n",
      "Epoch 105/200\n",
      "4/4 [==============================] - 0s 3ms/step - loss: 0.0107 - accuracy: 1.0000\n",
      "Epoch 106/200\n",
      "4/4 [==============================] - 0s 3ms/step - loss: 0.0072 - accuracy: 1.0000\n",
      "Epoch 107/200\n",
      "4/4 [==============================] - 0s 3ms/step - loss: 0.0054 - accuracy: 1.0000\n",
      "Epoch 108/200\n",
      "4/4 [==============================] - 0s 3ms/step - loss: 0.0037 - accuracy: 1.0000\n",
      "Epoch 109/200\n",
      "4/4 [==============================] - 0s 3ms/step - loss: 0.0020 - accuracy: 1.0000\n",
      "Epoch 110/200\n",
      "4/4 [==============================] - 0s 3ms/step - loss: 0.0012 - accuracy: 1.0000\n",
      "Epoch 111/200\n",
      "4/4 [==============================] - 0s 3ms/step - loss: 0.0063 - accuracy: 0.9922\n",
      "Epoch 112/200\n",
      "4/4 [==============================] - 0s 3ms/step - loss: 0.0534 - accuracy: 0.9844\n",
      "Epoch 113/200\n",
      "4/4 [==============================] - 0s 3ms/step - loss: 0.0023 - accuracy: 1.0000\n",
      "Epoch 114/200\n",
      "4/4 [==============================] - 0s 3ms/step - loss: 0.0085 - accuracy: 0.9922\n",
      "Epoch 115/200\n",
      "4/4 [==============================] - 0s 3ms/step - loss: 8.7883e-04 - accuracy: 1.0000\n",
      "Epoch 116/200\n",
      "4/4 [==============================] - 0s 3ms/step - loss: 0.0040 - accuracy: 1.0000\n",
      "Epoch 117/200\n",
      "4/4 [==============================] - 0s 4ms/step - loss: 0.0396 - accuracy: 0.9922\n",
      "Epoch 118/200\n",
      "4/4 [==============================] - 0s 3ms/step - loss: 0.0091 - accuracy: 0.9922\n",
      "Epoch 119/200\n",
      "4/4 [==============================] - 0s 3ms/step - loss: 0.0050 - accuracy: 1.0000\n",
      "Epoch 120/200\n",
      "4/4 [==============================] - 0s 4ms/step - loss: 0.0137 - accuracy: 0.9922\n",
      "Epoch 121/200\n",
      "4/4 [==============================] - 0s 3ms/step - loss: 0.0022 - accuracy: 1.0000\n",
      "Epoch 122/200\n",
      "4/4 [==============================] - 0s 3ms/step - loss: 0.0271 - accuracy: 0.9922\n",
      "Epoch 123/200\n",
      "4/4 [==============================] - 0s 3ms/step - loss: 0.0016 - accuracy: 1.0000\n",
      "Epoch 124/200\n",
      "4/4 [==============================] - 0s 3ms/step - loss: 0.0146 - accuracy: 0.9922\n",
      "Epoch 125/200\n",
      "4/4 [==============================] - 0s 3ms/step - loss: 0.0118 - accuracy: 0.9922\n",
      "Epoch 126/200\n",
      "4/4 [==============================] - 0s 3ms/step - loss: 0.0320 - accuracy: 0.9922\n",
      "Epoch 127/200\n",
      "4/4 [==============================] - 0s 3ms/step - loss: 0.0041 - accuracy: 1.0000\n",
      "Epoch 128/200\n",
      "4/4 [==============================] - 0s 3ms/step - loss: 0.0776 - accuracy: 0.9844\n",
      "Epoch 129/200\n",
      "4/4 [==============================] - 0s 3ms/step - loss: 0.0102 - accuracy: 0.9922\n",
      "Epoch 130/200\n",
      "4/4 [==============================] - 0s 3ms/step - loss: 0.0019 - accuracy: 1.0000\n",
      "Epoch 131/200\n",
      "4/4 [==============================] - 0s 3ms/step - loss: 0.0245 - accuracy: 0.9922\n",
      "Epoch 132/200\n",
      "4/4 [==============================] - 0s 3ms/step - loss: 0.0645 - accuracy: 0.9922\n",
      "Epoch 133/200\n",
      "4/4 [==============================] - 0s 3ms/step - loss: 9.8668e-04 - accuracy: 1.0000\n",
      "Epoch 134/200\n",
      "4/4 [==============================] - 0s 3ms/step - loss: 0.0091 - accuracy: 1.0000\n",
      "Epoch 135/200\n",
      "4/4 [==============================] - 0s 3ms/step - loss: 0.0146 - accuracy: 0.9922\n",
      "Epoch 136/200\n",
      "4/4 [==============================] - 0s 3ms/step - loss: 7.9540e-04 - accuracy: 1.0000\n",
      "Epoch 137/200\n",
      "4/4 [==============================] - 0s 3ms/step - loss: 0.0014 - accuracy: 1.0000\n",
      "Epoch 138/200\n",
      "4/4 [==============================] - 0s 3ms/step - loss: 0.0334 - accuracy: 0.9844\n",
      "Epoch 139/200\n",
      "4/4 [==============================] - 0s 3ms/step - loss: 0.0014 - accuracy: 1.0000\n",
      "Epoch 140/200\n",
      "4/4 [==============================] - 0s 3ms/step - loss: 0.0013 - accuracy: 1.0000\n",
      "Epoch 141/200\n",
      "4/4 [==============================] - 0s 3ms/step - loss: 0.0127 - accuracy: 0.9922\n",
      "Epoch 142/200\n",
      "4/4 [==============================] - 0s 3ms/step - loss: 0.0134 - accuracy: 0.9922\n",
      "Epoch 143/200\n",
      "4/4 [==============================] - 0s 3ms/step - loss: 0.0162 - accuracy: 0.9844\n",
      "Epoch 144/200\n",
      "4/4 [==============================] - 0s 3ms/step - loss: 0.0229 - accuracy: 0.9922\n",
      "Epoch 145/200\n",
      "4/4 [==============================] - 0s 3ms/step - loss: 0.0042 - accuracy: 1.0000\n",
      "Epoch 146/200\n",
      "4/4 [==============================] - 0s 3ms/step - loss: 2.9172e-04 - accuracy: 1.0000\n",
      "Epoch 147/200\n",
      "4/4 [==============================] - 0s 3ms/step - loss: 0.0017 - accuracy: 1.0000\n",
      "Epoch 148/200\n",
      "4/4 [==============================] - 0s 3ms/step - loss: 0.0336 - accuracy: 0.9922\n",
      "Epoch 149/200\n",
      "4/4 [==============================] - 0s 3ms/step - loss: 0.0292 - accuracy: 0.9922\n",
      "Epoch 150/200\n",
      "4/4 [==============================] - 0s 3ms/step - loss: 0.0436 - accuracy: 0.9922\n",
      "Epoch 151/200\n",
      "4/4 [==============================] - 0s 3ms/step - loss: 0.0024 - accuracy: 1.0000\n",
      "Epoch 152/200\n",
      "4/4 [==============================] - 0s 3ms/step - loss: 4.2091e-04 - accuracy: 1.0000\n",
      "Epoch 153/200\n",
      "4/4 [==============================] - 0s 3ms/step - loss: 0.0028 - accuracy: 1.0000\n",
      "Epoch 154/200\n",
      "4/4 [==============================] - 0s 3ms/step - loss: 0.0049 - accuracy: 1.0000\n",
      "Epoch 155/200\n",
      "4/4 [==============================] - 0s 3ms/step - loss: 0.0026 - accuracy: 1.0000\n",
      "Epoch 156/200\n",
      "4/4 [==============================] - 0s 3ms/step - loss: 0.0834 - accuracy: 0.9922\n",
      "Epoch 157/200\n",
      "4/4 [==============================] - 0s 3ms/step - loss: 0.0160 - accuracy: 0.9922\n",
      "Epoch 158/200\n",
      "4/4 [==============================] - 0s 3ms/step - loss: 0.0041 - accuracy: 1.0000\n",
      "Epoch 159/200\n",
      "4/4 [==============================] - 0s 3ms/step - loss: 0.0015 - accuracy: 1.0000\n",
      "Epoch 160/200\n",
      "4/4 [==============================] - 0s 3ms/step - loss: 6.1231e-04 - accuracy: 1.0000\n",
      "Epoch 161/200\n",
      "4/4 [==============================] - 0s 3ms/step - loss: 0.0286 - accuracy: 0.9922\n",
      "Epoch 162/200\n",
      "4/4 [==============================] - 0s 3ms/step - loss: 0.0031 - accuracy: 1.0000\n",
      "Epoch 163/200\n",
      "4/4 [==============================] - 0s 3ms/step - loss: 0.0025 - accuracy: 1.0000\n",
      "Epoch 164/200\n",
      "4/4 [==============================] - 0s 3ms/step - loss: 0.0094 - accuracy: 0.9922\n",
      "Epoch 165/200\n",
      "4/4 [==============================] - 0s 3ms/step - loss: 6.6949e-04 - accuracy: 1.0000\n",
      "Epoch 166/200\n",
      "4/4 [==============================] - 0s 3ms/step - loss: 2.3265e-04 - accuracy: 1.0000\n",
      "Epoch 167/200\n",
      "4/4 [==============================] - 0s 3ms/step - loss: 0.0037 - accuracy: 1.0000\n",
      "Epoch 168/200\n",
      "4/4 [==============================] - 0s 3ms/step - loss: 0.0017 - accuracy: 1.0000\n",
      "Epoch 169/200\n",
      "4/4 [==============================] - 0s 3ms/step - loss: 0.0103 - accuracy: 0.9922\n",
      "Epoch 170/200\n",
      "4/4 [==============================] - 0s 3ms/step - loss: 7.2661e-04 - accuracy: 1.0000\n",
      "Epoch 171/200\n",
      "4/4 [==============================] - 0s 3ms/step - loss: 1.8462e-04 - accuracy: 1.0000\n",
      "Epoch 172/200\n",
      "4/4 [==============================] - 0s 3ms/step - loss: 4.5733e-04 - accuracy: 1.0000\n",
      "Epoch 173/200\n",
      "4/4 [==============================] - 0s 3ms/step - loss: 2.0445e-04 - accuracy: 1.0000\n",
      "Epoch 174/200\n",
      "4/4 [==============================] - 0s 4ms/step - loss: 0.0568 - accuracy: 0.9922\n",
      "Epoch 175/200\n",
      "4/4 [==============================] - 0s 3ms/step - loss: 0.0016 - accuracy: 1.0000\n",
      "Epoch 176/200\n",
      "4/4 [==============================] - 0s 4ms/step - loss: 0.0011 - accuracy: 1.0000\n",
      "Epoch 177/200\n",
      "4/4 [==============================] - 0s 3ms/step - loss: 0.4042 - accuracy: 0.9844\n",
      "Epoch 178/200\n",
      "4/4 [==============================] - 0s 3ms/step - loss: 0.0015 - accuracy: 1.0000\n",
      "Epoch 179/200\n",
      "4/4 [==============================] - 0s 4ms/step - loss: 4.1783e-04 - accuracy: 1.0000\n",
      "Epoch 180/200\n",
      "4/4 [==============================] - 0s 3ms/step - loss: 0.0044 - accuracy: 1.0000\n",
      "Epoch 181/200\n",
      "4/4 [==============================] - 0s 3ms/step - loss: 4.1146e-04 - accuracy: 1.0000\n",
      "Epoch 182/200\n",
      "4/4 [==============================] - 0s 3ms/step - loss: 0.0024 - accuracy: 1.0000\n",
      "Epoch 183/200\n",
      "4/4 [==============================] - 0s 3ms/step - loss: 0.0139 - accuracy: 0.9922\n",
      "Epoch 184/200\n",
      "4/4 [==============================] - 0s 3ms/step - loss: 0.0035 - accuracy: 1.0000\n",
      "Epoch 185/200\n",
      "4/4 [==============================] - 0s 4ms/step - loss: 0.0259 - accuracy: 0.9922\n",
      "Epoch 186/200\n",
      "4/4 [==============================] - 0s 4ms/step - loss: 0.0865 - accuracy: 0.9922\n",
      "Epoch 187/200\n",
      "4/4 [==============================] - 0s 4ms/step - loss: 0.0157 - accuracy: 0.9922\n",
      "Epoch 188/200\n",
      "4/4 [==============================] - 0s 3ms/step - loss: 0.0260 - accuracy: 0.9844\n",
      "Epoch 189/200\n",
      "4/4 [==============================] - 0s 3ms/step - loss: 0.0142 - accuracy: 0.9922\n",
      "Epoch 190/200\n",
      "4/4 [==============================] - 0s 3ms/step - loss: 0.1145 - accuracy: 0.9844\n",
      "Epoch 191/200\n",
      "4/4 [==============================] - 0s 3ms/step - loss: 0.0063 - accuracy: 1.0000\n",
      "Epoch 192/200\n",
      "4/4 [==============================] - 0s 3ms/step - loss: 0.0040 - accuracy: 1.0000\n",
      "Epoch 193/200\n",
      "4/4 [==============================] - 0s 4ms/step - loss: 0.0304 - accuracy: 0.9922\n",
      "Epoch 194/200\n",
      "4/4 [==============================] - 0s 4ms/step - loss: 0.0071 - accuracy: 1.0000\n",
      "Epoch 195/200\n",
      "4/4 [==============================] - 0s 3ms/step - loss: 0.0144 - accuracy: 0.9922\n",
      "Epoch 196/200\n",
      "4/4 [==============================] - 0s 3ms/step - loss: 0.0671 - accuracy: 0.9766\n",
      "Epoch 197/200\n",
      "4/4 [==============================] - 0s 3ms/step - loss: 0.0117 - accuracy: 0.9922\n",
      "Epoch 198/200\n",
      "4/4 [==============================] - 0s 3ms/step - loss: 0.0067 - accuracy: 1.0000\n",
      "Epoch 199/200\n",
      "4/4 [==============================] - 0s 3ms/step - loss: 0.0075 - accuracy: 1.0000\n",
      "Epoch 200/200\n",
      "4/4 [==============================] - 0s 3ms/step - loss: 0.0272 - accuracy: 0.9922\n"
     ]
    },
    {
     "data": {
      "text/plain": [
       "<keras.callbacks.History at 0x7fa7492d0310>"
      ]
     },
     "execution_count": 87,
     "metadata": {},
     "output_type": "execute_result"
    }
   ],
   "source": [
    "# defining some parameters\n",
    "input_shape = (len(train_X[0]),)\n",
    "output_shape = len(train_y[0])\n",
    "epochs = 200\n",
    "# the deep learning model\n",
    "model = Sequential()\n",
    "model.add(Dense(128, input_shape=input_shape, activation=\"relu\"))\n",
    "model.add(Dropout(0.5))\n",
    "model.add(Dense(64, activation=\"relu\"))\n",
    "model.add(Dropout(0.3))\n",
    "model.add(Dense(output_shape, activation = \"softmax\"))\n",
    "adam = tf.keras.optimizers.Adam(learning_rate=0.01, decay=1e-6)\n",
    "model.compile(loss='categorical_crossentropy',\n",
    "              optimizer=adam,\n",
    "              metrics=[\"accuracy\"])\n",
    "print(model.summary())\n",
    "model.fit(x=train_X, y=train_y, epochs=200, verbose=1)"
   ]
  },
  {
   "cell_type": "code",
   "execution_count": 88,
   "metadata": {
    "id": "xNx1vBrTZR0s"
   },
   "outputs": [],
   "source": [
    "def clean_text(text): \n",
    "  tokens = nltk.word_tokenize(text)\n",
    "  tokens = [lemmatizer.lemmatize(word) for word in tokens]\n",
    "  return tokens\n",
    "\n",
    "def bag_of_words(text, vocab): \n",
    "  tokens = clean_text(text)\n",
    "  bow = [0] * len(vocab)\n",
    "  for w in tokens: \n",
    "    for idx, word in enumerate(vocab):\n",
    "      if word == w: \n",
    "        bow[idx] = 1\n",
    "  return np.array(bow)\n",
    "\n",
    "def pred_class(text, vocab, labels): \n",
    "  bow = bag_of_words(text, vocab)\n",
    "  result = model.predict(np.array([bow]))[0]\n",
    "  thresh = 0.2\n",
    "  y_pred = [[idx, res] for idx, res in enumerate(result) if res > thresh]\n",
    "\n",
    "  y_pred.sort(key=lambda x: x[1], reverse=True)\n",
    "  return_list = []\n",
    "  for r in y_pred:\n",
    "    return_list.append(labels[r[0]])\n",
    "  return return_list\n",
    "\n",
    "def get_response(intents_list, intents_json): \n",
    "  tag = intents_list[0]\n",
    "  list_of_intents = intents_json[\"intents\"]\n",
    "  for i in list_of_intents: \n",
    "    if i[\"tag\"] == tag:\n",
    "      result = random.choice(i[\"responses\"])\n",
    "      break\n",
    "  return result"
   ]
  },
  {
   "cell_type": "code",
   "execution_count": 111,
   "metadata": {
    "colab": {
     "base_uri": "https://localhost:8080/"
    },
    "id": "DLuQtjHggDk9",
    "outputId": "90df9a56-5ce4-4e32-aa7a-c69ce94657d6"
   },
   "outputs": [
    {
     "name": "stdout",
     "output_type": "stream",
     "text": [
      "BOT: My name is Ani. Let's have a conversation! Also, if you want to exit any time, just type stop!\n",
      "Hi, can you tell me what is svc?\n",
      "1/1 [==============================] - 0s 15ms/step\n",
      "Hello! how can i help you ?\n",
      "what is svc?\n",
      "1/1 [==============================] - 0s 16ms/step\n",
      "Hello! how can i help you ?\n",
      "what is knn?\n",
      "1/1 [==============================] - 0s 15ms/step\n",
      "Link: Machine Learning wiki \n",
      "what is logistic regression\n",
      "1/1 [==============================] - 0s 15ms/step\n",
      "Link: Machine Learning wiki \n",
      "what's with this crap response?\n",
      "1/1 [==============================] - 0s 16ms/step\n",
      "Link: Neural Nets wiki\n",
      "you are so stupid\n",
      "1/1 [==============================] - 0s 15ms/step\n",
      "Please use respectful words\n",
      "not at all satisfied\n",
      "1/1 [==============================] - 0s 15ms/step\n",
      "Tarnsferring the request to your PM\n",
      "stop\n",
      "1/1 [==============================] - 0s 14ms/step\n",
      "Hello! how can i help you ?\n",
      "OK Bye!\n"
     ]
    }
   ],
   "source": [
    "# running the chatbot\n",
    "print(\"BOT: My name is Ani. Let's have a conversation! Also, if you want to exit any time, just type stop!\")\n",
    "while True:\n",
    "    message = input(\"\").lower()\n",
    "    intents = pred_class(message, words, classes)\n",
    "    result = get_response(intents, Corpus)\n",
    "    print(result)\n",
    "    if message == \"stop\":\n",
    "      print(\"OK Bye!\")\n",
    "      break"
   ]
  },
  {
   "cell_type": "code",
   "execution_count": null,
   "metadata": {
    "id": "v-gVIfB1obbq"
   },
   "outputs": [],
   "source": []
  }
 ],
 "metadata": {
  "accelerator": "GPU",
  "colab": {
   "collapsed_sections": [],
   "machine_shape": "hm",
   "provenance": []
  },
  "gpuClass": "premium",
  "kernelspec": {
   "display_name": "Python 3",
   "language": "python",
   "name": "python3"
  },
  "language_info": {
   "codemirror_mode": {
    "name": "ipython",
    "version": 3
   },
   "file_extension": ".py",
   "mimetype": "text/x-python",
   "name": "python",
   "nbconvert_exporter": "python",
   "pygments_lexer": "ipython3",
   "version": "3.8.5"
  }
 },
 "nbformat": 4,
 "nbformat_minor": 1
}
